{
 "cells": [
  {
   "cell_type": "markdown",
   "metadata": {},
   "source": [
    "Python version used: **3.9.13**"
   ]
  },
  {
   "cell_type": "markdown",
   "metadata": {},
   "source": [
    "Imports:"
   ]
  },
  {
   "cell_type": "code",
   "execution_count": 978,
   "metadata": {},
   "outputs": [],
   "source": [
    "import torch\n",
    "import torch.nn as nn\n",
    "import torch.optim as optim\n",
    "from torchvision.io import read_image\n",
    "from torch.utils.data import Dataset, DataLoader\n",
    "import csv\n",
    "import numpy as np\n",
    "from sklearn.decomposition import PCA\n",
    "from sklearn.linear_model import LinearRegression\n",
    "from sklearn.model_selection import train_test_split\n",
    "from sklearn.metrics import r2_score\n",
    "import matplotlib.pyplot as plt\n",
    "import pandas as pd"
   ]
  },
  {
   "cell_type": "markdown",
   "metadata": {},
   "source": [
    "Check that cuda is available (when using my own system):"
   ]
  },
  {
   "cell_type": "code",
   "execution_count": 919,
   "metadata": {},
   "outputs": [
    {
     "data": {
      "text/plain": [
       "True"
      ]
     },
     "execution_count": 919,
     "metadata": {},
     "output_type": "execute_result"
    }
   ],
   "source": [
    "torch.cuda.is_available()"
   ]
  },
  {
   "cell_type": "markdown",
   "metadata": {},
   "source": [
    "# Q1:"
   ]
  },
  {
   "cell_type": "markdown",
   "metadata": {},
   "source": [
    "(a)"
   ]
  },
  {
   "cell_type": "code",
   "execution_count": 920,
   "metadata": {},
   "outputs": [],
   "source": [
    "with open(\".\\\\PADL Data\\\\PADL-Q1.csv\") as q1_file:\n",
    "  q1_data = []\n",
    "  q1_dataset = csv.reader(q1_file, delimiter=',')\n",
    "  for row in q1_dataset:\n",
    "    if row[0] != 'x1':\n",
    "      q1_data.append(row)"
   ]
  },
  {
   "cell_type": "code",
   "execution_count": 921,
   "metadata": {},
   "outputs": [
    {
     "name": "stdout",
     "output_type": "stream",
     "text": [
      "[0.53846279 0.30067823 0.1026325  0.04605826 0.01216823]\n"
     ]
    }
   ],
   "source": [
    "pca = PCA(n_components=5)\n",
    "pca.fit(q1_data)\n",
    "newData = pca.fit_transform(q1_data)\n",
    "pca_var_percentage = pca.explained_variance_ratio_\n",
    "print(pca_var_percentage)"
   ]
  },
  {
   "cell_type": "code",
   "execution_count": 922,
   "metadata": {},
   "outputs": [
    {
     "name": "stdout",
     "output_type": "stream",
     "text": [
      "Information retained with 3 variables = 94.177351%\n",
      "\n",
      "Information retained with 4 variables = 98.783177%\n"
     ]
    }
   ],
   "source": [
    "three_dims = pca_var_percentage[0]+pca_var_percentage[1]+pca_var_percentage[2]\n",
    "print(\"Information retained with 3 variables = %f%%\\n\"%(three_dims*100.0))\n",
    "print(\"Information retained with 4 variables = %f%%\"%((three_dims + pca_var_percentage[3])*100.0))"
   ]
  },
  {
   "cell_type": "markdown",
   "metadata": {},
   "source": [
    "Reducing the dimensionality of the dataset by 1 dimension causes information loss of 1.22%. Reducing it by 2 dimensions (down to 3) causes information loss of 5.82% however it is now possible to plot the dataset on a 3D axis, whereas this is not possible with 4 dimensions. Therefore, D_min = 3.\n",
    "\n",
    "\n",
    "\n",
    "\n",
    "\n",
    "(b)"
   ]
  },
  {
   "cell_type": "code",
   "execution_count": 975,
   "metadata": {},
   "outputs": [],
   "source": [
    "pca2 = PCA(n_components=3)\n",
    "pca2.fit(q1_data)\n",
    "newData2 = pca2.fit_transform(q1_data)\n",
    "pca2_components = pca2.components_"
   ]
  },
  {
   "cell_type": "code",
   "execution_count": 974,
   "metadata": {},
   "outputs": [
    {
     "name": "stdout",
     "output_type": "stream",
     "text": [
      "-0.092819*x1 + 0.025272*x2 + -0.348770*x3 + 0.145083*x4 + -0.920900*x5\n",
      "\n",
      "0.005624*x1 + -0.298705*x2 + -0.114221*x3 + -0.940623*x4 + -0.113695*x5\n",
      "\n",
      "0.112668*x1 + -0.133156*x2 + 0.914203*x3 + -0.023934*x4 + -0.365014*x5\n",
      "\n"
     ]
    }
   ],
   "source": [
    "for line in pca2_components:\n",
    "    print(\"%f*x1 + %f*x2 + %f*x3 + %f*x4 + %f*x5\\n\"%(line[0],line[1],line[2],line[3],line[4]))"
   ]
  },
  {
   "cell_type": "markdown",
   "metadata": {},
   "source": [
    "# Q2:"
   ]
  },
  {
   "cell_type": "markdown",
   "metadata": {},
   "source": [
    "Read data into a Pandas Dataframe:"
   ]
  },
  {
   "cell_type": "code",
   "execution_count": 925,
   "metadata": {},
   "outputs": [
    {
     "data": {
      "text/html": [
       "<div>\n",
       "<style scoped>\n",
       "    .dataframe tbody tr th:only-of-type {\n",
       "        vertical-align: middle;\n",
       "    }\n",
       "\n",
       "    .dataframe tbody tr th {\n",
       "        vertical-align: top;\n",
       "    }\n",
       "\n",
       "    .dataframe thead th {\n",
       "        text-align: right;\n",
       "    }\n",
       "</style>\n",
       "<table border=\"1\" class=\"dataframe\">\n",
       "  <thead>\n",
       "    <tr style=\"text-align: right;\">\n",
       "      <th></th>\n",
       "      <th>x</th>\n",
       "      <th>y</th>\n",
       "      <th>z</th>\n",
       "      <th>w</th>\n",
       "      <th>out</th>\n",
       "    </tr>\n",
       "  </thead>\n",
       "  <tbody>\n",
       "    <tr>\n",
       "      <th>0</th>\n",
       "      <td>66.4774</td>\n",
       "      <td>1.6495</td>\n",
       "      <td>0.7613</td>\n",
       "      <td>0.1</td>\n",
       "      <td>-0.0209</td>\n",
       "    </tr>\n",
       "    <tr>\n",
       "      <th>1</th>\n",
       "      <td>15.1422</td>\n",
       "      <td>2.2292</td>\n",
       "      <td>0.0050</td>\n",
       "      <td>0.1</td>\n",
       "      <td>0.1281</td>\n",
       "    </tr>\n",
       "    <tr>\n",
       "      <th>2</th>\n",
       "      <td>87.9859</td>\n",
       "      <td>2.1449</td>\n",
       "      <td>0.2217</td>\n",
       "      <td>0.1</td>\n",
       "      <td>0.1289</td>\n",
       "    </tr>\n",
       "    <tr>\n",
       "      <th>3</th>\n",
       "      <td>79.4979</td>\n",
       "      <td>2.0901</td>\n",
       "      <td>0.0396</td>\n",
       "      <td>0.1</td>\n",
       "      <td>0.1442</td>\n",
       "    </tr>\n",
       "    <tr>\n",
       "      <th>4</th>\n",
       "      <td>36.5181</td>\n",
       "      <td>2.0992</td>\n",
       "      <td>0.2040</td>\n",
       "      <td>0.0</td>\n",
       "      <td>-0.0131</td>\n",
       "    </tr>\n",
       "    <tr>\n",
       "      <th>...</th>\n",
       "      <td>...</td>\n",
       "      <td>...</td>\n",
       "      <td>...</td>\n",
       "      <td>...</td>\n",
       "      <td>...</td>\n",
       "    </tr>\n",
       "    <tr>\n",
       "      <th>75</th>\n",
       "      <td>7.5622</td>\n",
       "      <td>2.2608</td>\n",
       "      <td>0.0785</td>\n",
       "      <td>0.1</td>\n",
       "      <td>0.3158</td>\n",
       "    </tr>\n",
       "    <tr>\n",
       "      <th>76</th>\n",
       "      <td>10.7811</td>\n",
       "      <td>2.0351</td>\n",
       "      <td>0.6939</td>\n",
       "      <td>0.1</td>\n",
       "      <td>0.0325</td>\n",
       "    </tr>\n",
       "    <tr>\n",
       "      <th>77</th>\n",
       "      <td>57.3595</td>\n",
       "      <td>2.2470</td>\n",
       "      <td>0.3667</td>\n",
       "      <td>0.0</td>\n",
       "      <td>0.0675</td>\n",
       "    </tr>\n",
       "    <tr>\n",
       "      <th>78</th>\n",
       "      <td>4.4803</td>\n",
       "      <td>1.6897</td>\n",
       "      <td>0.0544</td>\n",
       "      <td>0.1</td>\n",
       "      <td>0.3627</td>\n",
       "    </tr>\n",
       "    <tr>\n",
       "      <th>79</th>\n",
       "      <td>66.7055</td>\n",
       "      <td>2.0152</td>\n",
       "      <td>0.0385</td>\n",
       "      <td>0.1</td>\n",
       "      <td>0.0841</td>\n",
       "    </tr>\n",
       "  </tbody>\n",
       "</table>\n",
       "<p>80 rows × 5 columns</p>\n",
       "</div>"
      ],
      "text/plain": [
       "          x       y       z    w     out\n",
       "0   66.4774  1.6495  0.7613  0.1 -0.0209\n",
       "1   15.1422  2.2292  0.0050  0.1  0.1281\n",
       "2   87.9859  2.1449  0.2217  0.1  0.1289\n",
       "3   79.4979  2.0901  0.0396  0.1  0.1442\n",
       "4   36.5181  2.0992  0.2040  0.0 -0.0131\n",
       "..      ...     ...     ...  ...     ...\n",
       "75   7.5622  2.2608  0.0785  0.1  0.3158\n",
       "76  10.7811  2.0351  0.6939  0.1  0.0325\n",
       "77  57.3595  2.2470  0.3667  0.0  0.0675\n",
       "78   4.4803  1.6897  0.0544  0.1  0.3627\n",
       "79  66.7055  2.0152  0.0385  0.1  0.0841\n",
       "\n",
       "[80 rows x 5 columns]"
      ]
     },
     "execution_count": 925,
     "metadata": {},
     "output_type": "execute_result"
    }
   ],
   "source": [
    "q2_data = pd.read_csv(\".\\\\PADL Data\\\\PADL-Q2-train.csv\")\n",
    "q2_data"
   ]
  },
  {
   "cell_type": "markdown",
   "metadata": {},
   "source": [
    "Split into train and test data:"
   ]
  },
  {
   "cell_type": "code",
   "execution_count": 968,
   "metadata": {},
   "outputs": [],
   "source": [
    "X = q2_data.drop('out', axis=1)\n",
    "y = q2_data['out']\n",
    "# Split 70:10 train:test\n",
    "X_train,X_test,y_train,y_test = train_test_split(X, y, test_size=0.125)"
   ]
  },
  {
   "cell_type": "markdown",
   "metadata": {},
   "source": [
    "Fit a LR model, compare predicted vs actual values, calculate R2 score:"
   ]
  },
  {
   "cell_type": "code",
   "execution_count": 969,
   "metadata": {},
   "outputs": [
    {
     "name": "stdout",
     "output_type": "stream",
     "text": [
      "Predicted vs actual: 0.0460 vs 0.0325\n",
      "Predicted vs actual: -0.0321 vs 0.1666\n",
      "Predicted vs actual: 0.0057 vs 0.096\n",
      "Predicted vs actual: -0.0541 vs 0.0174\n",
      "Predicted vs actual: -0.0484 vs -0.3139\n",
      "Predicted vs actual: -0.0570 vs -0.0329\n",
      "Predicted vs actual: 0.0480 vs 0.0584\n",
      "Predicted vs actual: 0.1775 vs 0.1281\n",
      "Predicted vs actual: -0.0436 vs -0.1143\n",
      "Predicted vs actual: -0.1048 vs -0.0941\n",
      "\n",
      "R2 score: 0.266095\n"
     ]
    }
   ],
   "source": [
    "regr = LinearRegression()\n",
    "regr.fit(X_train,y_train)\n",
    "y_pred = regr.predict(X_test)\n",
    "\n",
    "r2 = r2_score(y_test,y_pred)\n",
    "\n",
    "for y1,y2 in zip(y_test,y_pred):\n",
    "    print(f'Predicted vs actual: {y2:.4f} vs {y1}')\n",
    "\n",
    "print(f'\\nR2 score: {r2:.6f}')"
   ]
  },
  {
   "cell_type": "markdown",
   "metadata": {},
   "source": [
    "# Q3:"
   ]
  },
  {
   "cell_type": "code",
   "execution_count": 836,
   "metadata": {},
   "outputs": [],
   "source": [
    "# code"
   ]
  },
  {
   "cell_type": "markdown",
   "metadata": {},
   "source": [
    "# Q4:"
   ]
  },
  {
   "cell_type": "markdown",
   "metadata": {},
   "source": [
    "Define MLP using Fully Connected and ReLU layers only:"
   ]
  },
  {
   "cell_type": "code",
   "execution_count": 837,
   "metadata": {},
   "outputs": [],
   "source": [
    "class MultiplyMLP(nn.Module):\n",
    "    def __init__(self, inputSize, hiddenSize):\n",
    "        super(MultiplyMLP, self).__init__()\n",
    "        self.linear1 = nn.Linear(inputSize,hiddenSize)\n",
    "        self.relu = nn.ReLU()\n",
    "        self.linear2 = nn.Linear(hiddenSize,1)\n",
    "    \n",
    "    def forward(self,x):\n",
    "        x = self.linear1(x)\n",
    "        x = self.relu(x)\n",
    "        x = self.linear2(x)\n",
    "        return x"
   ]
  },
  {
   "cell_type": "markdown",
   "metadata": {},
   "source": [
    "Function to generate random training data in the range [-100,100):"
   ]
  },
  {
   "cell_type": "code",
   "execution_count": 838,
   "metadata": {},
   "outputs": [],
   "source": [
    "def generate_data(low,high,num_samples):\n",
    "    x1 = np.random.uniform(low,high, num_samples)\n",
    "    x2 = np.random.uniform(low,high, num_samples)\n",
    "    y_true = x1 * x2\n",
    "    data = torch.tensor(np.column_stack((x1, x2))).to(torch.float32)\n",
    "    labels = torch.tensor(y_true).reshape(-1, 1)\n",
    "    return data, labels"
   ]
  },
  {
   "cell_type": "markdown",
   "metadata": {},
   "source": [
    "Run training loop to train on random data:"
   ]
  },
  {
   "cell_type": "code",
   "execution_count": 853,
   "metadata": {},
   "outputs": [
    {
     "name": "stdout",
     "output_type": "stream",
     "text": [
      "Epoch [250/2500], Loss: 484.3439\n",
      "Epoch [500/2500], Loss: 59.1463\n",
      "Epoch [750/2500], Loss: 35.2539\n",
      "Epoch [1000/2500], Loss: 25.0462\n",
      "Epoch [1250/2500], Loss: 17.9120\n",
      "Epoch [1500/2500], Loss: 18.7607\n",
      "Epoch [1750/2500], Loss: 21.7993\n",
      "Epoch [2000/2500], Loss: 11.1678\n",
      "Epoch [2250/2500], Loss: 29.3656\n",
      "Epoch [2500/2500], Loss: 13.1172\n"
     ]
    }
   ],
   "source": [
    "# Define hyperparameters\n",
    "input_size = 2\n",
    "hidden_size = 64\n",
    "learning_rate = 0.01\n",
    "num_epochs = 2500\n",
    "batch_size = 32\n",
    "num_samples = 3000\n",
    "# Use L1Loss for absolute error\n",
    "criterion = nn.L1Loss()\n",
    "\n",
    "model = MultiplyMLP(input_size,hidden_size)\n",
    "optimiser = optim.Adam(model.parameters(), lr=learning_rate)\n",
    "\n",
    "# Create list to store loss values in for plotting\n",
    "losses = []\n",
    "\n",
    "for epoch in range(num_epochs):\n",
    "    for i in range(0,num_samples,batch_size):\n",
    "        data,labels = generate_data(-100,100,batch_size)\n",
    "\n",
    "        output = model(data)\n",
    "        loss = criterion(output, labels)\n",
    "\n",
    "        optimiser.zero_grad()\n",
    "        loss.backward()\n",
    "        optimiser.step()\n",
    "\n",
    "    if (epoch+1) % 250 == 0:\n",
    "        print(f'Epoch [{epoch+1}/{num_epochs}], Loss: {loss.item():.4f}')\n",
    "    if (epoch+1) % 10 == 0:\n",
    "        losses.append(loss.item())\n",
    "\n"
   ]
  },
  {
   "cell_type": "code",
   "execution_count": 895,
   "metadata": {},
   "outputs": [
    {
     "data": {
      "text/plain": [
       "[<matplotlib.lines.Line2D at 0x1975cdfbd90>]"
      ]
     },
     "execution_count": 895,
     "metadata": {},
     "output_type": "execute_result"
    },
    {
     "data": {
      "image/png": "[encoded data removed]",
      "text/plain": [
       "<Figure size 640x480 with 1 Axes>"
      ]
     },
     "metadata": {},
     "output_type": "display_data"
    }
   ],
   "source": [
    "epochs = np.arange(1,2501,10)\n",
    "plt.xlabel(\"Epoch\")\n",
    "plt.ylabel(\"Absolute Loss\")\n",
    "plt.plot(epochs,losses)"
   ]
  },
  {
   "cell_type": "markdown",
   "metadata": {},
   "source": [
    "Evaluate and compare random example's predicted value vs real value:"
   ]
  },
  {
   "cell_type": "code",
   "execution_count": 870,
   "metadata": {},
   "outputs": [
    {
     "name": "stdout",
     "output_type": "stream",
     "text": [
      "x1, x2 = 80.8401260, 41.0332031\n",
      "Predicted vs Actual value: 3311.172607421875 vs 3317.129431968375\n",
      "Test L1 Loss: 5.9568245\n"
     ]
    }
   ],
   "source": [
    "x,y = generate_data(-100,100,1)\n",
    "\n",
    "with torch.no_grad():\n",
    "    model.eval()\n",
    "    y_pred = model(x)\n",
    "l1 = criterion(y_pred,y).item()\n",
    "\n",
    "print(f'x1, x2 = {x[0][0]:.7f}, {x[0][1]:.7f}')\n",
    "print(f'Predicted vs Actual value: {y_pred[0][0]} vs {y[0][0]}')\n",
    "print(f'Test L1 Loss: {l1:.7f}')"
   ]
  },
  {
   "cell_type": "markdown",
   "metadata": {},
   "source": [
    "Generate 100 random samples to test and evaluate average loss within range of training data:"
   ]
  },
  {
   "cell_type": "code",
   "execution_count": 887,
   "metadata": {},
   "outputs": [
    {
     "name": "stdout",
     "output_type": "stream",
     "text": [
      "Average loss within range of training data = 25.8398034\n"
     ]
    }
   ],
   "source": [
    "x_val,y_val = generate_data(-100,100,100)\n",
    "model.eval()\n",
    "\n",
    "total_loss = 0\n",
    "for i in range(100):\n",
    "    with torch.no_grad():\n",
    "        y_pred = model(x_val[i])\n",
    "        l1 = criterion(y_pred,y_val[i])\n",
    "    total_loss+=l1\n",
    "\n",
    "print(f'Average loss within range of training data = {total_loss/100:.7f}')"
   ]
  },
  {
   "cell_type": "markdown",
   "metadata": {},
   "source": [
    "Generate 100 random samples outside range of training data and calculate average loss:"
   ]
  },
  {
   "cell_type": "code",
   "execution_count": 893,
   "metadata": {},
   "outputs": [
    {
     "name": "stdout",
     "output_type": "stream",
     "text": [
      "Average loss outside range of training data = 43525.8565285\n"
     ]
    }
   ],
   "source": [
    "x_test_neg,y_test_neg = generate_data(-500,-100,50)\n",
    "x_test_pos,y_test_pos = generate_data(100.01,500,50)\n",
    "\n",
    "total_loss = 0\n",
    "for i in range(50):\n",
    "    with torch.no_grad():\n",
    "        y_pred = model(x_test_neg[i])\n",
    "        l1 = criterion(y_pred,y_test_neg[i])\n",
    "    total_loss+=l1\n",
    "\n",
    "for i in range(50):\n",
    "    with torch.no_grad():\n",
    "        y_pred = model(x_test_pos[i])\n",
    "        l1 = criterion(y_pred,y_test_pos[i])\n",
    "    total_loss+=l1\n",
    "\n",
    "print(f'Average loss outside range of training data = {total_loss/100:.7f}')"
   ]
  },
  {
   "cell_type": "markdown",
   "metadata": {},
   "source": [
    "# Q5:"
   ]
  },
  {
   "cell_type": "code",
   "execution_count": 980,
   "metadata": {},
   "outputs": [],
   "source": [
    "# TODO: figure out a way to read the images and labels into arrays"
   ]
  },
  {
   "cell_type": "code",
   "execution_count": null,
   "metadata": {},
   "outputs": [],
   "source": [
    "class ClocksDataset(Dataset):\n",
    "    \"\"\"Custom Clocks Dataset\"\"\"\n",
    "\n",
    "    def __init__(self,data,labels):\n",
    "        self.data = data\n",
    "        self.labels = labels\n",
    "\n",
    "    def __len__(self):\n",
    "        return self.data.shape[0]\n",
    "    \n",
    "    # TODO: implement this function\n",
    "    def __getitem__(self,idx):\n",
    "        return"
   ]
  }
 ],
 "metadata": {
  "kernelspec": {
   "display_name": "base",
   "language": "python",
   "name": "python3"
  },
  "language_info": {
   "codemirror_mode": {
    "name": "ipython",
    "version": 3
   },
   "file_extension": ".py",
   "mimetype": "text/x-python",
   "name": "python",
   "nbconvert_exporter": "python",
   "pygments_lexer": "ipython3",
   "version": "3.9.13"
  }
 },
 "nbformat": 4,
 "nbformat_minor": 2
}
