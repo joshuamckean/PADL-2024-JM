{
 "cells": [
  {
   "cell_type": "markdown",
   "metadata": {},
   "source": [
    "Python version used: **3.9.13**"
   ]
  },
  {
   "cell_type": "markdown",
   "metadata": {},
   "source": [
    "Imports:"
   ]
  },
  {
   "cell_type": "code",
   "execution_count": 49,
   "metadata": {},
   "outputs": [],
   "source": [
    "import torch\n",
    "import torch.nn as nn\n",
    "import torch.optim as optim\n",
    "from torchvision.io import read_image\n",
    "from torch.utils.data import Dataset, DataLoader\n",
    "import csv\n",
    "import numpy as np\n",
    "from sklearn.decomposition import PCA\n",
    "from sklearn.linear_model import LinearRegression\n",
    "from sklearn.model_selection import train_test_split\n",
    "from sklearn.metrics import r2_score\n",
    "import matplotlib.pyplot as plt\n",
    "import pandas as pd\n",
    "from gensim.models import Word2Vec\n",
    "from gensim import utils\n",
    "from gensim.test.utils import datapath"
   ]
  },
  {
   "cell_type": "markdown",
   "metadata": {},
   "source": [
    "Check that CUDA is available (when using my own system):"
   ]
  },
  {
   "cell_type": "code",
   "execution_count": 2,
   "metadata": {},
   "outputs": [
    {
     "data": {
      "text/plain": [
       "True"
      ]
     },
     "execution_count": 2,
     "metadata": {},
     "output_type": "execute_result"
    }
   ],
   "source": [
    "torch.cuda.is_available()"
   ]
  },
  {
   "cell_type": "markdown",
   "metadata": {},
   "source": [
    "# Q1:"
   ]
  },
  {
   "cell_type": "markdown",
   "metadata": {},
   "source": [
    "(a)"
   ]
  },
  {
   "cell_type": "code",
   "execution_count": 3,
   "metadata": {},
   "outputs": [],
   "source": [
    "with open(\"PADL-Q1.csv\") as q1_file:\n",
    "  q1_data = []\n",
    "  q1_dataset = csv.reader(q1_file, delimiter=',')\n",
    "  for row in q1_dataset:\n",
    "    if row[0] != 'x1':\n",
    "      q1_data.append(row)"
   ]
  },
  {
   "cell_type": "code",
   "execution_count": 4,
   "metadata": {},
   "outputs": [
    {
     "name": "stdout",
     "output_type": "stream",
     "text": [
      "[0.53846279 0.30067823 0.1026325  0.04605826 0.01216823]\n"
     ]
    }
   ],
   "source": [
    "pca = PCA(n_components=5)\n",
    "pca.fit(q1_data)\n",
    "newData = pca.fit_transform(q1_data)\n",
    "pca_var_percentage = pca.explained_variance_ratio_\n",
    "print(pca_var_percentage)"
   ]
  },
  {
   "cell_type": "code",
   "execution_count": 5,
   "metadata": {},
   "outputs": [
    {
     "name": "stdout",
     "output_type": "stream",
     "text": [
      "Information retained with 3 variables = 94.177351%\n",
      "\n",
      "Information retained with 4 variables = 98.783177%\n"
     ]
    }
   ],
   "source": [
    "three_dims = pca_var_percentage[0]+pca_var_percentage[1]+pca_var_percentage[2]\n",
    "print(\"Information retained with 3 variables = %f%%\\n\"%(three_dims*100.0))\n",
    "print(\"Information retained with 4 variables = %f%%\"%((three_dims + pca_var_percentage[3])*100.0))"
   ]
  },
  {
   "cell_type": "markdown",
   "metadata": {},
   "source": [
    "Reducing the dimensionality of the dataset by 1 dimension causes information loss of 1.22%. Reducing it by 2 dimensions (down to 3) causes information loss of 5.82% however it is now possible to plot the dataset on a 3D axis, whereas this is not possible with 4 dimensions. Therefore, D_min = 3.\n",
    "\n",
    "\n",
    "\n",
    "\n",
    "\n",
    "(b)"
   ]
  },
  {
   "cell_type": "code",
   "execution_count": 6,
   "metadata": {},
   "outputs": [],
   "source": [
    "pca2 = PCA(n_components=3)\n",
    "pca2.fit(q1_data)\n",
    "newData2 = pca2.fit_transform(q1_data)\n",
    "pca2_components = pca2.components_"
   ]
  },
  {
   "cell_type": "code",
   "execution_count": 7,
   "metadata": {},
   "outputs": [
    {
     "name": "stdout",
     "output_type": "stream",
     "text": [
      "PC1: -0.092819*x1 + 0.025272*x2 + -0.348770*x3 + 0.145083*x4 + -0.920900*x5\n",
      "\n",
      "PC2: 0.005624*x1 + -0.298705*x2 + -0.114221*x3 + -0.940623*x4 + -0.113695*x5\n",
      "\n",
      "PC3: 0.112668*x1 + -0.133156*x2 + 0.914203*x3 + -0.023934*x4 + -0.365014*x5\n",
      "\n"
     ]
    }
   ],
   "source": [
    "i = 1\n",
    "for line in pca2_components:\n",
    "    print(\"PC%i: %f*x1 + %f*x2 + %f*x3 + %f*x4 + %f*x5\\n\"%(i,line[0],line[1],line[2],line[3],line[4]))\n",
    "    i+=1"
   ]
  },
  {
   "cell_type": "markdown",
   "metadata": {},
   "source": [
    "# Q2:"
   ]
  },
  {
   "cell_type": "markdown",
   "metadata": {},
   "source": [
    "Read data into a Pandas Dataframe:"
   ]
  },
  {
   "cell_type": "code",
   "execution_count": 8,
   "metadata": {},
   "outputs": [
    {
     "data": {
      "text/html": [
       "<div>\n",
       "<style scoped>\n",
       "    .dataframe tbody tr th:only-of-type {\n",
       "        vertical-align: middle;\n",
       "    }\n",
       "\n",
       "    .dataframe tbody tr th {\n",
       "        vertical-align: top;\n",
       "    }\n",
       "\n",
       "    .dataframe thead th {\n",
       "        text-align: right;\n",
       "    }\n",
       "</style>\n",
       "<table border=\"1\" class=\"dataframe\">\n",
       "  <thead>\n",
       "    <tr style=\"text-align: right;\">\n",
       "      <th></th>\n",
       "      <th>x</th>\n",
       "      <th>y</th>\n",
       "      <th>z</th>\n",
       "      <th>w</th>\n",
       "      <th>out</th>\n",
       "    </tr>\n",
       "  </thead>\n",
       "  <tbody>\n",
       "    <tr>\n",
       "      <th>0</th>\n",
       "      <td>66.4774</td>\n",
       "      <td>1.6495</td>\n",
       "      <td>0.7613</td>\n",
       "      <td>0.1</td>\n",
       "      <td>-0.0209</td>\n",
       "    </tr>\n",
       "    <tr>\n",
       "      <th>1</th>\n",
       "      <td>15.1422</td>\n",
       "      <td>2.2292</td>\n",
       "      <td>0.0050</td>\n",
       "      <td>0.1</td>\n",
       "      <td>0.1281</td>\n",
       "    </tr>\n",
       "    <tr>\n",
       "      <th>2</th>\n",
       "      <td>87.9859</td>\n",
       "      <td>2.1449</td>\n",
       "      <td>0.2217</td>\n",
       "      <td>0.1</td>\n",
       "      <td>0.1289</td>\n",
       "    </tr>\n",
       "    <tr>\n",
       "      <th>3</th>\n",
       "      <td>79.4979</td>\n",
       "      <td>2.0901</td>\n",
       "      <td>0.0396</td>\n",
       "      <td>0.1</td>\n",
       "      <td>0.1442</td>\n",
       "    </tr>\n",
       "    <tr>\n",
       "      <th>4</th>\n",
       "      <td>36.5181</td>\n",
       "      <td>2.0992</td>\n",
       "      <td>0.2040</td>\n",
       "      <td>0.0</td>\n",
       "      <td>-0.0131</td>\n",
       "    </tr>\n",
       "    <tr>\n",
       "      <th>...</th>\n",
       "      <td>...</td>\n",
       "      <td>...</td>\n",
       "      <td>...</td>\n",
       "      <td>...</td>\n",
       "      <td>...</td>\n",
       "    </tr>\n",
       "    <tr>\n",
       "      <th>75</th>\n",
       "      <td>7.5622</td>\n",
       "      <td>2.2608</td>\n",
       "      <td>0.0785</td>\n",
       "      <td>0.1</td>\n",
       "      <td>0.3158</td>\n",
       "    </tr>\n",
       "    <tr>\n",
       "      <th>76</th>\n",
       "      <td>10.7811</td>\n",
       "      <td>2.0351</td>\n",
       "      <td>0.6939</td>\n",
       "      <td>0.1</td>\n",
       "      <td>0.0325</td>\n",
       "    </tr>\n",
       "    <tr>\n",
       "      <th>77</th>\n",
       "      <td>57.3595</td>\n",
       "      <td>2.2470</td>\n",
       "      <td>0.3667</td>\n",
       "      <td>0.0</td>\n",
       "      <td>0.0675</td>\n",
       "    </tr>\n",
       "    <tr>\n",
       "      <th>78</th>\n",
       "      <td>4.4803</td>\n",
       "      <td>1.6897</td>\n",
       "      <td>0.0544</td>\n",
       "      <td>0.1</td>\n",
       "      <td>0.3627</td>\n",
       "    </tr>\n",
       "    <tr>\n",
       "      <th>79</th>\n",
       "      <td>66.7055</td>\n",
       "      <td>2.0152</td>\n",
       "      <td>0.0385</td>\n",
       "      <td>0.1</td>\n",
       "      <td>0.0841</td>\n",
       "    </tr>\n",
       "  </tbody>\n",
       "</table>\n",
       "<p>80 rows × 5 columns</p>\n",
       "</div>"
      ],
      "text/plain": [
       "          x       y       z    w     out\n",
       "0   66.4774  1.6495  0.7613  0.1 -0.0209\n",
       "1   15.1422  2.2292  0.0050  0.1  0.1281\n",
       "2   87.9859  2.1449  0.2217  0.1  0.1289\n",
       "3   79.4979  2.0901  0.0396  0.1  0.1442\n",
       "4   36.5181  2.0992  0.2040  0.0 -0.0131\n",
       "..      ...     ...     ...  ...     ...\n",
       "75   7.5622  2.2608  0.0785  0.1  0.3158\n",
       "76  10.7811  2.0351  0.6939  0.1  0.0325\n",
       "77  57.3595  2.2470  0.3667  0.0  0.0675\n",
       "78   4.4803  1.6897  0.0544  0.1  0.3627\n",
       "79  66.7055  2.0152  0.0385  0.1  0.0841\n",
       "\n",
       "[80 rows x 5 columns]"
      ]
     },
     "execution_count": 8,
     "metadata": {},
     "output_type": "execute_result"
    }
   ],
   "source": [
    "q2_data = pd.read_csv(\"PADL-Q2-train.csv\")\n",
    "q2_data"
   ]
  },
  {
   "cell_type": "markdown",
   "metadata": {},
   "source": [
    "Split into train and test data:"
   ]
  },
  {
   "cell_type": "code",
   "execution_count": 9,
   "metadata": {},
   "outputs": [],
   "source": [
    "X = q2_data.drop('out', axis=1)\n",
    "y = q2_data['out']\n",
    "# Split 70:10 train:test\n",
    "X_train,X_test,y_train,y_test = train_test_split(X, y, test_size=0.125)"
   ]
  },
  {
   "cell_type": "markdown",
   "metadata": {},
   "source": [
    "Fit a LR model, compare predicted vs actual values, calculate R2 score:"
   ]
  },
  {
   "cell_type": "code",
   "execution_count": 10,
   "metadata": {},
   "outputs": [
    {
     "name": "stdout",
     "output_type": "stream",
     "text": [
      "Predicted vs actual: 0.0873 vs 0.1615\n",
      "Predicted vs actual: 0.0547 vs -0.0855\n",
      "Predicted vs actual: 0.0944 vs 0.1442\n",
      "Predicted vs actual: -0.0096 vs -0.01\n",
      "Predicted vs actual: 0.0275 vs -0.0876\n",
      "Predicted vs actual: 0.0325 vs 0.148\n",
      "Predicted vs actual: -0.0469 vs -0.1797\n",
      "Predicted vs actual: -0.0339 vs 0.068\n",
      "Predicted vs actual: -0.0434 vs -0.3139\n",
      "Predicted vs actual: -0.0326 vs 0.1666\n",
      "\n",
      "R2 score: 0.210358\n"
     ]
    }
   ],
   "source": [
    "regr = LinearRegression()\n",
    "regr.fit(X_train,y_train)\n",
    "y_pred = regr.predict(X_test)\n",
    "\n",
    "r2 = r2_score(y_test,y_pred)\n",
    "\n",
    "for y1,y2 in zip(y_test,y_pred):\n",
    "    print(f'Predicted vs actual: {y2:.4f} vs {y1}')\n",
    "\n",
    "print(f'\\nR2 score: {r2:.6f}')"
   ]
  },
  {
   "cell_type": "markdown",
   "metadata": {},
   "source": [
    "# Q3:"
   ]
  },
  {
   "cell_type": "markdown",
   "metadata": {},
   "source": [
    "(a)"
   ]
  },
  {
   "cell_type": "code",
   "execution_count": 11,
   "metadata": {},
   "outputs": [],
   "source": [
    "with open(\"PADL-Q3.txt\",'r') as q3_file:\n",
    "    words = []\n",
    "    raw_data = q3_file\n",
    "    for line in q3_file:\n",
    "        for word in line.split():\n",
    "            words.append(word)"
   ]
  },
  {
   "cell_type": "markdown",
   "metadata": {},
   "source": [
    "The following tile removes punctuation from the text then selects all triplets where the middle word is \"and\". It then selects the before and after words and adds them as a 3-tuple into a list."
   ]
  },
  {
   "cell_type": "code",
   "execution_count": 12,
   "metadata": {},
   "outputs": [
    {
     "data": {
      "text/plain": [
       "[('States', 'and', 'most'),\n",
       " ('cost', 'and', 'with'),\n",
       " ('eclipses', 'and', 'predominates'),\n",
       " ('emotions', 'and', 'that'),\n",
       " ('reasoning', 'and', 'observing'),\n",
       " ('gibe', 'and', 'a'),\n",
       " ('motives', 'and', 'actions'),\n",
       " ('delicate', 'and', 'finely'),\n",
       " ('him', 'and', 'that'),\n",
       " ('dubious', 'and', 'questionable'),\n",
       " ('happiness', 'and', 'the'),\n",
       " ('books', 'and', 'alternating'),\n",
       " ('cocaine', 'and', 'ambition'),\n",
       " ('drug', 'and', 'the'),\n",
       " ('crime', 'and', 'occupied'),\n",
       " ('faculties', 'and', 'extraordinary'),\n",
       " ('clues', 'and', 'clearing'),\n",
       " ('Trincomalee', 'and', 'finally'),\n",
       " ('delicately', 'and', 'successfully'),\n",
       " ('friend', 'and', 'companion'),\n",
       " ('wooing', 'and', 'with'),\n",
       " ('again', 'and', 'to'),\n",
       " ('lit', 'and', 'even'),\n",
       " ('chest', 'and', 'his'),\n",
       " ('mood', 'and', 'habit'),\n",
       " ('attitude', 'and', 'manner'),\n",
       " ('dreams', 'and', 'was'),\n",
       " ('bell', 'and', 'was'),\n",
       " ('cigars', 'and', 'indicated'),\n",
       " ('case', 'and', 'a'),\n",
       " ('fire', 'and', 'looked'),\n",
       " ('seven', 'and', 'a'),\n",
       " ('lately', 'and', 'that'),\n",
       " ('clumsy', 'and', 'careless'),\n",
       " ('Thursday', 'and', 'came'),\n",
       " ('incorrigible', 'and', 'my'),\n",
       " ('himself', 'and', 'rubbed'),\n",
       " ('weather', 'and', 'that'),\n",
       " ('forefinger', 'and', 'a'),\n",
       " ('cigarette', 'and', 'throwing'),\n",
       " ('seen', 'and', 'observed'),\n",
       " ('problems', 'and', 'since'),\n",
       " ('undated', 'and', 'without'),\n",
       " ('hour', 'and', 'do'),\n",
       " ('writing', 'and', 'the'),\n",
       " ('strong', 'and', 'stiff”'),\n",
       " ('so', 'and', 'saw'),\n",
       " ('P', 'and', 'a'),\n",
       " ('Wallenstein', 'and', 'for'),\n",
       " ('glassfactories', 'and', 'papermills’'),\n",
       " ('sparkled', 'and', 'he'),\n",
       " ('paper', 'and', 'prefers'),\n",
       " ('hoofs', 'and', 'grating'),\n",
       " ('brougham', 'and', 'a'),\n",
       " ('hundred', 'and', 'fifty'),\n",
       " ('help', 'and', 'so'),\n",
       " ('doctor', 'and', 'give'),\n",
       " ('slow', 'and', 'heavy'),\n",
       " ('stairs', 'and', 'in'),\n",
       " ('loud', 'and', 'authoritative'),\n",
       " ('chest', 'and', 'limbs'),\n",
       " ('sleeves', 'and', 'fronts'),\n",
       " ('silk', 'and', 'secured'),\n",
       " ('calves', 'and', 'which'),\n",
       " ('lip', 'and', 'a'),\n",
       " ('voice', 'and', 'a'),\n",
       " ('friend', 'and', 'colleague'),\n",
       " ('honor', 'and', 'discretion'),\n",
       " ('wrist', 'and', 'pushed'),\n",
       " ('you', 'and', 'I'),\n",
       " ('delicacy', 'and', 'every'),\n",
       " ('scandal', 'and', 'seriously'),\n",
       " ('armchair', 'and', 'closing'),\n",
       " ('reasoner', 'and', 'most'),\n",
       " ('eyes', 'and', 'looked'),\n",
       " ('chair', 'and', 'paced'),\n",
       " ('up', 'and', 'down'),\n",
       " ('face', 'and', 'hurled'),\n",
       " ('CasselFelstein', 'and', 'hereditary'),\n",
       " ('more', 'and', 'passing'),\n",
       " ('men', 'and', 'things'),\n",
       " ('Rabbi', 'and', 'that'),\n",
       " ('letters', 'and', 'is'),\n",
       " ('tried', 'and', 'failed”'),\n",
       " ('women', 'and', 'the'),\n",
       " ('cloak', 'and', 'laid'),\n",
       " ('gold', 'and', 'seven'),\n",
       " ('notebook', 'and', 'handed'),\n",
       " ('Majesty', 'and', 'I'),\n",
       " ('grim', 'and', 'strange'),\n",
       " ('case', 'and', 'the'),\n",
       " ('situation', 'and', 'his'),\n",
       " ('work', 'and', 'to'),\n",
       " ('opened', 'and', 'a'),\n",
       " ('illkempt', 'and', 'sidewhiskered'),\n",
       " ('face', 'and', 'disreputable'),\n",
       " ('tweedsuited', 'and', 'respectable'),\n",
       " ('fire', 'and', 'laughed'),\n",
       " ('cried', 'and', 'then'),\n",
       " ('choked', 'and', 'laughed'),\n",
       " ('limp', 'and', 'helpless'),\n",
       " ('habits', 'and', 'perhaps'),\n",
       " ('sympathy', 'and', 'freemasonry'),\n",
       " ('them', 'and', 'you'),\n",
       " ('floor', 'and', 'those'),\n",
       " ('it', 'and', 'examined'),\n",
       " ('street', 'and', 'found'),\n",
       " ('horses', 'and', 'I'),\n",
       " ('tobacco', 'and', 'as'),\n",
       " ('day', 'and', 'returns'),\n",
       " ('handsome', 'and', 'dashing'),\n",
       " ('day', 'and', 'often'),\n",
       " ('Serpentinemews', 'and', 'knew'),\n",
       " ('up', 'and', 'down'),\n",
       " ('more', 'and', 'to'),\n",
       " ('them', 'and', 'what'),\n",
       " ('point', 'and', 'it'),\n",
       " ('Lodge', 'and', 'a'),\n",
       " ('aquiline', 'and', 'mustachedevidently'),\n",
       " ('wait', 'and', 'brushed'),\n",
       " ('hour', 'and', 'I'),\n",
       " ('up', 'and', 'down'),\n",
       " ('excitedly', 'and', 'waving'),\n",
       " ('pocket', 'and', 'looked'),\n",
       " ('Street', 'and', 'then'),\n",
       " ('went', 'and', 'I'),\n",
       " ('halfbuttoned', 'and', 'his'),\n",
       " ('door', 'and', 'into'),\n",
       " ('twelve', 'and', 'of'),\n",
       " ('cab', 'and', 'the'),\n",
       " ('man', 'and', 'hurried'),\n",
       " ('followed', 'and', 'a'),\n",
       " ('me', 'and', 'Godfrey'),\n",
       " ('altar', 'and', 'before'),\n",
       " ('ear', 'and', 'vouching'),\n",
       " ('nothing', 'and', 'generally'),\n",
       " ('instant', 'and', 'there'),\n",
       " ('side', 'and', 'the'),\n",
       " ('life', 'and', 'it'),\n",
       " ('sort', 'and', 'that'),\n",
       " ('sovereign', 'and', 'I'),\n",
       " ('departure', 'and', 'so'),\n",
       " ('prompt', 'and', 'energetic'),\n",
       " ('Temple', 'and', 'she'),\n",
       " ('directions', 'and', 'I'),\n",
       " ('beef', 'and', 'a'),\n",
       " ('food', 'and', 'I'),\n",
       " ('throw', 'and', 'will'),\n",
       " ('street', 'and', 'I'),\n",
       " ('you', 'and', 'at'),\n",
       " ('fire', 'and', 'to'),\n",
       " ('bedroom', 'and', 'returned'),\n",
       " ('amiable', 'and', 'simpleminded'),\n",
       " ('smile', 'and', 'general'),\n",
       " ('peering', 'and', 'benevolent'),\n",
       " ('Street', 'and', 'it'),\n",
       " ('dusk', 'and', 'the'),\n",
       " ('up', 'and', 'down'),\n",
       " ('smoking', 'and', 'laughing'),\n",
       " ('nursegirl', 'and', 'several'),\n",
       " ('up', 'and', 'down'),\n",
       " ('to', 'and', 'fro'),\n",
       " ('waylaid', 'and', 'searched'),\n",
       " ('secretive', 'and', 'they'),\n",
       " ('loungers', 'and', 'by'),\n",
       " ('struck', 'and', 'in'),\n",
       " ('flushed', 'and', 'struggling'),\n",
       " ('fists', 'and', 'sticks'),\n",
       " ('cry', 'and', 'dropped'),\n",
       " ('direction', 'and', 'the'),\n",
       " ('lady', 'and', 'to'),\n",
       " ('purse', 'and', 'watch'),\n",
       " ('gang', 'and', 'a'),\n",
       " ('Slowly', 'and', 'solemnly'),\n",
       " ('Lodge', 'and', 'laid'),\n",
       " ('grace', 'and', 'kindliness'),\n",
       " ('heart', 'and', 'took'),\n",
       " ('couch', 'and', 'I'),\n",
       " ('across', 'and', 'threw'),\n",
       " ('hand', 'and', 'at'),\n",
       " ('dressed', 'and', 'illgentlemen'),\n",
       " ('ostlers', 'and', 'servantmaidsjoined'),\n",
       " ('room', 'and', 'out'),\n",
       " ('figures', 'and', 'a'),\n",
       " ('street', 'and', 'in'),\n",
       " ('mine', 'and', 'to'),\n",
       " ('swiftly', 'and', 'in'),\n",
       " ('face', 'and', 'became'),\n",
       " ('that', 'and', 'her'),\n",
       " ('bedroom', 'and', 'I'),\n",
       " ('window', 'and', 'you'),\n",
       " ('impulse', 'and', 'I'),\n",
       " ('me', 'and', 'also'),\n",
       " ('smoke', 'and', 'shouting'),\n",
       " ('instant', 'and', 'I'),\n",
       " ('room', 'and', 'I'),\n",
       " ('rose', 'and', 'making'),\n",
       " ('in', 'and', 'as'),\n",
       " ('tomorrow', 'and', 'with'),\n",
       " ('life', 'and', 'habits'),\n",
       " ('Street', 'and', 'had'),\n",
       " ('night', 'and', 'we'),\n",
       " ('toast', 'and', 'coffee'),\n",
       " ('shoulder', 'and', 'looking'),\n",
       " ('descended', 'and', 'started'),\n",
       " ('open', 'and', 'an'),\n",
       " ('questioning', 'and', 'rather'),\n",
       " ('chagrin', 'and', 'surprise'),\n",
       " ('servant', 'and', 'rushed'),\n",
       " ('King', 'and', 'myself'),\n",
       " ('shelves', 'and', 'open'),\n",
       " ('shutter', 'and', 'plunging'),\n",
       " ('photograph', 'and', 'a'),\n",
       " ('open', 'and', 'we'),\n",
       " ('night', 'and', 'ran'),\n",
       " ('them', 'and', 'came'),\n",
       " ('door', 'and', 'so'),\n",
       " ('goodnight', 'and', 'started'),\n",
       " ('love', 'and', 'am'),\n",
       " ('myself', 'and', 'to'),\n",
       " ('possess', 'and', 'I'),\n",
       " ('quick', 'and', 'resolute'),\n",
       " ('finger', 'and', 'held'),\n",
       " ('bowed', 'and', 'turning'),\n",
       " ('Bohemia', 'and', 'how'),\n",
       " ('year', 'and', 'found'),\n",
       " ('room', 'and', 'closed'),\n",
       " ('partner', 'and', 'helper'),\n",
       " ('cases', 'and', 'I'),\n",
       " ('chair', 'and', 'gave'),\n",
       " ('armchair', 'and', 'putting'),\n",
       " ('bizarre', 'and', 'outside'),\n",
       " ('conventions', 'and', 'humdrum'),\n",
       " ('chronicle', 'and', 'if'),\n",
       " ('effects', 'and', 'extraordinary'),\n",
       " ('them', 'and', 'acknowledges'),\n",
       " ('morning', 'and', 'to'),\n",
       " ('strangest', 'and', 'most'),\n",
       " ('crimes', 'and', 'occasionally'),\n",
       " ('pride', 'and', 'pulled'),\n",
       " ('dirty', 'and', 'wrinkled'),\n",
       " ('forward', 'and', 'the'),\n",
       " ('man', 'and', 'endeavored'),\n",
       " ('pompous', 'and', 'slow'),\n",
       " ('front', 'and', 'a'),\n",
       " ('chain', 'and', 'a'),\n",
       " ('tophat', 'and', 'a'),\n",
       " ('head', 'and', 'the'),\n",
       " ('chagrin', 'and', 'discontent'),\n",
       " ('occupation', 'and', 'he'),\n",
       " ('China', 'and', 'that'),\n",
       " ('it', 'and', 'the'),\n",
       " ('then', 'and', 'the'),\n",
       " ('inches', 'and', 'the'),\n",
       " ('marks', 'and', 'have'),\n",
       " ('know', 'and', 'my'),\n",
       " ('him', 'and', 'read'),\n",
       " ('body', 'and', 'mind'),\n",
       " ('mind', 'and', 'above'),\n",
       " ('chuckled', 'and', 'wriggled'),\n",
       " ('scratch', 'and', 'tell'),\n",
       " ('household', 'and', 'the'),\n",
       " ('paper', 'and', 'the'),\n",
       " ('affair', 'and', 'of'),\n",
       " ('one', 'and', 'I'),\n",
       " ('Spaulding', 'and', 'he’s'),\n",
       " ('Holmes', 'and', 'I'),\n",
       " ('himself', 'and', 'earn'),\n",
       " ('mind', 'and', 'then'),\n",
       " ('He', 'and', 'a'),\n",
       " ('cooking', 'and', 'keeps'),\n",
       " ('widower', 'and', 'never'),\n",
       " ('us', 'and', 'we'),\n",
       " ('heads', 'and', 'pay'),\n",
       " ('hand', 'and', 'he'),\n",
       " ('it', 'and', 'I'),\n",
       " ('man', 'and', 'as'),\n",
       " ('outside', 'and', 'I'),\n",
       " ('slight', 'and', 'it'),\n",
       " ('years', 'and', 'an'),\n",
       " ('vacancy', 'and', 'there'),\n",
       " ('redheaded', 'and', 'he'),\n",
       " ('pay', 'and', 'very'),\n",
       " ('Londoners', 'and', 'to'),\n",
       " ('young', 'and', 'he'),\n",
       " ('full', 'and', 'rich'),\n",
       " ('day', 'and', 'to'),\n",
       " ('up', 'and', 'started'),\n",
       " ('east', 'and', 'west'),\n",
       " ('folk', 'and', 'Pope’s'),\n",
       " ('pushed', 'and', 'pulled'),\n",
       " ('pulled', 'and', 'butted'),\n",
       " ('crowd', 'and', 'right'),\n",
       " ('hope', 'and', 'some'),\n",
       " ('could', 'and', 'soon'),\n",
       " ('paused', 'and', 'refreshed'),\n",
       " ('chairs', 'and', 'a'),\n",
       " ('up', 'and', 'then'),\n",
       " ('others', 'and', 'he'),\n",
       " ('side', 'and', 'gazed'),\n",
       " ('hand', 'and', 'congratulated'),\n",
       " ('hands', 'and', 'tugged'),\n",
       " ('wigs', 'and', 'once'),\n",
       " ('window', 'and', 'shouted'),\n",
       " ('below', 'and', 'the'),\n",
       " ('own', 'and', 'that'),\n",
       " ('Ross', 'and', 'I'),\n",
       " ('propagation', 'and', 'spread'),\n",
       " ('Thursday', 'and', 'Friday'),\n",
       " ('man', 'and', 'that'),\n",
       " ('day', 'and', 'I'),\n",
       " ('pens', 'and', 'blottingpaper'),\n",
       " ('table', 'and', 'chair'),\n",
       " ('Wilson', 'and', 'let'),\n",
       " ('room', 'and', 'I'),\n",
       " ('day', 'and', 'by'),\n",
       " ('ink', 'and', 'with'),\n",
       " ('quillpen', 'and', 'seven'),\n",
       " ('surprise', 'and', 'delight'),\n",
       " ('me', 'and', 'Mr'),\n",
       " ('A', 'and', 'then'),\n",
       " ('written', 'and', 'locked'),\n",
       " ('Holmes', 'and', 'on'),\n",
       " ('in', 'and', 'planked'),\n",
       " ('week', 'and', 'the'),\n",
       " ('ten', 'and', 'every'),\n",
       " ('morning', 'and', 'then'),\n",
       " ('come', 'and', 'the'),\n",
       " ('one', 'and', 'suited'),\n",
       " ('this', 'and', 'I'),\n",
       " ('Abbots', 'and', 'Archery'),\n",
       " ('Archery', 'and', 'Armor'),\n",
       " ('Armor', 'and', 'Architecture'),\n",
       " ('Architecture', 'and', 'Attica'),\n",
       " ('Attica', 'and', 'hoped'),\n",
       " ('foolscap', 'and', 'I'),\n",
       " ('shut', 'and', 'locked'),\n",
       " ('is', 'and', 'you'),\n",
       " ('Holmes', 'and', 'I'),\n",
       " ('announcement', 'and', 'the'),\n",
       " ('groundfloor', 'and', 'I'),\n",
       " ('solicitor', 'and', 'was'),\n",
       " ('kneecaps', 'and', 'no'),\n",
       " ('Square', 'and', 'I'),\n",
       " ('one', 'and', 'I'),\n",
       " ('them', 'and', 'who'),\n",
       " ('are', 'and', 'what'),\n",
       " ('two', 'and', 'thirty'),\n",
       " ('handy', 'and', 'would'),\n",
       " ('Saturday', 'and', 'I'),\n",
       " ('problem', 'and', 'I'),\n",
       " ('nose', 'and', 'there'),\n",
       " ('closed', 'and', 'his'),\n",
       " ('asleep', 'and', 'indeed'),\n",
       " ('mind', 'and', 'put'),\n",
       " ('hat', 'and', 'come'),\n",
       " ('first', 'and', 'we'),\n",
       " ('introspective', 'and', 'I'),\n",
       " ('Aldersgate', 'and', 'a'),\n",
       " ('grass', 'and', 'a'),\n",
       " ('smokeladen', 'and', 'uncongenial'),\n",
       " ('balls', 'and', 'a'),\n",
       " ('side', 'and', 'looked'),\n",
       " ('street', 'and', 'then'),\n",
       " ('pawnbroker’s', 'and', 'having'),\n",
       " ('door', 'and', 'knocked'),\n",
       " ('London', 'and', 'for'),\n",
       " ('north', 'and', 'west'),\n",
       " ('inward', 'and', 'outward'),\n",
       " ('shops', 'and', 'stately'),\n",
       " ('faded', 'and', 'stagnant'),\n",
       " ('corner', 'and', 'glancing'),\n",
       " ('City', 'and', 'Suburban'),\n",
       " ('Restaurant', 'and', 'McFarlane’s'),\n",
       " ('sandwich', 'and', 'a'),\n",
       " ('coffee', 'and', 'then'),\n",
       " ('sweetness', 'and', 'delicacy'),\n",
       " ('delicacy', 'and', 'harmony'),\n",
       " ('harmony', 'and', 'there'),\n",
       " ('face', 'and', 'his'),\n",
       " ('itself', 'and', 'his'),\n",
       " ('exactness', 'and', 'astuteness'),\n",
       " ('poetic', 'and', 'contemplative'),\n",
       " ('energy', 'and', 'as'),\n",
       " ('improvisations', 'and', 'his'),\n",
       " ('him', 'and', 'that'),\n",
       " ('heel', 'and', 'disappeared'),\n",
       " ('seen', 'and', 'yet'),\n",
       " ('confused', 'and', 'grotesque'),\n",
       " ('Square', 'and', 'the'),\n",
       " ('expedition', 'and', 'why'),\n",
       " ('going', 'and', 'what'),\n",
       " ('despair', 'and', 'set'),\n",
       " ('home', 'and', 'made'),\n",
       " ('Park', 'and', 'so'),\n",
       " ('door', 'and', 'as'),\n",
       " ('hat', 'and', 'oppressively'),\n",
       " ('peajacket', 'and', 'taking'),\n",
       " ('theoretical', 'and', 'fantastic'),\n",
       " ('murder', 'and', 'the'),\n",
       " ('yet', 'and', 'that'),\n",
       " ('£30000', 'and', 'for'),\n",
       " ('smasher', 'and', 'forger'),\n",
       " ('profession', 'and', 'I'),\n",
       " ('duke', 'and', 'he'),\n",
       " ('Eton', 'and', 'Oxford'),\n",
       " ('fingers', 'and', 'though'),\n",
       " ('week', 'and', 'be'),\n",
       " ('years', 'and', 'have'),\n",
       " ('Clay', 'and', 'I'),\n",
       " ('however', 'and', 'quite'),\n",
       " ('Watson', 'and', 'I'),\n",
       " ('drive', 'and', 'lay'),\n",
       " ('director', 'and', 'personally'),\n",
       " ('bulldog', 'and', 'as'),\n",
       " ('are', 'and', 'they'),\n",
       " ('dismissed', 'and', 'following'),\n",
       " ('passage', 'and', 'through'),\n",
       " ('opened', 'and', 'led'),\n",
       " ('lantern', 'and', 'then'),\n",
       " ('passage', 'and', 'so'),\n",
       " ('crates', 'and', 'massive'),\n",
       " ('lantern', 'and', 'gazed'),\n",
       " ('boxes', 'and', 'not'),\n",
       " ('floor', 'and', 'with'),\n",
       " ('lantern', 'and', 'a'),\n",
       " ('again', 'and', 'put'),\n",
       " ('directors', 'and', 'he'),\n",
       " ('resources', 'and', 'borrowed'),\n",
       " ('money', 'and', 'that'),\n",
       " ('office', 'and', 'the'),\n",
       " ('pocket', 'and', 'I'),\n",
       " ('men', 'and', 'though'),\n",
       " ('crate', 'and', 'do'),\n",
       " ('lantern', 'and', 'left'),\n",
       " ('depressing', 'and', 'subduing'),\n",
       " ('gloom', 'and', 'in'),\n",
       " ('inspector', 'and', 'two'),\n",
       " ('silent', 'and', 'wait”'),\n",
       " ('hour', 'and', 'a'),\n",
       " ('gone', 'and', 'the'),\n",
       " ('weary', 'and', 'stiff'),\n",
       " ('tension', 'and', 'my'),\n",
       " ('line', 'and', 'then'),\n",
       " ('open', 'and', 'a'),\n",
       " ('appeared', 'and', 'all'),\n",
       " ('side', 'and', 'left'),\n",
       " ('it', 'and', 'then'),\n",
       " ('shoulderhigh', 'and', 'waisthigh'),\n",
       " ('hole', 'and', 'was'),\n",
       " ('lithe', 'and', 'small'),\n",
       " ('face', 'and', 'a'),\n",
       " ('chisel', 'and', 'the'),\n",
       " ('jump', 'and', 'I’ll'),\n",
       " ('out', 'and', 'seized'),\n",
       " ('hole', 'and', 'I'),\n",
       " ('wrist', 'and', 'the'),\n",
       " ('new', 'and', 'effective”'),\n",
       " ('‘sir’', 'and', '‘please’”'),\n",
       " ('stare', 'and', 'a'),\n",
       " ('us', 'and', 'walked'),\n",
       " ('detected', 'and', 'defeated'),\n",
       " ('unique', 'and', 'by'),\n",
       " ('League', 'and', 'the'),\n",
       " ('him', 'and', 'what'),\n",
       " ('it', 'and', 'together'),\n",
       " ('one', 'and', 'there'),\n",
       " ('preparations', 'and', 'such'),\n",
       " ('photography', 'and', 'his'),\n",
       " ('assistant', 'and', 'found'),\n",
       " ('coolest', 'and', 'most'),\n",
       " ('bell', 'and', 'as'),\n",
       " ('wrinkled', 'and', 'stained'),\n",
       " ('City', 'and', 'Suburban'),\n",
       " ('premises', 'and', 'felt'),\n",
       " ('Yard', 'and', 'upon'),\n",
       " ('chain', 'and', 'yet'),\n",
       " ('roofs', 'and', 'peep'),\n",
       " ('generations', 'and', 'leading'),\n",
       " ('conventionalities', 'and', 'foreseen'),\n",
       " ('stale', 'and', 'unprofitable”'),\n",
       " ('enough', 'and', 'vulgar'),\n",
       " ('limits', 'and', 'yet'),\n",
       " ('selection', 'and', 'discretion'),\n",
       " ('smiled', 'and', 'shook'),\n",
       " ('adviser', 'and', 'helper'),\n",
       " ('strange', 'and', 'bizarre'),\n",
       " ('paper', 'and', 'glancing'),\n",
       " ('case', 'and', 'as'),\n",
       " ('woman', 'and', 'the'),\n",
       " ('teeth', 'and', 'hurling'),\n",
       " ('doctor', 'and', 'acknowledge'),\n",
       " ('ways', 'and', 'simple'),\n",
       " ('observation', 'and', 'for'),\n",
       " ('cause', 'and', 'effect'),\n",
       " ('chair', 'and', 'was'),\n",
       " ('neck', 'and', 'a'),\n",
       " ('backward', 'and', 'forward'),\n",
       " ('forward', 'and', 'her'),\n",
       " ('road', 'and', 'we'),\n",
       " ('oscillates', 'and', 'the'),\n",
       " ('door', 'and', 'the'),\n",
       " ('remarkable', 'and', 'having'),\n",
       " ('door', 'and', 'bowed'),\n",
       " ('minute', 'and', 'yet'),\n",
       " ('start', 'and', 'looked'),\n",
       " ('fear', 'and', 'astonishment'),\n",
       " ('police', 'and', 'every'),\n",
       " ('machine', 'and', 'I'),\n",
       " ('together', 'and', 'his'),\n",
       " ('police', 'and', 'he'),\n",
       " ('you', 'and', 'so'),\n",
       " ('nothing', 'and', 'kept'),\n",
       " ('mad', 'and', 'I'),\n",
       " ('things', 'and', 'came'),\n",
       " ('years', 'and', 'two'),\n",
       " ('alive', 'and', 'well'),\n",
       " ('death', 'and', 'a'),\n",
       " ('Road', 'and', 'he'),\n",
       " ('goodwill', 'and', 'interest'),\n",
       " ('rambling', 'and', 'inconsequential'),\n",
       " ('separate', 'and', 'was'),\n",
       " ('little', 'and', 'indulge'),\n",
       " ('them', 'and', 'so'),\n",
       " ('quarter', 'and', 'pays'),\n",
       " ('mother', 'and', 'I'),\n",
       " ('sheet', 'and', 'I'),\n",
       " ('face', 'and', 'she'),\n",
       " ('alive', 'and', 'then'),\n",
       " ('us', 'and', 'sent'),\n",
       " ('going', 'and', 'I'),\n",
       " ('mother', 'and', 'I'),\n",
       " ('foreman', 'and', 'it'),\n",
       " ('remember', 'and', 'shrugged'),\n",
       " ('shoulders', 'and', 'said'),\n",
       " ('night', 'and', 'he'),\n",
       " ('safe', 'and', 'after'),\n",
       " ('again', 'and', 'Mr'),\n",
       " ('it', 'and', 'he'),\n",
       " ('with', 'and', 'I'),\n",
       " ('week', 'and', 'Hosmer'),\n",
       " ('wrote', 'and', 'said'),\n",
       " ('safer', 'and', 'better'),\n",
       " ('time', 'and', 'he'),\n",
       " ('Holmes', 'and', 'the'),\n",
       " ('retiring', 'and', 'gentlemanly'),\n",
       " ('quinsy', 'and', 'swollen'),\n",
       " ('me', 'and', 'it'),\n",
       " ('throat', 'and', 'a'),\n",
       " ('neat', 'and', 'plain'),\n",
       " ('are', 'and', 'he'),\n",
       " ('“Well', 'and', 'what'),\n",
       " ('again', 'and', 'proposed'),\n",
       " ('earnest', 'and', 'made'),\n",
       " ('swear', 'and', 'that'),\n",
       " ('first', 'and', 'was'),\n",
       " ('afterwards', 'and', 'mother'),\n",
       " ('Cross', 'and', 'we'),\n",
       " ('it', 'and', 'stepped'),\n",
       " ('first', 'and', 'when'),\n",
       " ('did', 'and', 'when'),\n",
       " ('box', 'and', 'looked'),\n",
       " ('Holmes', 'and', 'I'),\n",
       " ('good', 'and', 'kind'),\n",
       " ('true', 'and', 'that'),\n",
       " ('him', 'and', 'that'),\n",
       " ('angry', 'and', 'said'),\n",
       " ('“Yes', 'and', 'he'),\n",
       " ('happened', 'and', 'that'),\n",
       " ('church', 'and', 'then'),\n",
       " ('me', 'and', 'got'),\n",
       " ('money', 'and', 'never'),\n",
       " ('of', 'and', 'I'),\n",
       " ('muff', 'and', 'began'),\n",
       " ('now', 'and', 'do'),\n",
       " ('him', 'and', 'any'),\n",
       " ('slip', 'and', 'here'),\n",
       " ('here', 'and', 'remember'),\n",
       " ('book', 'and', 'do'),\n",
       " ('hat', 'and', 'the'),\n",
       " ('table', 'and', 'went'),\n",
       " ('him', 'and', 'his'),\n",
       " ('old', 'and', 'oily'),\n",
       " ('counsellor', 'and', 'having'),\n",
       " ('him', 'and', 'a'),\n",
       " ('’77', 'and', 'there'),\n",
       " ('look', 'and', 'so'),\n",
       " ('it', 'and', 'a'),\n",
       " ('neck', 'and', 'sleeves'),\n",
       " ('grayish', 'and', 'were'),\n",
       " ('earrings', 'and', 'a'),\n",
       " ('together', 'and', 'chuckled'),\n",
       " ('method', 'and', 'you'),\n",
       " ('arm', 'and', 'on'),\n",
       " ('face', 'and', 'observing'),\n",
       " ('sight', 'and', 'typewriting'),\n",
       " ('surprised', 'and', 'interested'),\n",
       " ('toecap', 'and', 'the'),\n",
       " ('five', 'and', 'the'),\n",
       " ('third', 'and', 'fifth'),\n",
       " ('glove', 'and', 'finger'),\n",
       " ('hurry', 'and', 'dipped'),\n",
       " ('sidewhiskers', 'and', 'mustache'),\n",
       " ('chain', 'and', 'gray'),\n",
       " ('reasoning', 'and', 'extraordinary'),\n",
       " ('assured', 'and', 'easy'),\n",
       " ('Bohemia', 'and', 'of'),\n",
       " ('Four', 'and', 'the'),\n",
       " ('time', 'and', 'the'),\n",
       " ('free', 'and', 'was'),\n",
       " ('hansom', 'and', 'drive'),\n",
       " ('bottles', 'and', 'testtubes'),\n",
       " ('then', 'and', 'what'),\n",
       " ('mouth', 'and', 'Holmes'),\n",
       " ('passage', 'and', 'a'),\n",
       " ('shaven', 'and', 'sallow'),\n",
       " ('manner', 'and', 'a'),\n",
       " ('sharp', 'and', 'penetrating'),\n",
       " ('sideboard', 'and', 'with'),\n",
       " ('noticed', 'and', 'she'),\n",
       " ('start', 'and', 'dropped'),\n",
       " ('others', 'and', 'some'),\n",
       " ('‘e’', 'and', 'a'),\n",
       " ('office', 'and', 'no'),\n",
       " ('typewriter', 'and', 'its'),\n",
       " ('slurred', 'and', 'the'),\n",
       " ('chair', 'and', 'picked'),\n",
       " ('him', 'and', 'let'),\n",
       " ('over', 'and', 'turning'),\n",
       " ('lips', 'and', 'glancing'),\n",
       " ('transparent', 'and', 'it'),\n",
       " ('down', 'and', 'let'),\n",
       " ('face', 'and', 'a'),\n",
       " ('cruel', 'and', 'selfish'),\n",
       " ('selfish', 'and', 'heartless'),\n",
       " ('events', 'and', 'you'),\n",
       " ('mantelpiece', 'and', 'leaning'),\n",
       " ('position', 'and', 'the'),\n",
       " ('affectionate', 'and', 'warmhearted'),\n",
       " ('advantages', 'and', 'her'),\n",
       " ('home', 'and', 'forbidding'),\n",
       " ('rights', 'and', 'finally'),\n",
       " ('connivance', 'and', 'assistance'),\n",
       " ('mustache', 'and', 'a'),\n",
       " ('whisper', 'and', 'doubly'),\n",
       " ('Angel', 'and', 'keeps'),\n",
       " ('away', 'and', 'having'),\n",
       " ('attentions', 'and', 'the'),\n",
       " ('meetings', 'and', 'an'),\n",
       " ('mind', 'and', 'prevent'),\n",
       " ('Testament', 'and', 'hence'),\n",
       " ('Angel', 'and', 'so'),\n",
       " ('her', 'and', 'then'),\n",
       " ('fourwheeler', 'and', 'out'),\n",
       " ('talking', 'and', 'he'),\n",
       " ('now', 'and', 'not'),\n",
       " ('assault', 'and', 'illegal'),\n",
       " ('unlocking', 'and', 'throwing'),\n",
       " ('handy', 'and', 'I'),\n",
       " ('banged', 'and', 'from'),\n",
       " ('bad', 'and', 'ends'),\n",
       " ('conduct', 'and', 'it'),\n",
       " ('spectacles', 'and', 'the'),\n",
       " ('voice', 'and', 'I'),\n",
       " ('typewriter', 'and', 'I'),\n",
       " ('typewritten', 'and', 'revealed'),\n",
       " ('cub', 'and', 'danger'),\n",
       " ('Horace', 'and', 'as'),\n",
       " ('wife', 'and', 'I'),\n",
       " ('Holmes', 'and', 'ran'),\n",
       " ('Air', 'and', 'scenery'),\n",
       " ('good', 'and', 'you'),\n",
       " ('prompt', 'and', 'ready'),\n",
       " ('few', 'and', 'simple'),\n",
       " ('up', 'and', 'down'),\n",
       " ('gaunter', 'and', 'taller'),\n",
       " ('travellingcloak', 'and', 'closefitting'),\n",
       " ('rummaged', 'and', 'read'),\n",
       " ('notetaking', 'and', 'of'),\n",
       " ('ball', 'and', 'tossed'),\n",
       " ('featureless', 'and', 'commonplace'),\n",
       " ('Australia', 'and', 'returned'),\n",
       " ('eighteen', 'and', 'Turner'),\n",
       " ('families', 'and', 'to'),\n",
       " ('sport', 'and', 'were'),\n",
       " ('man', 'and', 'a'),\n",
       " ('afternoon', 'and', 'walked'),\n",
       " ('Ross', 'and', 'he'),\n",
       " ('mile', 'and', 'two'),\n",
       " ('mentioned', 'and', 'the'),\n",
       " ('time', 'and', 'the'),\n",
       " ('grass', 'and', 'of'),\n",
       " ('wood', 'and', 'close'),\n",
       " ('McCarthy', 'and', 'his'),\n",
       " ('son', 'and', 'that'),\n",
       " ('son', 'and', 'she'),\n",
       " ('away', 'and', 'told'),\n",
       " ('Pool', 'and', 'that'),\n",
       " ('wood', 'and', 'to'),\n",
       " ('hat', 'and', 'his'),\n",
       " ('hand', 'and', 'sleeve'),\n",
       " ('heavy', 'and', 'blunt'),\n",
       " ('arrested', 'and', 'a'),\n",
       " ('coroner', 'and', 'at'),\n",
       " ('man', 'and', 'it'),\n",
       " ('however', 'and', 'among'),\n",
       " ('innocence', 'and', 'who'),\n",
       " ('me', 'and', 'hence'),\n",
       " ('side', 'and', 'yet'),\n",
       " ('morning', 'and', 'in'),\n",
       " ('less', 'and', 'less'),\n",
       " ('light', 'and', 'being'),\n",
       " ('observation', 'and', 'inference'),\n",
       " ('métier', 'and', 'it'),\n",
       " ('inquest', 'and', 'which'),\n",
       " ('it', 'and', 'that'),\n",
       " ('circumstances', 'and', 'yet'),\n",
       " ('selfrestraint', 'and', 'firmness'),\n",
       " ('father', 'and', 'that'),\n",
       " ('him', 'and', 'even'),\n",
       " ('selfreproach', 'and', 'contrition'),\n",
       " ('here', 'and', 'may'),\n",
       " ('paper', 'and', 'having'),\n",
       " ('carriage', 'and', 'read'),\n",
       " ('called', 'and', 'gave'),\n",
       " ('Bristol', 'and', 'had'),\n",
       " ('arrival', 'and', 'I'),\n",
       " ('yard', 'and', 'looking'),\n",
       " ('out', 'and', 'walk'),\n",
       " ('gun', 'and', 'strolled'),\n",
       " ('father', 'and', 'myself'),\n",
       " ('forward', 'and', 'found'),\n",
       " ('me', 'and', 'asked'),\n",
       " ('words', 'and', 'almost'),\n",
       " ('him', 'and', 'returned'),\n",
       " ('gun', 'and', 'held'),\n",
       " ('minutes', 'and', 'then'),\n",
       " ('returned', 'and', 'I'),\n",
       " ('cold', 'and', 'forbidding'),\n",
       " ('you', 'and', 'your'),\n",
       " ('you', 'and', 'your'),\n",
       " ('you', 'and', 'before'),\n",
       " ('cry', 'and', 'found'),\n",
       " ('disturbed', 'and', 'excited'),\n",
       " ('attention', 'and', 'with'),\n",
       " ('father', 'and', 'his'),\n",
       " ('himself', 'and', 'stretched'),\n",
       " ('you', 'and', 'the'),\n",
       " ('imagination', 'and', 'too'),\n",
       " ('rat', 'and', 'the'),\n",
       " ('true', 'and', 'we'),\n",
       " ('Petrarch', 'and', 'not'),\n",
       " ('Swindon', 'and', 'I'),\n",
       " ('Valley', 'and', 'over'),\n",
       " ('furtive', 'and', 'slylooking'),\n",
       " ('dustcoat', 'and', 'leatherleggings'),\n",
       " ('nature', 'and', 'that'),\n",
       " ('nice', 'and', 'complimentary'),\n",
       " ('wind', 'and', 'not'),\n",
       " ('smoking', 'and', 'the'),\n",
       " ('pikestaff', 'and', 'the'),\n",
       " ('lady', 'and', 'such'),\n",
       " ('you', 'and', 'would'),\n",
       " ('excitement', 'and', 'concern'),\n",
       " ('us', 'and', 'finally'),\n",
       " ('it', 'and', 'I'),\n",
       " ('children', 'and', 'I'),\n",
       " ('head', 'and', 'looking'),\n",
       " ('James', 'and', 'his'),\n",
       " ('James', 'and', 'I'),\n",
       " ('brother', 'and', 'sister'),\n",
       " ('young', 'and', 'has'),\n",
       " ('quarrels', 'and', 'this'),\n",
       " ('bed', 'and', 'Dr'),\n",
       " ('wreck', 'and', 'that'),\n",
       " ('ill', 'and', 'he'),\n",
       " ('Goodbye', 'and', 'God'),\n",
       " ('entered', 'and', 'we'),\n",
       " ('you', 'and', 'me”'),\n",
       " ('Hereford', 'and', 'see'),\n",
       " ('them', 'and', 'then'),\n",
       " ('sofa', 'and', 'tried'),\n",
       " ('groping', 'and', 'I'),\n",
       " ('room', 'and', 'gave'),\n",
       " ('unforeseen', 'and', 'extraordinary'),\n",
       " ('father', 'and', 'the'),\n",
       " ('terrible', 'and', 'deadly'),\n",
       " ('bell', 'and', 'called'),\n",
       " ('bone', 'and', 'the'),\n",
       " ('flight', 'and', 'must'),\n",
       " ('return', 'and', 'to'),\n",
       " ('mysteries', 'and', 'improbabilities'),\n",
       " ('opinion', 'and', 'yet'),\n",
       " ('best', 'and', 'keenest'),\n",
       " ('that', 'and', 'I'),\n",
       " ('it', 'and', 'was'),\n",
       " ('at', 'and', 'I'),\n",
       " ('lad', 'and', 'before'),\n",
       " ('Bristol', 'and', 'marry'),\n",
       " ('himself', 'and', 'his'),\n",
       " ('Bristol', 'and', 'his'),\n",
       " ('trouble', 'and', 'likely'),\n",
       " ('utterly', 'and', 'has'),\n",
       " ('Pool', 'and', 'that'),\n",
       " ('away', 'and', 'he'),\n",
       " ('please', 'and', 'we'),\n",
       " ('foretold', 'and', 'the'),\n",
       " ('bright', 'and', 'cloudless'),\n",
       " ('carriage', 'and', 'we'),\n",
       " ('Farm', 'and', 'the'),\n",
       " ('abroad', 'and', 'he'),\n",
       " ('McCarthy’s', 'and', 'I'),\n",
       " ('own', 'and', 'to'),\n",
       " ('estate', 'and', 'that'),\n",
       " ('proposal', 'and', 'all'),\n",
       " ('deductions', 'and', 'the'),\n",
       " ('theories', 'and', 'fancies”'),\n",
       " ('junior', 'and', 'that'),\n",
       " ('blinds', 'and', 'the'),\n",
       " ('death', 'and', 'also'),\n",
       " ('thinker', 'and', 'logician'),\n",
       " ('flushed', 'and', 'darkened'),\n",
       " ('compressed', 'and', 'the'),\n",
       " ('chase', 'and', 'his'),\n",
       " ('Swiftly', 'and', 'silently'),\n",
       " ('meadows', 'and', 'so'),\n",
       " ('district', 'and', 'there'),\n",
       " ('path', 'and', 'amid'),\n",
       " ('dead', 'and', 'once'),\n",
       " ('Lestrade', 'and', 'I'),\n",
       " ('indifferent', 'and', 'contemptuous'),\n",
       " ('Farm', 'and', 'the'),\n",
       " ('thick', 'and', 'there'),\n",
       " ('trees', 'and', 'the'),\n",
       " ('found', 'and', 'indeed'),\n",
       " ('face', 'and', 'peering'),\n",
       " ('scent', 'and', 'then'),\n",
       " ('it', 'and', 'there'),\n",
       " ('buffalo', 'and', 'wallowed'),\n",
       " ('came', 'and', 'they'),\n",
       " ('lens', 'and', 'lay'),\n",
       " ('walking', 'and', 'once'),\n",
       " ('marked', 'and', 'the'),\n",
       " ('up', 'and', 'down'),\n",
       " ('up', 'and', 'down'),\n",
       " ('wood', 'and', 'under'),\n",
       " ('this', 'and', 'lay'),\n",
       " ('leaves', 'and', 'dried'),\n",
       " ('envelope', 'and', 'examining'),\n",
       " ('moss', 'and', 'this'),\n",
       " ('examined', 'and', 'retained'),\n",
       " ('in', 'and', 'have'),\n",
       " ('Moran', 'and', 'perhaps'),\n",
       " ('cab', 'and', 'I'),\n",
       " ('cab', 'and', 'drove'),\n",
       " ('shootingboots', 'and', 'a'),\n",
       " ('cigarholder', 'and', 'carries'),\n",
       " ('method', 'and', 'I'),\n",
       " ('afternoon', 'and', 'shall'),\n",
       " ('silent', 'and', 'buried'),\n",
       " ('chair', 'and', 'let'),\n",
       " ('do', 'and', 'I'),\n",
       " ('cigar', 'and', 'let'),\n",
       " ('favor', 'and', 'you'),\n",
       " ('commence', 'and', 'we'),\n",
       " ('cry', 'and', 'one'),\n",
       " ('pocket', 'and', 'flattened'),\n",
       " ('uttered', 'and', 'of'),\n",
       " ('behind', 'and', 'yet'),\n",
       " ('father', 'and', 'son'),\n",
       " ('this', 'and', 'written'),\n",
       " ('cigar', 'and', 'cigarette'),\n",
       " ('round', 'and', 'discovered'),\n",
       " ('escape', 'and', 'you'),\n",
       " ('sittingroom', 'and', 'ushering'),\n",
       " ('strange', 'and', 'impressive'),\n",
       " ('step', 'and', 'bowed'),\n",
       " ('decrepitude', 'and', 'yet'),\n",
       " ('features', 'and', 'his'),\n",
       " ('body', 'and', 'of'),\n",
       " ('hair', 'and', 'outstanding'),\n",
       " ('dignity', 'and', 'power'),\n",
       " ('lips', 'and', 'the'),\n",
       " ('deadly', 'and', 'chronic'),\n",
       " ('here', 'and', 'I'),\n",
       " ('rose', 'and', 'sat'),\n",
       " ('hand', 'and', 'a'),\n",
       " ('it', 'and', 'Watson'),\n",
       " ('years', 'and', 'he'),\n",
       " ('hotblooded', 'and', 'reckless'),\n",
       " ('bush', 'and', 'in'),\n",
       " ('us', 'and', 'we'),\n",
       " ('under', 'and', 'our'),\n",
       " ('Melbourne', 'and', 'we'),\n",
       " ('it', 'and', 'attacked'),\n",
       " ('troopers', 'and', 'six'),\n",
       " ('men', 'and', 'made'),\n",
       " ('pals', 'and', 'determined'),\n",
       " ('quiet', 'and', 'respectable'),\n",
       " ('market', 'and', 'I'),\n",
       " ('too', 'and', 'though'),\n",
       " ('leaf', 'and', 'did'),\n",
       " ('investment', 'and', 'I'),\n",
       " ('me', 'and', 'my'),\n",
       " ('son', 'and', 'you'),\n",
       " ('England', 'and', 'there’s'),\n",
       " ('off', 'and', 'there'),\n",
       " ('have', 'and', 'whatever'),\n",
       " ('up', 'and', 'so'),\n",
       " ('girl', 'and', 'as'),\n",
       " ('him', 'and', 'that'),\n",
       " ('cigar', 'and', 'waited'),\n",
       " ('black', 'and', 'bitter'),\n",
       " ('I', 'and', 'all'),\n",
       " ('dying', 'and', 'a'),\n",
       " ('mind', 'and', 'fairly'),\n",
       " ('memory', 'and', 'my'),\n",
       " ('foul', 'and', 'venomous'),\n",
       " ('confession', 'and', 'if'),\n",
       " ('eye', 'and', 'your'),\n",
       " ('Tottering', 'and', 'shaking'),\n",
       " ('words', 'and', 'say'),\n",
       " ('Holmes', 'and', 'submitted'),\n",
       " ('dead', 'and', 'there'),\n",
       " ('son', 'and', 'daughter'),\n",
       " ('notes', 'and', 'records'),\n",
       " ('’82', 'and', '’90'),\n",
       " ('strange', 'and', 'interesting'),\n",
       " ('choose', 'and', 'which'),\n",
       " ('papers', 'and', 'others'),\n",
       " ('degree', 'and', 'which'),\n",
       " ('skill', 'and', 'would'),\n",
       " ('up', 'and', 'have'),\n",
       " ('conjecture', 'and', 'surmise'),\n",
       " ('details', 'and', 'so'),\n",
       " ('been', 'and', 'probably'),\n",
       " ('Uffa', 'and', 'finally'),\n",
       " ('before', 'and', 'that'),\n",
       " ('September', 'and', 'the'),\n",
       " ('screamed', 'and', 'the'),\n",
       " ('life', 'and', 'to'),\n",
       " ('higher', 'and', 'louder'),\n",
       " ('louder', 'and', 'the'),\n",
       " ('cried', 'and', 'sobbed'),\n",
       " ('text', 'and', 'the'),\n",
       " ('mother’s', 'and', 'for'),\n",
       " ('day', 'and', 'at'),\n",
       " ('passage', 'and', 'a'),\n",
       " ('himself', 'and', 'towards'),\n",
       " ('wellgroomed', 'and', 'trimly'),\n",
       " ('refinement', 'and', 'delicacy'),\n",
       " ('hand', 'and', 'his'),\n",
       " ('lamp', 'and', 'I'),\n",
       " ('pale', 'and', 'his'),\n",
       " ('storm', 'and', 'rain'),\n",
       " ('coat', 'and', 'umbrella”'),\n",
       " ('hook', 'and', 'will'),\n",
       " ('clay', 'and', 'chalk'),\n",
       " ('men', 'and', 'once'),\n",
       " ('fire', 'and', 'favor'),\n",
       " ('mysterious', 'and', 'inexplicable'),\n",
       " ('commencement', 'and', 'I'),\n",
       " ('up', 'and', 'pushed'),\n",
       " ('Elias', 'and', 'my'),\n",
       " ('tire', 'and', 'his'),\n",
       " ('it', 'and', 'to'),\n",
       " ('man', 'and', 'became'),\n",
       " ('army', 'and', 'afterwards'),\n",
       " ('Europe', 'and', 'took'),\n",
       " ('States', 'and', 'his'),\n",
       " ('negroes', 'and', 'his'),\n",
       " ('fierce', 'and', 'quicktempered'),\n",
       " ('angry', 'and', 'of'),\n",
       " ('garden', 'and', 'two'),\n",
       " ('house', 'and', 'there'),\n",
       " ('brandy', 'and', 'smoked'),\n",
       " ('society', 'and', 'did'),\n",
       " ('him', 'and', 'he'),\n",
       " ('backgammon', 'and', 'draughts'),\n",
       " ('me', 'and', 'he'),\n",
       " ('servants', 'and', 'with'),\n",
       " ('keys', 'and', 'could'),\n",
       " ('liked', 'and', 'do'),\n",
       " ('locked', 'and', 'which'),\n",
       " ('trunks', 'and', 'bundles'),\n",
       " ('money', 'and', 'he'),\n",
       " ('putty', 'and', 'he'),\n",
       " ('shrieked', 'and', 'then'),\n",
       " ('he', 'and', 'rising'),\n",
       " ('envelope', 'and', 'saw'),\n",
       " ('breakfasttable', 'and', 'as'),\n",
       " ('hand', 'and', 'a'),\n",
       " ('today', 'and', 'send'),\n",
       " ('ordered', 'and', 'when'),\n",
       " ('brightly', 'and', 'in'),\n",
       " ('open', 'and', 'empty'),\n",
       " ('advantages', 'and', 'all'),\n",
       " ('well', 'and', 'good'),\n",
       " ('boy', 'and', 'leave'),\n",
       " ('directed', 'and', 'the'),\n",
       " ...]"
      ]
     },
     "execution_count": 12,
     "metadata": {},
     "output_type": "execute_result"
    }
   ],
   "source": [
    "punctuation = \"\"\"!'()*+,— -./:;<=>?@[\\]^_`{|\"}~#$%&\"\"\"\n",
    "words_no_punc = [''.join(char for char in word if char not in punctuation) for word in words]\n",
    "triplets = []\n",
    "for i in range(1,len(words)-1):\n",
    "    if words_no_punc[i] == \"and\":\n",
    "        triplets.append((words_no_punc[i-1],words_no_punc[i],words_no_punc[i+1]))\n",
    "triplets"
   ]
  },
  {
   "cell_type": "markdown",
   "metadata": {},
   "source": [
    "(b)"
   ]
  },
  {
   "cell_type": "markdown",
   "metadata": {},
   "source": [
    "This procedure iterates over all words in L and finds any triplet where the last 3 letters of the final word of the triplet are the same 3 letters as the last 3 letters of word W chosen from L."
   ]
  },
  {
   "cell_type": "code",
   "execution_count": 13,
   "metadata": {},
   "outputs": [
    {
     "data": {
      "text/plain": [
       "[('away and told', 'gold'),\n",
       " ('rapidly and told', 'gold'),\n",
       " ('Silk and Gold', 'gold'),\n",
       " ('indemnify and hold', 'gold'),\n",
       " ('delicacy and every', 'robbery'),\n",
       " ('pay and very', 'robbery'),\n",
       " ('ten and every', 'robbery'),\n",
       " ('Abbots and Archery', 'robbery'),\n",
       " ('police and every', 'robbery'),\n",
       " ('Air and scenery', 'robbery'),\n",
       " ('long and very', 'robbery'),\n",
       " ('armchair and cheery', 'robbery'),\n",
       " ('police and very', 'robbery'),\n",
       " ('do and Frank', 'bank'),\n",
       " ('mercifully and thank', 'bank'),\n",
       " ('help and advice', 'police')]"
      ]
     },
     "execution_count": 13,
     "metadata": {},
     "output_type": "execute_result"
    }
   ],
   "source": [
    "L = ['gold','diamond','robbery','bank','police']\n",
    "matches = []\n",
    "for W in L:\n",
    "    for t in triplets:\n",
    "        if t[2][-3:] == W[-3:]:\n",
    "            matches.append((' '.join(t),W))\n",
    "\n",
    "matches"
   ]
  },
  {
   "cell_type": "markdown",
   "metadata": {},
   "source": [
    "(c)"
   ]
  },
  {
   "cell_type": "markdown",
   "metadata": {},
   "source": [
    "# TODO:\n",
    "\n",
    "Come back to this and get it to work"
   ]
  },
  {
   "cell_type": "code",
   "execution_count": 243,
   "metadata": {},
   "outputs": [],
   "source": [
    "with open(\"PADL-Q3.txt\") as q3_dataset:\n",
    "    dataset = []\n",
    "    for line in q3_dataset:\n",
    "        dataset.append(utils.simple_preprocess(line))\n",
    "for i in range(len(dataset)-1):\n",
    "    if dataset[i] == []:\n",
    "        dataset[i] = dataset[i-1] + dataset[i+1]"
   ]
  },
  {
   "cell_type": "code",
   "execution_count": 204,
   "metadata": {},
   "outputs": [],
   "source": [
    "class Q3Data:\n",
    "    def __init__(self,dir):\n",
    "        self.dir = dir\n",
    "    def __iter__(self):\n",
    "        with open(self.dir) as q3_dataset:\n",
    "            for line in q3_dataset:\n",
    "                if line != '\\n':\n",
    "                    yield utils.simple_preprocess(line)"
   ]
  },
  {
   "cell_type": "code",
   "execution_count": 205,
   "metadata": {},
   "outputs": [],
   "source": [
    "raw_data = open(\"PADL-Q3.txt\")\n",
    "raw_data = raw_data.read().splitlines()\n",
    "sentences = Q3Data(\"PADL-Q3.txt\")\n",
    "model = Word2Vec()"
   ]
  },
  {
   "cell_type": "code",
   "execution_count": 206,
   "metadata": {},
   "outputs": [
    {
     "data": {
      "text/plain": [
       "(609978, 1094790)"
      ]
     },
     "execution_count": 206,
     "metadata": {},
     "output_type": "execute_result"
    }
   ],
   "source": [
    "model.build_vocab(sentences)\n",
    "model.train(sentences,total_examples=model.corpus_count,epochs=10)"
   ]
  },
  {
   "cell_type": "code",
   "execution_count": 207,
   "metadata": {},
   "outputs": [
    {
     "data": {
      "text/plain": [
       "['the', 'and', 'of', 'to', 'a', 'I', 'in', 'that', 'was', 'his']"
      ]
     },
     "execution_count": 207,
     "metadata": {},
     "output_type": "execute_result"
    }
   ],
   "source": [
    "model.wv.index_to_key[:10]"
   ]
  },
  {
   "cell_type": "code",
   "execution_count": 208,
   "metadata": {},
   "outputs": [
    {
     "data": {
      "text/plain": [
       "[('threw', 0.9981973767280579),\n",
       " ('ran', 0.9977813363075256),\n",
       " ('open,', 0.9977414011955261),\n",
       " ('slipped', 0.9977303147315979),\n",
       " ('fell', 0.9977186918258667),\n",
       " ('window,', 0.9975656867027283),\n",
       " ('across', 0.997504711151123),\n",
       " ('bent', 0.9974974393844604),\n",
       " ('forward,', 0.9974319934844971),\n",
       " ('hurried', 0.99741530418396)]"
      ]
     },
     "execution_count": 208,
     "metadata": {},
     "output_type": "execute_result"
    }
   ],
   "source": [
    "model.wv.similar_by_key('lamp')"
   ]
  },
  {
   "cell_type": "markdown",
   "metadata": {},
   "source": [
    "# Q4:"
   ]
  },
  {
   "cell_type": "markdown",
   "metadata": {},
   "source": [
    "Define MLP using Fully Connected and ReLU layers only:"
   ]
  },
  {
   "cell_type": "code",
   "execution_count": 15,
   "metadata": {},
   "outputs": [],
   "source": [
    "class MultiplyMLP(nn.Module):\n",
    "    def __init__(self, inputSize, hiddenSize):\n",
    "        super(MultiplyMLP, self).__init__()\n",
    "        self.linear1 = nn.Linear(inputSize,hiddenSize)\n",
    "        self.relu = nn.ReLU()\n",
    "        self.linear2 = nn.Linear(hiddenSize,1)\n",
    "    \n",
    "    def forward(self,x):\n",
    "        x = self.linear1(x)\n",
    "        x = self.relu(x)\n",
    "        x = self.linear2(x)\n",
    "        return x"
   ]
  },
  {
   "cell_type": "markdown",
   "metadata": {},
   "source": [
    "Function to generate random training data in the range [-100,100):"
   ]
  },
  {
   "cell_type": "code",
   "execution_count": 16,
   "metadata": {},
   "outputs": [],
   "source": [
    "def generate_data(low,high,num_samples):\n",
    "    x1 = np.random.uniform(low,high, num_samples)\n",
    "    x2 = np.random.uniform(low,high, num_samples)\n",
    "    y_true = x1 * x2\n",
    "    data = torch.tensor(np.column_stack((x1, x2))).to(torch.float32)\n",
    "    labels = torch.tensor(y_true).reshape(-1, 1)\n",
    "    return data, labels"
   ]
  },
  {
   "cell_type": "markdown",
   "metadata": {},
   "source": [
    "Run training loop to train on random data:"
   ]
  },
  {
   "cell_type": "code",
   "execution_count": 17,
   "metadata": {},
   "outputs": [
    {
     "name": "stdout",
     "output_type": "stream",
     "text": [
      "Epoch [250/1000], Loss: 627.1599\n",
      "Epoch [500/1000], Loss: 58.6277\n",
      "Epoch [750/1000], Loss: 26.6937\n",
      "Epoch [1000/1000], Loss: 24.4932\n"
     ]
    }
   ],
   "source": [
    "# Define hyperparameters\n",
    "input_size = 2\n",
    "hidden_size = 64\n",
    "learning_rate = 0.01\n",
    "num_epochs = 1000\n",
    "batch_size = 32\n",
    "num_samples = 3000\n",
    "# Use L1Loss for absolute error\n",
    "criterion = nn.L1Loss()\n",
    "\n",
    "q4_model = MultiplyMLP(input_size,hidden_size)\n",
    "optimiser = optim.Adam(q4_model.parameters(), lr=learning_rate)\n",
    "\n",
    "# Create list to store loss values in for plotting\n",
    "losses = []\n",
    "\n",
    "for epoch in range(num_epochs):\n",
    "    for i in range(0,num_samples,batch_size):\n",
    "        data,labels = generate_data(-100,100,batch_size)\n",
    "\n",
    "        output = q4_model(data)\n",
    "        loss = criterion(output, labels)\n",
    "\n",
    "        optimiser.zero_grad()\n",
    "        loss.backward()\n",
    "        optimiser.step()\n",
    "\n",
    "    if (epoch+1) % 250 == 0:\n",
    "        print(f'Epoch [{epoch+1}/{num_epochs}], Loss: {loss.item():.4f}')\n",
    "    if (epoch+1) % 10 == 0:\n",
    "        losses.append(loss.item())\n",
    "\n"
   ]
  },
  {
   "cell_type": "code",
   "execution_count": 18,
   "metadata": {},
   "outputs": [
    {
     "data": {
      "text/plain": [
       "[<matplotlib.lines.Line2D at 0x15846b165b0>]"
      ]
     },
     "execution_count": 18,
     "metadata": {},
     "output_type": "execute_result"
    },
    {
     "data": {
      "image/png": "[encoded data removed]",
      "text/plain": [
       "<Figure size 640x480 with 1 Axes>"
      ]
     },
     "metadata": {},
     "output_type": "display_data"
    }
   ],
   "source": [
    "epochs = np.arange(1,1001,10)\n",
    "plt.xlabel(\"Epoch\")\n",
    "plt.ylabel(\"Absolute Loss\")\n",
    "plt.plot(epochs,losses)"
   ]
  },
  {
   "cell_type": "markdown",
   "metadata": {},
   "source": [
    "Evaluate and compare random example's predicted value vs real value:"
   ]
  },
  {
   "cell_type": "code",
   "execution_count": 19,
   "metadata": {},
   "outputs": [
    {
     "name": "stdout",
     "output_type": "stream",
     "text": [
      "x1, x2 = -97.3343201, 84.2313766\n",
      "Predicted vs Actual value: -8170.90576171875 vs -8198.603655411494\n",
      "Test L1 Loss: 27.6978937\n"
     ]
    }
   ],
   "source": [
    "x,y = generate_data(-100,100,1)\n",
    "\n",
    "with torch.no_grad():\n",
    "    q4_model.eval()\n",
    "    y_pred = q4_model(x)\n",
    "l1 = criterion(y_pred,y).item()\n",
    "\n",
    "print(f'x1, x2 = {x[0][0]:.7f}, {x[0][1]:.7f}')\n",
    "print(f'Predicted vs Actual value: {y_pred[0][0]} vs {y[0][0]}')\n",
    "print(f'Test L1 Loss: {l1:.7f}')"
   ]
  },
  {
   "cell_type": "markdown",
   "metadata": {},
   "source": [
    "Generate 100 random samples to test and evaluate average loss within range of training data:"
   ]
  },
  {
   "cell_type": "code",
   "execution_count": 20,
   "metadata": {},
   "outputs": [
    {
     "name": "stdout",
     "output_type": "stream",
     "text": [
      "Average loss within range of training data = 22.3594613\n"
     ]
    }
   ],
   "source": [
    "x_val,y_val = generate_data(-100,100,100)\n",
    "q4_model.eval()\n",
    "\n",
    "total_loss = 0\n",
    "for i in range(100):\n",
    "    with torch.no_grad():\n",
    "        y_pred = q4_model(x_val[i])\n",
    "        l1 = criterion(y_pred,y_val[i])\n",
    "    total_loss+=l1\n",
    "\n",
    "print(f'Average loss within range of training data = {total_loss/100:.7f}')"
   ]
  },
  {
   "cell_type": "markdown",
   "metadata": {},
   "source": [
    "Generate 100 random samples outside range of training data and calculate average loss:"
   ]
  },
  {
   "cell_type": "code",
   "execution_count": 21,
   "metadata": {},
   "outputs": [
    {
     "name": "stdout",
     "output_type": "stream",
     "text": [
      "Average loss outside range of training data = 56874.2062989\n"
     ]
    }
   ],
   "source": [
    "x_test_neg,y_test_neg = generate_data(-500,-100,50)\n",
    "x_test_pos,y_test_pos = generate_data(100.01,500,50)\n",
    "\n",
    "total_loss = 0\n",
    "for i in range(50):\n",
    "    with torch.no_grad():\n",
    "        y_pred = q4_model(x_test_neg[i])\n",
    "        l1 = criterion(y_pred,y_test_neg[i])\n",
    "    total_loss+=l1\n",
    "\n",
    "for i in range(50):\n",
    "    with torch.no_grad():\n",
    "        y_pred = q4_model(x_test_pos[i])\n",
    "        l1 = criterion(y_pred,y_test_pos[i])\n",
    "    total_loss+=l1\n",
    "\n",
    "print(f'Average loss outside range of training data = {total_loss/100:.7f}')"
   ]
  },
  {
   "cell_type": "markdown",
   "metadata": {},
   "source": [
    "# Q5:"
   ]
  },
  {
   "cell_type": "markdown",
   "metadata": {},
   "source": [
    "(a)"
   ]
  },
  {
   "cell_type": "code",
   "execution_count": 22,
   "metadata": {},
   "outputs": [],
   "source": [
    "class ClocksDataset(Dataset):\n",
    "    \"\"\"Custom Clocks Dataset\"\"\"\n",
    "\n",
    "    def __init__(self,img_dir):\n",
    "\n",
    "        self.img_dir = img_dir\n",
    "        images = []\n",
    "        labels = []\n",
    "\n",
    "        for i in range(10000):\n",
    "            images.append(f\"{i:04d}.png\")\n",
    "            labels.append(f\"{i:04d}.txt\")\n",
    "        \n",
    "        self.images = sorted(images)\n",
    "        self.labels = sorted(labels)\n",
    "\n",
    "    def __len__(self):\n",
    "        return len(self.images)\n",
    "\n",
    "    def __getitem__(self,idx):\n",
    "        img_path = self.images[idx]\n",
    "        label_path = self.labels[idx]\n",
    "\n",
    "        image = (read_image(self.img_dir + img_path)).to(torch.float32)/255.0\n",
    "        label = self.read_label(self.img_dir + label_path)\n",
    "\n",
    "        return image,label\n",
    "    \n",
    "    def read_label(self,label_path):\n",
    "        with open(label_path) as label_file:\n",
    "            raw_label = label_file.read()\n",
    "        label_vals = raw_label.split(':')\n",
    "        label_vals = [float(val) for val in label_vals]\n",
    "        hours = label_vals[0]\n",
    "        mins = label_vals[1]\n",
    "        return torch.tensor((hours,mins), dtype=torch.float32)"
   ]
  },
  {
   "cell_type": "code",
   "execution_count": 23,
   "metadata": {},
   "outputs": [],
   "source": [
    "batch_size = 32\n",
    "dataset = ClocksDataset(\"clocks_dataset/train/\")\n",
    "dataloader = DataLoader(dataset, batch_size=batch_size)\n",
    "train_data,validation_data = torch.utils.data.random_split(dataset,[9600,400])"
   ]
  },
  {
   "cell_type": "code",
   "execution_count": 24,
   "metadata": {},
   "outputs": [
    {
     "data": {
      "text/plain": [
       "torch.Size([3, 448, 448])"
      ]
     },
     "execution_count": 24,
     "metadata": {},
     "output_type": "execute_result"
    }
   ],
   "source": [
    "dataset[0][0].shape"
   ]
  },
  {
   "cell_type": "code",
   "execution_count": 25,
   "metadata": {},
   "outputs": [
    {
     "name": "stdout",
     "output_type": "stream",
     "text": [
      "Label value: tensor(0.) , tensor(19.)\n",
      "Human readable: 0:19\n"
     ]
    },
    {
     "data": {
      "text/plain": [
       "<matplotlib.image.AxesImage at 0x15848f4a130>"
      ]
     },
     "execution_count": 25,
     "metadata": {},
     "output_type": "execute_result"
    },
    {
     "data": {
      "image/png": "[encoded data removed]",
      "text/plain": [
       "<Figure size 640x480 with 1 Axes>"
      ]
     },
     "metadata": {},
     "output_type": "display_data"
    }
   ],
   "source": [
    "random_img = np.random.randint(0,8999)\n",
    "print(\"Label value:\",train_data[random_img][1][0],',',train_data[random_img][1][1])\n",
    "print(\"Human readable:\",str(int(train_data[random_img][1][0].item()))+':'+str(int(train_data[random_img][1][1].item())))\n",
    "plt.imshow(train_data[random_img][0].permute(1,2,0))"
   ]
  },
  {
   "cell_type": "code",
   "execution_count": 26,
   "metadata": {},
   "outputs": [
    {
     "name": "stdout",
     "output_type": "stream",
     "text": [
      "torch.Size([32, 3, 448, 448])\n",
      "torch.Size([32, 2])\n"
     ]
    }
   ],
   "source": [
    "train_loader = DataLoader(train_data,batch_size=batch_size,shuffle=True)\n",
    "valid_loader = DataLoader(validation_data,batch_size=batch_size,shuffle=True)\n",
    "\n",
    "images,labels = next(iter(train_loader))\n",
    "print(images.shape)\n",
    "print(labels.shape)"
   ]
  },
  {
   "cell_type": "code",
   "execution_count": 27,
   "metadata": {},
   "outputs": [
    {
     "data": {
      "image/png": "[encoded data removed]",
      "text/plain": [
       "<Figure size 1000x800 with 9 Axes>"
      ]
     },
     "metadata": {},
     "output_type": "display_data"
    }
   ],
   "source": [
    "images, labels = next(iter(train_loader))\n",
    "\n",
    "figure = plt.figure(figsize=(10, 8))\n",
    "cols, rows = 3, 3\n",
    "for i in range(cols * rows):\n",
    "    figure.add_subplot(rows, cols, i+1)\n",
    "    plt.title((str(int(labels[i][0].item()))+':'+str(int(labels[i][1].item()))))\n",
    "    plt.axis(\"off\")\n",
    "    plt.imshow(images[i,:].permute(1,2,0))\n",
    "plt.show()"
   ]
  },
  {
   "cell_type": "markdown",
   "metadata": {},
   "source": [
    "(b)"
   ]
  },
  {
   "cell_type": "markdown",
   "metadata": {},
   "source": [
    "class ClocksCNN(nn.Module):\n",
    "    def __init__(self):\n",
    "        super(ClocksCNN,self).__init__()\n",
    "        self.layers = nn.Sequential(\n",
    "            nn.Conv2d(in_channels=3,out_channels=8,kernel_size=3,stride=1,padding=1),\n",
    "            nn.BatchNorm2d(8),\n",
    "            nn.ReLU(),\n",
    "            nn.MaxPool2d(kernel_size=2,stride=2), # 8 x 224 x 224\n",
    "            nn.Conv2d(in_channels=8,out_channels=16,kernel_size=3,stride=1,padding=1),\n",
    "            nn.BatchNorm2d(16),  \n",
    "            nn.ReLU(),\n",
    "            nn.MaxPool2d(kernel_size=2,stride=2), # 16 x 112 x 112\n",
    "            nn.Conv2d(in_channels=16,out_channels=32,kernel_size=3,stride=1,padding=1),\n",
    "            nn.BatchNorm2d(32),\n",
    "            nn.ReLU(),\n",
    "            nn.MaxPool2d(kernel_size=2,stride=2), # 32 x 56 x 56\n",
    "            nn.Conv2d(in_channels=32,out_channels=64,kernel_size=3,stride=1,padding=1),\n",
    "            nn.BatchNorm2d(64),\n",
    "            nn.ReLU(),\n",
    "            nn.MaxPool2d(kernel_size=2,stride=2), # 64 x 28 x 28\n",
    "            nn.Conv2d(in_channels=64,out_channels=128,kernel_size=3,stride=1,padding=1),\n",
    "            nn.BatchNorm2d(128),\n",
    "            nn.ReLU(),\n",
    "            nn.MaxPool2d(kernel_size=2,stride=2), # 128 x 14 x 14\n",
    "            nn.Conv2d(in_channels=128,out_channels=256,kernel_size=3,stride=1,padding=0),\n",
    "            nn.BatchNorm2d(256),\n",
    "            nn.ReLU(),\n",
    "            nn.MaxPool2d(kernel_size=2,stride=2), # 256 x 6 x 6\n",
    "            nn.Flatten())\n",
    "        \n",
    "        self.MLPhours = nn.Sequential(\n",
    "            nn.Linear(in_features=256*6*6,out_features=128),\n",
    "            nn.ReLU(),\n",
    "            nn.Linear(in_features=128,out_features=12)\n",
    "        )\n",
    "\n",
    "        self.MLPmins = nn.Sequential(\n",
    "            nn.Linear(in_features=256*6*6,out_features=128),\n",
    "            nn.ReLU(),\n",
    "            nn.Linear(in_features=128,out_features=1),\n",
    "            nn.Sigmoid()\n",
    "        )\n",
    "\n",
    "    def forward(self,x):\n",
    "        x = self.layers(x)\n",
    "        hours = self.MLPhours(x)\n",
    "        mins = self.MLPmins(x)\n",
    "        mins = mins*60\n",
    "        return hours,mins\n",
    "\n",
    "q5_model = ClocksCNN()"
   ]
  },
  {
   "cell_type": "code",
   "execution_count": 28,
   "metadata": {},
   "outputs": [],
   "source": [
    "class ClocksCNN(nn.Module):\n",
    "    def __init__(self):\n",
    "        super(ClocksCNN,self).__init__()\n",
    "        self.layers = nn.Sequential(\n",
    "            nn.Conv2d(in_channels=3,out_channels=8,kernel_size=3,stride=1,padding=1),\n",
    "            nn.BatchNorm2d(8),\n",
    "            nn.ReLU(),\n",
    "            nn.MaxPool2d(kernel_size=2,stride=2), # 8 x 224 x 224\n",
    "            nn.Conv2d(in_channels=8,out_channels=32,kernel_size=3,stride=1,padding=1),\n",
    "            nn.BatchNorm2d(32),  \n",
    "            nn.ReLU(),\n",
    "            nn.MaxPool2d(kernel_size=2,stride=2), # 32 x 112 x 112\n",
    "            nn.Conv2d(in_channels=32,out_channels=64,kernel_size=3,stride=1,padding=0),\n",
    "            nn.BatchNorm2d(64),\n",
    "            nn.ReLU(),\n",
    "            nn.MaxPool2d(kernel_size=2,stride=4), # 64 x 28 x 28\n",
    "            nn.Flatten())\n",
    "        \n",
    "        self.MLPhours = nn.Sequential(\n",
    "            nn.Linear(in_features=64*28*28,out_features=128),\n",
    "            nn.ReLU(),\n",
    "            nn.Linear(in_features=128,out_features=12)\n",
    "        )\n",
    "\n",
    "        self.MLPmins = nn.Sequential(\n",
    "            nn.Linear(in_features=64*28*28,out_features=128),\n",
    "            nn.ReLU(),\n",
    "            nn.Linear(in_features=128,out_features=1),\n",
    "            nn.Sigmoid()\n",
    "        )\n",
    "\n",
    "    def forward(self,x):\n",
    "        h = self.layers(x)\n",
    "        m = self.layers(x)\n",
    "        hours = self.MLPmins(h)\n",
    "        hours = hours*12*60\n",
    "        mins = self.MLPmins(m)\n",
    "        mins = mins*60\n",
    "        return hours,mins\n",
    "\n",
    "q5_model = ClocksCNN()"
   ]
  },
  {
   "cell_type": "code",
   "execution_count": 29,
   "metadata": {},
   "outputs": [
    {
     "name": "stdout",
     "output_type": "stream",
     "text": [
      "12868253\n"
     ]
    }
   ],
   "source": [
    "total_params = sum(p.numel() for p in q5_model.parameters() if p.requires_grad)\n",
    "print(total_params)"
   ]
  },
  {
   "cell_type": "markdown",
   "metadata": {},
   "source": [
    "(c)"
   ]
  },
  {
   "cell_type": "code",
   "execution_count": 30,
   "metadata": {},
   "outputs": [],
   "source": [
    "# TODO: Justify the chosen loss function(s)\n",
    "criterion_q5_h = nn.L1Loss()\n",
    "criterion_q5_m = nn.L1Loss()"
   ]
  },
  {
   "cell_type": "code",
   "execution_count": 31,
   "metadata": {},
   "outputs": [
    {
     "name": "stdout",
     "output_type": "stream",
     "text": [
      "torch.Size([32, 1])\n",
      "torch.Size([32, 1])\n",
      "torch.Size([32, 2])\n"
     ]
    }
   ],
   "source": [
    "device = torch.device(\"cpu\")\n",
    "\n",
    "q5_model = q5_model.to(device)\n",
    "q5_model.eval()\n",
    "images, labels = next(iter(train_loader))\n",
    "pred_h_test,pred_m_test = q5_model(images)\n",
    "print(pred_h_test.shape)\n",
    "print(pred_m_test.shape)\n",
    "print(labels.shape)"
   ]
  },
  {
   "cell_type": "code",
   "execution_count": 32,
   "metadata": {},
   "outputs": [
    {
     "name": "stdout",
     "output_type": "stream",
     "text": [
      "Prediction: tensor([344.9514, 346.1765, 344.8689, 347.1985, 345.8686, 345.0494, 347.2904,\n",
      "        346.5016, 345.4388, 343.9614, 346.9029, 347.8612, 347.3884, 345.6736,\n",
      "        345.0411, 346.2670, 345.8851, 347.1543, 347.4867, 346.5083, 346.0728,\n",
      "        347.2085, 345.7749, 346.6119, 344.6186, 346.2781, 346.1107, 346.4722,\n",
      "        345.7516, 345.5222, 346.1021, 347.5615], grad_fn=<SelectBackward0>) tensor([28.7459, 28.8480, 28.7391, 28.9332, 28.8224, 28.7541, 28.9409, 28.8751,\n",
      "        28.7866, 28.6634, 28.9086, 28.9884, 28.9490, 28.8061, 28.7534, 28.8556,\n",
      "        28.8238, 28.9295, 28.9572, 28.8757, 28.8394, 28.9340, 28.8146, 28.8843,\n",
      "        28.7182, 28.8565, 28.8426, 28.8727, 28.8126, 28.7935, 28.8418, 28.9635],\n",
      "       grad_fn=<SelectBackward0>)\n",
      "Actual: tensor([360., 240., 420., 300., 660., 420., 300., 540., 600., 120., 240., 120.,\n",
      "        660., 600., 480., 120., 540., 540., 480., 420., 120.,   0.,   0., 240.,\n",
      "        540., 420., 300., 480., 120., 660.,   0., 240.]) tensor([ 7., 24.,  8., 40., 29., 13.,  8., 40., 13., 27., 22., 35.,  4., 58.,\n",
      "         2., 34.,  8., 24., 58., 29.,  5., 59., 33., 38., 32., 30.,  9., 24.,\n",
      "        43., 51., 39., 42.])\n",
      "tensor(177.3795, grad_fn=<MeanBackward0>) tensor(13.5520, grad_fn=<MeanBackward0>)\n",
      "Loss = tensor(190.9315, grad_fn=<AddBackward0>)\n"
     ]
    }
   ],
   "source": [
    "loss_hours = criterion_q5_h(pred_h_test[:,0],labels[:,0]*60)\n",
    "loss_mins = criterion_q5_m(pred_m_test[:,0],labels[:,1])\n",
    "loss = loss_hours + loss_mins\n",
    "print(\"Prediction:\",pred_h_test[:,0],pred_m_test[:,0])\n",
    "print(\"Actual:\",labels[:,0]*60,labels[:,1])\n",
    "print(loss_hours,loss_mins)\n",
    "print(\"Loss =\", loss)"
   ]
  },
  {
   "cell_type": "code",
   "execution_count": 33,
   "metadata": {},
   "outputs": [],
   "source": [
    "def time_diff(pred_h,pred_m,label):\n",
    "    output = 0\n",
    "    for i in range(batch_size):\n",
    "\n",
    "        mins1 = pred_h[i].item() + pred_m[i].item()\n",
    "        mins2 = label[i][0].item()*60 + label[i][1].item()\n",
    "        diff = np.abs(mins1-mins2)\n",
    "\n",
    "        output += np.min([diff,720-diff])\n",
    "    return torch.tensor(output,dtype=torch.float32,requires_grad=True)"
   ]
  },
  {
   "cell_type": "code",
   "execution_count": 34,
   "metadata": {},
   "outputs": [
    {
     "data": {
      "text/plain": [
       "tensor(5604.5513, requires_grad=True)"
      ]
     },
     "execution_count": 34,
     "metadata": {},
     "output_type": "execute_result"
    }
   ],
   "source": [
    "time_diff(pred_h_test[:,0],pred_m_test[:,0],labels)"
   ]
  },
  {
   "cell_type": "markdown",
   "metadata": {},
   "source": [
    "Training loop:"
   ]
  },
  {
   "cell_type": "code",
   "execution_count": 35,
   "metadata": {},
   "outputs": [
    {
     "name": "stdout",
     "output_type": "stream",
     "text": [
      "Epoch [1/25], Iteration [10/300], Loss: 6382.0981\n",
      "Epoch [1/25], Iteration [20/300], Loss: 5828.7954\n",
      "Epoch [1/25], Iteration [30/300], Loss: 5969.0996\n",
      "Epoch [1/25], Iteration [40/300], Loss: 5411.8193\n",
      "Epoch [1/25], Iteration [50/300], Loss: 6038.7778\n",
      "Epoch [1/25], Iteration [60/300], Loss: 4577.6724\n",
      "Epoch [1/25], Iteration [70/300], Loss: 5228.2974\n",
      "Epoch [1/25], Iteration [80/300], Loss: 5279.8848\n",
      "Epoch [1/25], Iteration [90/300], Loss: 6681.1313\n",
      "Epoch [1/25], Iteration [100/300], Loss: 6124.6001\n",
      "Epoch [1/25], Iteration [110/300], Loss: 5870.3330\n",
      "Epoch [1/25], Iteration [120/300], Loss: 6573.8716\n",
      "Epoch [1/25], Iteration [130/300], Loss: 4717.2568\n",
      "Epoch [1/25], Iteration [140/300], Loss: 5307.3745\n",
      "Epoch [1/25], Iteration [150/300], Loss: 5642.5532\n",
      "Epoch [1/25], Iteration [160/300], Loss: 5530.5898\n",
      "Epoch [1/25], Iteration [170/300], Loss: 6215.3545\n",
      "Epoch [1/25], Iteration [180/300], Loss: 5426.8198\n",
      "Epoch [1/25], Iteration [190/300], Loss: 6372.5112\n",
      "Epoch [1/25], Iteration [200/300], Loss: 6144.5742\n",
      "Epoch [1/25], Iteration [210/300], Loss: 5145.4429\n",
      "Epoch [1/25], Iteration [220/300], Loss: 5131.8813\n",
      "Epoch [1/25], Iteration [230/300], Loss: 5233.2773\n",
      "Epoch [1/25], Iteration [240/300], Loss: 6236.4092\n",
      "Epoch [1/25], Iteration [250/300], Loss: 5545.6162\n",
      "Epoch [1/25], Iteration [260/300], Loss: 5290.0986\n",
      "Epoch [1/25], Iteration [270/300], Loss: 5483.0371\n",
      "Epoch [1/25], Iteration [280/300], Loss: 5523.6860\n",
      "Epoch [1/25], Iteration [290/300], Loss: 5637.8618\n",
      "Epoch [1/25], Iteration [300/300], Loss: 5758.6270\n"
     ]
    },
    {
     "ename": "KeyboardInterrupt",
     "evalue": "",
     "output_type": "error",
     "traceback": [
      "\u001b[1;31m---------------------------------------------------------------------------\u001b[0m",
      "\u001b[1;31mKeyboardInterrupt\u001b[0m                         Traceback (most recent call last)",
      "\u001b[1;32m~\\AppData\\Local\\Temp\\ipykernel_24624\\1358451986.py\u001b[0m in \u001b[0;36m<module>\u001b[1;34m\u001b[0m\n\u001b[0;32m     11\u001b[0m \u001b[1;33m\u001b[0m\u001b[0m\n\u001b[0;32m     12\u001b[0m \u001b[1;32mfor\u001b[0m \u001b[0mepoch\u001b[0m \u001b[1;32min\u001b[0m \u001b[0mrange\u001b[0m\u001b[1;33m(\u001b[0m\u001b[0mnum_epochs\u001b[0m\u001b[1;33m)\u001b[0m\u001b[1;33m:\u001b[0m\u001b[1;33m\u001b[0m\u001b[1;33m\u001b[0m\u001b[0m\n\u001b[1;32m---> 13\u001b[1;33m     \u001b[1;32mfor\u001b[0m \u001b[0mi\u001b[0m\u001b[1;33m,\u001b[0m \u001b[1;33m(\u001b[0m\u001b[0mimages\u001b[0m\u001b[1;33m,\u001b[0m\u001b[0mlabels\u001b[0m\u001b[1;33m)\u001b[0m \u001b[1;32min\u001b[0m \u001b[0menumerate\u001b[0m\u001b[1;33m(\u001b[0m\u001b[0mtrain_loader\u001b[0m\u001b[1;33m)\u001b[0m\u001b[1;33m:\u001b[0m\u001b[1;33m\u001b[0m\u001b[1;33m\u001b[0m\u001b[0m\n\u001b[0m\u001b[0;32m     14\u001b[0m         \u001b[0mimages\u001b[0m\u001b[1;33m,\u001b[0m\u001b[0mlabels\u001b[0m \u001b[1;33m=\u001b[0m \u001b[0mimages\u001b[0m\u001b[1;33m.\u001b[0m\u001b[0mto\u001b[0m\u001b[1;33m(\u001b[0m\u001b[0mdevice\u001b[0m\u001b[1;33m)\u001b[0m\u001b[1;33m,\u001b[0m \u001b[0mlabels\u001b[0m\u001b[1;33m.\u001b[0m\u001b[0mto\u001b[0m\u001b[1;33m(\u001b[0m\u001b[0mdevice\u001b[0m\u001b[1;33m)\u001b[0m\u001b[1;33m\u001b[0m\u001b[1;33m\u001b[0m\u001b[0m\n\u001b[0;32m     15\u001b[0m         \u001b[0mpred_h\u001b[0m\u001b[1;33m,\u001b[0m\u001b[0mpred_m\u001b[0m \u001b[1;33m=\u001b[0m \u001b[0mq5_model\u001b[0m\u001b[1;33m(\u001b[0m\u001b[0mimages\u001b[0m\u001b[1;33m)\u001b[0m\u001b[1;33m\u001b[0m\u001b[1;33m\u001b[0m\u001b[0m\n",
      "\u001b[1;32mc:\\Users\\Josh\\anaconda3\\lib\\site-packages\\torch\\utils\\data\\dataloader.py\u001b[0m in \u001b[0;36m__next__\u001b[1;34m(self)\u001b[0m\n\u001b[0;32m    629\u001b[0m                 \u001b[1;31m# TODO(https://github.com/pytorch/pytorch/issues/76750)\u001b[0m\u001b[1;33m\u001b[0m\u001b[1;33m\u001b[0m\u001b[0m\n\u001b[0;32m    630\u001b[0m                 \u001b[0mself\u001b[0m\u001b[1;33m.\u001b[0m\u001b[0m_reset\u001b[0m\u001b[1;33m(\u001b[0m\u001b[1;33m)\u001b[0m  \u001b[1;31m# type: ignore[call-arg]\u001b[0m\u001b[1;33m\u001b[0m\u001b[1;33m\u001b[0m\u001b[0m\n\u001b[1;32m--> 631\u001b[1;33m             \u001b[0mdata\u001b[0m \u001b[1;33m=\u001b[0m \u001b[0mself\u001b[0m\u001b[1;33m.\u001b[0m\u001b[0m_next_data\u001b[0m\u001b[1;33m(\u001b[0m\u001b[1;33m)\u001b[0m\u001b[1;33m\u001b[0m\u001b[1;33m\u001b[0m\u001b[0m\n\u001b[0m\u001b[0;32m    632\u001b[0m             \u001b[0mself\u001b[0m\u001b[1;33m.\u001b[0m\u001b[0m_num_yielded\u001b[0m \u001b[1;33m+=\u001b[0m \u001b[1;36m1\u001b[0m\u001b[1;33m\u001b[0m\u001b[1;33m\u001b[0m\u001b[0m\n\u001b[0;32m    633\u001b[0m             \u001b[1;32mif\u001b[0m \u001b[0mself\u001b[0m\u001b[1;33m.\u001b[0m\u001b[0m_dataset_kind\u001b[0m \u001b[1;33m==\u001b[0m \u001b[0m_DatasetKind\u001b[0m\u001b[1;33m.\u001b[0m\u001b[0mIterable\u001b[0m \u001b[1;32mand\u001b[0m\u001b[0;31m \u001b[0m\u001b[0;31m\\\u001b[0m\u001b[1;33m\u001b[0m\u001b[1;33m\u001b[0m\u001b[0m\n",
      "\u001b[1;32mc:\\Users\\Josh\\anaconda3\\lib\\site-packages\\torch\\utils\\data\\dataloader.py\u001b[0m in \u001b[0;36m_next_data\u001b[1;34m(self)\u001b[0m\n\u001b[0;32m    673\u001b[0m     \u001b[1;32mdef\u001b[0m \u001b[0m_next_data\u001b[0m\u001b[1;33m(\u001b[0m\u001b[0mself\u001b[0m\u001b[1;33m)\u001b[0m\u001b[1;33m:\u001b[0m\u001b[1;33m\u001b[0m\u001b[1;33m\u001b[0m\u001b[0m\n\u001b[0;32m    674\u001b[0m         \u001b[0mindex\u001b[0m \u001b[1;33m=\u001b[0m \u001b[0mself\u001b[0m\u001b[1;33m.\u001b[0m\u001b[0m_next_index\u001b[0m\u001b[1;33m(\u001b[0m\u001b[1;33m)\u001b[0m  \u001b[1;31m# may raise StopIteration\u001b[0m\u001b[1;33m\u001b[0m\u001b[1;33m\u001b[0m\u001b[0m\n\u001b[1;32m--> 675\u001b[1;33m         \u001b[0mdata\u001b[0m \u001b[1;33m=\u001b[0m \u001b[0mself\u001b[0m\u001b[1;33m.\u001b[0m\u001b[0m_dataset_fetcher\u001b[0m\u001b[1;33m.\u001b[0m\u001b[0mfetch\u001b[0m\u001b[1;33m(\u001b[0m\u001b[0mindex\u001b[0m\u001b[1;33m)\u001b[0m  \u001b[1;31m# may raise StopIteration\u001b[0m\u001b[1;33m\u001b[0m\u001b[1;33m\u001b[0m\u001b[0m\n\u001b[0m\u001b[0;32m    676\u001b[0m         \u001b[1;32mif\u001b[0m \u001b[0mself\u001b[0m\u001b[1;33m.\u001b[0m\u001b[0m_pin_memory\u001b[0m\u001b[1;33m:\u001b[0m\u001b[1;33m\u001b[0m\u001b[1;33m\u001b[0m\u001b[0m\n\u001b[0;32m    677\u001b[0m             \u001b[0mdata\u001b[0m \u001b[1;33m=\u001b[0m \u001b[0m_utils\u001b[0m\u001b[1;33m.\u001b[0m\u001b[0mpin_memory\u001b[0m\u001b[1;33m.\u001b[0m\u001b[0mpin_memory\u001b[0m\u001b[1;33m(\u001b[0m\u001b[0mdata\u001b[0m\u001b[1;33m,\u001b[0m \u001b[0mself\u001b[0m\u001b[1;33m.\u001b[0m\u001b[0m_pin_memory_device\u001b[0m\u001b[1;33m)\u001b[0m\u001b[1;33m\u001b[0m\u001b[1;33m\u001b[0m\u001b[0m\n",
      "\u001b[1;32mc:\\Users\\Josh\\anaconda3\\lib\\site-packages\\torch\\utils\\data\\_utils\\fetch.py\u001b[0m in \u001b[0;36mfetch\u001b[1;34m(self, possibly_batched_index)\u001b[0m\n\u001b[0;32m     47\u001b[0m         \u001b[1;32mif\u001b[0m \u001b[0mself\u001b[0m\u001b[1;33m.\u001b[0m\u001b[0mauto_collation\u001b[0m\u001b[1;33m:\u001b[0m\u001b[1;33m\u001b[0m\u001b[1;33m\u001b[0m\u001b[0m\n\u001b[0;32m     48\u001b[0m             \u001b[1;32mif\u001b[0m \u001b[0mhasattr\u001b[0m\u001b[1;33m(\u001b[0m\u001b[0mself\u001b[0m\u001b[1;33m.\u001b[0m\u001b[0mdataset\u001b[0m\u001b[1;33m,\u001b[0m \u001b[1;34m\"__getitems__\"\u001b[0m\u001b[1;33m)\u001b[0m \u001b[1;32mand\u001b[0m \u001b[0mself\u001b[0m\u001b[1;33m.\u001b[0m\u001b[0mdataset\u001b[0m\u001b[1;33m.\u001b[0m\u001b[0m__getitems__\u001b[0m\u001b[1;33m:\u001b[0m\u001b[1;33m\u001b[0m\u001b[1;33m\u001b[0m\u001b[0m\n\u001b[1;32m---> 49\u001b[1;33m                 \u001b[0mdata\u001b[0m \u001b[1;33m=\u001b[0m \u001b[0mself\u001b[0m\u001b[1;33m.\u001b[0m\u001b[0mdataset\u001b[0m\u001b[1;33m.\u001b[0m\u001b[0m__getitems__\u001b[0m\u001b[1;33m(\u001b[0m\u001b[0mpossibly_batched_index\u001b[0m\u001b[1;33m)\u001b[0m\u001b[1;33m\u001b[0m\u001b[1;33m\u001b[0m\u001b[0m\n\u001b[0m\u001b[0;32m     50\u001b[0m             \u001b[1;32melse\u001b[0m\u001b[1;33m:\u001b[0m\u001b[1;33m\u001b[0m\u001b[1;33m\u001b[0m\u001b[0m\n\u001b[0;32m     51\u001b[0m                 \u001b[0mdata\u001b[0m \u001b[1;33m=\u001b[0m \u001b[1;33m[\u001b[0m\u001b[0mself\u001b[0m\u001b[1;33m.\u001b[0m\u001b[0mdataset\u001b[0m\u001b[1;33m[\u001b[0m\u001b[0midx\u001b[0m\u001b[1;33m]\u001b[0m \u001b[1;32mfor\u001b[0m \u001b[0midx\u001b[0m \u001b[1;32min\u001b[0m \u001b[0mpossibly_batched_index\u001b[0m\u001b[1;33m]\u001b[0m\u001b[1;33m\u001b[0m\u001b[1;33m\u001b[0m\u001b[0m\n",
      "\u001b[1;32mc:\\Users\\Josh\\anaconda3\\lib\\site-packages\\torch\\utils\\data\\dataset.py\u001b[0m in \u001b[0;36m__getitems__\u001b[1;34m(self, indices)\u001b[0m\n\u001b[0;32m    417\u001b[0m             \u001b[1;32mreturn\u001b[0m \u001b[0mself\u001b[0m\u001b[1;33m.\u001b[0m\u001b[0mdataset\u001b[0m\u001b[1;33m.\u001b[0m\u001b[0m__getitems__\u001b[0m\u001b[1;33m(\u001b[0m\u001b[1;33m[\u001b[0m\u001b[0mself\u001b[0m\u001b[1;33m.\u001b[0m\u001b[0mindices\u001b[0m\u001b[1;33m[\u001b[0m\u001b[0midx\u001b[0m\u001b[1;33m]\u001b[0m \u001b[1;32mfor\u001b[0m \u001b[0midx\u001b[0m \u001b[1;32min\u001b[0m \u001b[0mindices\u001b[0m\u001b[1;33m]\u001b[0m\u001b[1;33m)\u001b[0m  \u001b[1;31m# type: ignore[attr-defined]\u001b[0m\u001b[1;33m\u001b[0m\u001b[1;33m\u001b[0m\u001b[0m\n\u001b[0;32m    418\u001b[0m         \u001b[1;32melse\u001b[0m\u001b[1;33m:\u001b[0m\u001b[1;33m\u001b[0m\u001b[1;33m\u001b[0m\u001b[0m\n\u001b[1;32m--> 419\u001b[1;33m             \u001b[1;32mreturn\u001b[0m \u001b[1;33m[\u001b[0m\u001b[0mself\u001b[0m\u001b[1;33m.\u001b[0m\u001b[0mdataset\u001b[0m\u001b[1;33m[\u001b[0m\u001b[0mself\u001b[0m\u001b[1;33m.\u001b[0m\u001b[0mindices\u001b[0m\u001b[1;33m[\u001b[0m\u001b[0midx\u001b[0m\u001b[1;33m]\u001b[0m\u001b[1;33m]\u001b[0m \u001b[1;32mfor\u001b[0m \u001b[0midx\u001b[0m \u001b[1;32min\u001b[0m \u001b[0mindices\u001b[0m\u001b[1;33m]\u001b[0m\u001b[1;33m\u001b[0m\u001b[1;33m\u001b[0m\u001b[0m\n\u001b[0m\u001b[0;32m    420\u001b[0m \u001b[1;33m\u001b[0m\u001b[0m\n\u001b[0;32m    421\u001b[0m     \u001b[1;32mdef\u001b[0m \u001b[0m__len__\u001b[0m\u001b[1;33m(\u001b[0m\u001b[0mself\u001b[0m\u001b[1;33m)\u001b[0m\u001b[1;33m:\u001b[0m\u001b[1;33m\u001b[0m\u001b[1;33m\u001b[0m\u001b[0m\n",
      "\u001b[1;32mc:\\Users\\Josh\\anaconda3\\lib\\site-packages\\torch\\utils\\data\\dataset.py\u001b[0m in \u001b[0;36m<listcomp>\u001b[1;34m(.0)\u001b[0m\n\u001b[0;32m    417\u001b[0m             \u001b[1;32mreturn\u001b[0m \u001b[0mself\u001b[0m\u001b[1;33m.\u001b[0m\u001b[0mdataset\u001b[0m\u001b[1;33m.\u001b[0m\u001b[0m__getitems__\u001b[0m\u001b[1;33m(\u001b[0m\u001b[1;33m[\u001b[0m\u001b[0mself\u001b[0m\u001b[1;33m.\u001b[0m\u001b[0mindices\u001b[0m\u001b[1;33m[\u001b[0m\u001b[0midx\u001b[0m\u001b[1;33m]\u001b[0m \u001b[1;32mfor\u001b[0m \u001b[0midx\u001b[0m \u001b[1;32min\u001b[0m \u001b[0mindices\u001b[0m\u001b[1;33m]\u001b[0m\u001b[1;33m)\u001b[0m  \u001b[1;31m# type: ignore[attr-defined]\u001b[0m\u001b[1;33m\u001b[0m\u001b[1;33m\u001b[0m\u001b[0m\n\u001b[0;32m    418\u001b[0m         \u001b[1;32melse\u001b[0m\u001b[1;33m:\u001b[0m\u001b[1;33m\u001b[0m\u001b[1;33m\u001b[0m\u001b[0m\n\u001b[1;32m--> 419\u001b[1;33m             \u001b[1;32mreturn\u001b[0m \u001b[1;33m[\u001b[0m\u001b[0mself\u001b[0m\u001b[1;33m.\u001b[0m\u001b[0mdataset\u001b[0m\u001b[1;33m[\u001b[0m\u001b[0mself\u001b[0m\u001b[1;33m.\u001b[0m\u001b[0mindices\u001b[0m\u001b[1;33m[\u001b[0m\u001b[0midx\u001b[0m\u001b[1;33m]\u001b[0m\u001b[1;33m]\u001b[0m \u001b[1;32mfor\u001b[0m \u001b[0midx\u001b[0m \u001b[1;32min\u001b[0m \u001b[0mindices\u001b[0m\u001b[1;33m]\u001b[0m\u001b[1;33m\u001b[0m\u001b[1;33m\u001b[0m\u001b[0m\n\u001b[0m\u001b[0;32m    420\u001b[0m \u001b[1;33m\u001b[0m\u001b[0m\n\u001b[0;32m    421\u001b[0m     \u001b[1;32mdef\u001b[0m \u001b[0m__len__\u001b[0m\u001b[1;33m(\u001b[0m\u001b[0mself\u001b[0m\u001b[1;33m)\u001b[0m\u001b[1;33m:\u001b[0m\u001b[1;33m\u001b[0m\u001b[1;33m\u001b[0m\u001b[0m\n",
      "\u001b[1;32m~\\AppData\\Local\\Temp\\ipykernel_24624\\3337432712.py\u001b[0m in \u001b[0;36m__getitem__\u001b[1;34m(self, idx)\u001b[0m\n\u001b[0;32m     22\u001b[0m         \u001b[0mlabel_path\u001b[0m \u001b[1;33m=\u001b[0m \u001b[0mself\u001b[0m\u001b[1;33m.\u001b[0m\u001b[0mlabels\u001b[0m\u001b[1;33m[\u001b[0m\u001b[0midx\u001b[0m\u001b[1;33m]\u001b[0m\u001b[1;33m\u001b[0m\u001b[1;33m\u001b[0m\u001b[0m\n\u001b[0;32m     23\u001b[0m \u001b[1;33m\u001b[0m\u001b[0m\n\u001b[1;32m---> 24\u001b[1;33m         \u001b[0mimage\u001b[0m \u001b[1;33m=\u001b[0m \u001b[1;33m(\u001b[0m\u001b[0mread_image\u001b[0m\u001b[1;33m(\u001b[0m\u001b[0mself\u001b[0m\u001b[1;33m.\u001b[0m\u001b[0mimg_dir\u001b[0m \u001b[1;33m+\u001b[0m \u001b[0mimg_path\u001b[0m\u001b[1;33m)\u001b[0m\u001b[1;33m)\u001b[0m\u001b[1;33m.\u001b[0m\u001b[0mto\u001b[0m\u001b[1;33m(\u001b[0m\u001b[0mtorch\u001b[0m\u001b[1;33m.\u001b[0m\u001b[0mfloat32\u001b[0m\u001b[1;33m)\u001b[0m\u001b[1;33m/\u001b[0m\u001b[1;36m255.0\u001b[0m\u001b[1;33m\u001b[0m\u001b[1;33m\u001b[0m\u001b[0m\n\u001b[0m\u001b[0;32m     25\u001b[0m         \u001b[0mlabel\u001b[0m \u001b[1;33m=\u001b[0m \u001b[0mself\u001b[0m\u001b[1;33m.\u001b[0m\u001b[0mread_label\u001b[0m\u001b[1;33m(\u001b[0m\u001b[0mself\u001b[0m\u001b[1;33m.\u001b[0m\u001b[0mimg_dir\u001b[0m \u001b[1;33m+\u001b[0m \u001b[0mlabel_path\u001b[0m\u001b[1;33m)\u001b[0m\u001b[1;33m\u001b[0m\u001b[1;33m\u001b[0m\u001b[0m\n\u001b[0;32m     26\u001b[0m \u001b[1;33m\u001b[0m\u001b[0m\n",
      "\u001b[1;31mKeyboardInterrupt\u001b[0m: "
     ]
    }
   ],
   "source": [
    "device = torch.device(\"cuda\" if torch.cuda.is_available() else \"cpu\")\n",
    "\n",
    "q5_model = q5_model.to(device)\n",
    "q5_model.train()\n",
    "\n",
    "num_epochs = 25\n",
    "optim = torch.optim.Adam(q5_model.parameters(), lr=0.00001)\n",
    "iterations_per_epoch = len(train_loader)\n",
    "\n",
    "losses_q5 = []\n",
    "\n",
    "for epoch in range(num_epochs):\n",
    "    for i, (images,labels) in enumerate(train_loader):\n",
    "        images,labels = images.to(device), labels.to(device)\n",
    "        pred_h,pred_m = q5_model(images)\n",
    "        loss = time_diff(pred_h,pred_m,labels)\n",
    "        optim.zero_grad()\n",
    "        loss.backward()\n",
    "        optim.step()\n",
    "\n",
    "        if (i+1)%10 == 0:\n",
    "            print('Epoch [{}/{}], Iteration [{}/{}], Loss: {:.4f}'.format(epoch+1, num_epochs, i+1, iterations_per_epoch, loss.item()))\n",
    "        if (i+1) % 50 == 0:\n",
    "            losses_q5.append(loss.item())\n",
    "    \n"
   ]
  },
  {
   "cell_type": "code",
   "execution_count": 43,
   "metadata": {},
   "outputs": [
    {
     "data": {
      "text/plain": [
       "[<matplotlib.lines.Line2D at 0x1586ed58dc0>]"
      ]
     },
     "execution_count": 43,
     "metadata": {},
     "output_type": "execute_result"
    },
    {
     "data": {
      "image/png": "[encoded data removed]",
      "text/plain": [
       "<Figure size 640x480 with 1 Axes>"
      ]
     },
     "metadata": {},
     "output_type": "display_data"
    }
   ],
   "source": [
    "epochs = np.arange(1,301,50)\n",
    "plt.xlabel(\"Epoch\")\n",
    "plt.ylabel(\"Absolute Loss\")\n",
    "plt.plot(epochs,losses_q5)"
   ]
  },
  {
   "cell_type": "markdown",
   "metadata": {},
   "source": [
    "Test on a random image from validation set:"
   ]
  },
  {
   "cell_type": "code",
   "execution_count": null,
   "metadata": {},
   "outputs": [
    {
     "name": "stdout",
     "output_type": "stream",
     "text": [
      "Prediction: tensor(4) tensor([37.4431], grad_fn=<SelectBackward0>)\n",
      "Actual: tensor(9.) tensor(37.)\n",
      "tensor(5.) tensor(0.4431, grad_fn=<MeanBackward0>)\n",
      "Loss = tensor(5.4431, grad_fn=<AddBackward0>)\n"
     ]
    }
   ],
   "source": [
    "device = torch.device(\"cpu\")\n",
    "q5_model = q5_model.to(device)\n",
    "q5_model.eval()\n",
    "images_v, labels_v = next(iter(valid_loader))\n",
    "\n",
    "pred_h_valid,pred_m_valid = q5_model(images_v)\n",
    "\n",
    "loss_hours_v = criterion_q5_h(pred_h_valid[0].argmax(),labels_v[:,0][0])\n",
    "loss_mins_v = criterion_q5_m(pred_m_valid[:,0][0],labels_v[:,1][0])\n",
    "loss_v = loss_hours_v + loss_mins_v\n",
    "print(\"Prediction:\",pred_h_valid[0].argmax(),pred_m_valid[0])\n",
    "print(\"Actual:\",labels_v[:,0][0],labels_v[:,1][0])\n",
    "print(loss_hours_v,loss_mins_v)\n",
    "print(\"Loss =\", loss_v)"
   ]
  },
  {
   "cell_type": "markdown",
   "metadata": {},
   "source": [
    "This is minimising the minutes but not hours! It doesn't weight the hours very highly.\n",
    "\n",
    "Convert it all to minutes and try again!"
   ]
  }
 ],
 "metadata": {
  "kernelspec": {
   "display_name": "base",
   "language": "python",
   "name": "python3"
  },
  "language_info": {
   "codemirror_mode": {
    "name": "ipython",
    "version": 3
   },
   "file_extension": ".py",
   "mimetype": "text/x-python",
   "name": "python",
   "nbconvert_exporter": "python",
   "pygments_lexer": "ipython3",
   "version": "3.9.13"
  }
 },
 "nbformat": 4,
 "nbformat_minor": 2
}
