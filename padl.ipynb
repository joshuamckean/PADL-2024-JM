{
 "cells": [
  {
   "cell_type": "markdown",
   "metadata": {},
   "source": [
    "Python version used: **3.9.13**"
   ]
  },
  {
   "cell_type": "markdown",
   "metadata": {},
   "source": [
    "# Go back through everything and add tiles explaining and justifying choices, clean everything up and run fully"
   ]
  },
  {
   "cell_type": "markdown",
   "metadata": {},
   "source": [
    "# Also check it runs in colab"
   ]
  },
  {
   "cell_type": "markdown",
   "metadata": {},
   "source": [
    "Imports:"
   ]
  },
  {
   "cell_type": "code",
   "execution_count": 1,
   "metadata": {},
   "outputs": [],
   "source": [
    "# torch imports\n",
    "import torch\n",
    "import torch.nn as nn\n",
    "import torch.optim as optim\n",
    "import torchvision.transforms as transforms\n",
    "from torchvision.io import read_image\n",
    "from torch.utils.data import Dataset, DataLoader\n",
    "\n",
    "# sklearn imports\n",
    "from sklearn.decomposition import PCA\n",
    "from sklearn.linear_model import LinearRegression, RidgeCV, LassoCV, ElasticNetCV\n",
    "from sklearn.preprocessing import PolynomialFeatures,StandardScaler,MinMaxScaler\n",
    "from sklearn.model_selection import train_test_split\n",
    "from sklearn.metrics import r2_score\n",
    "\n",
    "# gensim imports\n",
    "from gensim.models import Word2Vec\n",
    "from gensim import utils\n",
    "\n",
    "# other imports\n",
    "import csv\n",
    "import PIL\n",
    "import numpy as np\n",
    "import matplotlib.pyplot as plt\n",
    "import pandas as pd"
   ]
  },
  {
   "cell_type": "markdown",
   "metadata": {},
   "source": [
    "Check that CUDA is available (when using my own system):"
   ]
  },
  {
   "cell_type": "code",
   "execution_count": 2,
   "metadata": {},
   "outputs": [
    {
     "data": {
      "text/plain": [
       "True"
      ]
     },
     "execution_count": 2,
     "metadata": {},
     "output_type": "execute_result"
    }
   ],
   "source": [
    "torch.cuda.is_available()"
   ]
  },
  {
   "cell_type": "markdown",
   "metadata": {},
   "source": [
    "# Q1:"
   ]
  },
  {
   "cell_type": "markdown",
   "metadata": {},
   "source": [
    "(a)"
   ]
  },
  {
   "cell_type": "code",
   "execution_count": 3,
   "metadata": {},
   "outputs": [],
   "source": [
    "with open(\"PADL-Q1.csv\") as q1_file:\n",
    "  q1_data = []\n",
    "  q1_dataset = csv.reader(q1_file, delimiter=',')\n",
    "  for row in q1_dataset:\n",
    "    if row[0] != 'x1':\n",
    "      q1_data.append(row)"
   ]
  },
  {
   "cell_type": "code",
   "execution_count": 4,
   "metadata": {},
   "outputs": [
    {
     "name": "stdout",
     "output_type": "stream",
     "text": [
      "[0.53846279 0.30067823 0.1026325  0.04605826 0.01216823]\n"
     ]
    }
   ],
   "source": [
    "pca = PCA(n_components=5)\n",
    "pca.fit(q1_data)\n",
    "newData = pca.fit_transform(q1_data)\n",
    "pca_var_percentage = pca.explained_variance_ratio_\n",
    "print(pca_var_percentage)"
   ]
  },
  {
   "cell_type": "code",
   "execution_count": 5,
   "metadata": {},
   "outputs": [
    {
     "name": "stdout",
     "output_type": "stream",
     "text": [
      "Information retained with 3 variables = 94.177351%\n",
      "\n",
      "Information retained with 4 variables = 98.783177%\n"
     ]
    }
   ],
   "source": [
    "three_dims = pca_var_percentage[0]+pca_var_percentage[1]+pca_var_percentage[2]\n",
    "print(\"Information retained with 3 variables = %f%%\\n\"%(three_dims*100.0))\n",
    "print(\"Information retained with 4 variables = %f%%\"%((three_dims + pca_var_percentage[3])*100.0))"
   ]
  },
  {
   "cell_type": "markdown",
   "metadata": {},
   "source": [
    "Reducing the dimensionality of the dataset by 1 dimension causes information loss of 1.22%. Reducing it by 2 dimensions (down to 3) causes information loss of 5.82% however it is now possible to plot the dataset on a 3D axis, whereas this is not possible with 4 dimensions. Therefore, D_min = 3.\n",
    "\n",
    "\n",
    "\n",
    "\n",
    "\n",
    "(b)"
   ]
  },
  {
   "cell_type": "code",
   "execution_count": 6,
   "metadata": {},
   "outputs": [],
   "source": [
    "pca2 = PCA(n_components=3)\n",
    "pca2.fit(q1_data)\n",
    "newData2 = pca2.fit_transform(q1_data)\n",
    "pca2_components = pca2.components_"
   ]
  },
  {
   "cell_type": "code",
   "execution_count": 7,
   "metadata": {},
   "outputs": [
    {
     "name": "stdout",
     "output_type": "stream",
     "text": [
      "PC1: -0.092819*x1 + 0.025272*x2 + -0.348770*x3 + 0.145083*x4 + -0.920900*x5\n",
      "\n",
      "PC2: 0.005624*x1 + -0.298705*x2 + -0.114221*x3 + -0.940623*x4 + -0.113695*x5\n",
      "\n",
      "PC3: 0.112668*x1 + -0.133156*x2 + 0.914203*x3 + -0.023934*x4 + -0.365014*x5\n",
      "\n"
     ]
    }
   ],
   "source": [
    "i = 1\n",
    "for line in pca2_components:\n",
    "    print(\"PC%i: %f*x1 + %f*x2 + %f*x3 + %f*x4 + %f*x5\\n\"%(i,line[0],line[1],line[2],line[3],line[4]))\n",
    "    i+=1"
   ]
  },
  {
   "cell_type": "markdown",
   "metadata": {},
   "source": [
    "# Q2:"
   ]
  },
  {
   "cell_type": "markdown",
   "metadata": {},
   "source": [
    "Read and split dataset into _data_ and _targets_ Pandas dataframes:"
   ]
  },
  {
   "cell_type": "code",
   "execution_count": 8,
   "metadata": {},
   "outputs": [],
   "source": [
    "q2_data = pd.read_csv(\"PADL-Q2-train.csv\")\n",
    "q2_target = q2_data['out']\n",
    "q2_data = q2_data.drop('out',axis=1)\n",
    "X,y = q2_data[['x','y','z','w']],q2_target"
   ]
  },
  {
   "cell_type": "code",
   "execution_count": 9,
   "metadata": {},
   "outputs": [
    {
     "name": "stdout",
     "output_type": "stream",
     "text": [
      "(80, 4)\n",
      "(80,)\n"
     ]
    }
   ],
   "source": [
    "print(X.shape)\n",
    "print(y.shape)"
   ]
  },
  {
   "cell_type": "markdown",
   "metadata": {},
   "source": [
    "Plot each variable against the output:"
   ]
  },
  {
   "cell_type": "code",
   "execution_count": 10,
   "metadata": {},
   "outputs": [
    {
     "data": {
      "text/plain": [
       "Text(0.5, 1.0, 'w')"
      ]
     },
     "execution_count": 10,
     "metadata": {},
     "output_type": "execute_result"
    },
    {
     "data": {
      "image/png": "[encoded data removed]",
      "text/plain": [
       "<Figure size 400x300 with 4 Axes>"
      ]
     },
     "metadata": {},
     "output_type": "display_data"
    }
   ],
   "source": [
    "fig,ax = plt.subplots(nrows=2,ncols=2,figsize=(4,3))\n",
    "fig.tight_layout()\n",
    "ax[0][0].scatter(q2_data['x'],q2_target,marker='+')\n",
    "ax[0][0].set_title(\"x\")\n",
    "ax[0][1].scatter(q2_data['y'],q2_target,marker='+')\n",
    "ax[0][1].set_title(\"y\")\n",
    "ax[1][0].scatter(q2_data['z'],q2_target,marker='+')\n",
    "ax[1][0].set_title(\"z\")\n",
    "ax[1][1].scatter(q2_data['w'],q2_target,marker='+')\n",
    "ax[1][1].set_title(\"w\")"
   ]
  },
  {
   "cell_type": "markdown",
   "metadata": {},
   "source": [
    "(a)"
   ]
  },
  {
   "cell_type": "markdown",
   "metadata": {},
   "source": [
    "The function _polynomial_basis_ returns the basis functions for a fit of the data to an n degree polynomial, along with fitting and transforming them to the data"
   ]
  },
  {
   "cell_type": "code",
   "execution_count": 11,
   "metadata": {},
   "outputs": [],
   "source": [
    "def polynomial_basis(X,degree):\n",
    "    poly = PolynomialFeatures(degree,include_bias=False)\n",
    "    functions = poly.fit(X).get_feature_names_out()\n",
    "    return functions,poly.fit_transform(X)"
   ]
  },
  {
   "cell_type": "markdown",
   "metadata": {},
   "source": [
    "The function _scale_data_ scales the data using a scaler provided in sklearn"
   ]
  },
  {
   "cell_type": "code",
   "execution_count": 12,
   "metadata": {},
   "outputs": [],
   "source": [
    "def scale_data(X_train,X_test,scaler):\n",
    "    scaler = scaler.fit(X_train)\n",
    "    X_train_scaled = scaler.transform(X_train)\n",
    "    X_test_scaled = scaler.transform(X_test)\n",
    "    return X_train_scaled, X_test_scaled"
   ]
  },
  {
   "cell_type": "markdown",
   "metadata": {},
   "source": [
    "The function _evaluate_basis_ takes the train and test data and applies the _polynomial_basis_ function to it, along with scaling if necessary, and outputs the r2 score as well as the basis functions for a given degree polynomial fit to a LinearRegression model"
   ]
  },
  {
   "cell_type": "code",
   "execution_count": 13,
   "metadata": {},
   "outputs": [],
   "source": [
    "def evaluate_basis(X_train, X_test, y_train, y_test, transform_func, scaler=None, **transform_params):\n",
    "    # Data scaling\n",
    "    if scaler:\n",
    "        X_train, X_test = scale_data(X_train, X_test, scaler)\n",
    "    \n",
    "    # Get poly basis functions\n",
    "    X_train_basis_functions,X_train_transformed = transform_func(X_train, **transform_params)\n",
    "    X_test_basis_functions,X_test_transformed = transform_func(X_test, **transform_params)\n",
    "    \n",
    "    model = LinearRegression()\n",
    "    model.fit(X_train_transformed, y_train)\n",
    "    \n",
    "    y_train_pred = model.predict(X_train_transformed)\n",
    "    y_test_pred = model.predict(X_test_transformed)\n",
    "    \n",
    "    train_r2 = r2_score(y_train, y_train_pred)\n",
    "    test_r2 = r2_score(y_test, y_test_pred)\n",
    "    \n",
    "    return train_r2, test_r2, X_train_basis_functions"
   ]
  },
  {
   "cell_type": "markdown",
   "metadata": {},
   "source": [
    "Print out running the above function for various degree polynomials"
   ]
  },
  {
   "cell_type": "code",
   "execution_count": 14,
   "metadata": {},
   "outputs": [
    {
     "name": "stdout",
     "output_type": "stream",
     "text": [
      "Polynomial basis functions with StandardScaler:\n",
      "\n",
      "Polynomial Degree 1 - Train R2: 0.4206, Test R2: 0.0241\n",
      "Number of basis functions:(4,)\n",
      "Polynomial Degree 2 - Train R2: 0.5327, Test R2: 0.1897\n",
      "Number of basis functions:(14,)\n",
      "Polynomial Degree 3 - Train R2: 0.7229, Test R2: -1.4782\n",
      "Number of basis functions:(34,)\n",
      "Polynomial Degree 4 - Train R2: 0.9984, Test R2: -21569.3613\n",
      "Number of basis functions:(69,)\n",
      "Polynomial Degree 5 - Train R2: 1.0000, Test R2: -168.8245\n",
      "Number of basis functions:(125,)\n",
      "\n",
      "\n",
      "Polynomial basis functions with MinMaxScaler (normalisation):\n",
      "\n",
      "Polynomial Degree 1 - Train R2: 0.4206, Test R2: 0.0241\n",
      "Number of basis functions:(4,)\n",
      "Polynomial Degree 2 - Train R2: 0.5328, Test R2: 0.1903\n",
      "Number of basis functions:(14,)\n",
      "Polynomial Degree 3 - Train R2: 0.7238, Test R2: -1.4826\n",
      "Number of basis functions:(34,)\n",
      "Polynomial Degree 4 - Train R2: 0.9984, Test R2: -21573.8084\n",
      "Number of basis functions:(69,)\n",
      "Polynomial Degree 5 - Train R2: 1.0000, Test R2: -1587.2827\n",
      "Number of basis functions:(125,)\n"
     ]
    }
   ],
   "source": [
    "X_train, X_test, y_train, y_test = train_test_split(X,y,test_size=0.3,random_state=12)\n",
    "\n",
    "print(\"Polynomial basis functions with StandardScaler:\\n\")\n",
    "for degree in range(1, 6):\n",
    "    train_r2, test_r2, basis_f = evaluate_basis(X_train, X_test, y_train, y_test, polynomial_basis, scaler=StandardScaler(), degree=degree)\n",
    "    print(f'Polynomial Degree {degree} - Train R2: {train_r2:.4f}, Test R2: {test_r2:.4f}')\n",
    "    print(f'Number of basis functions:{basis_f.shape}')\n",
    "    # Uncomment this line to see the actual basis functions\n",
    "    # print(f'Basis functions:{basis_f}')\n",
    "\n",
    "print(\"\\n\\nPolynomial basis functions with MinMaxScaler (normalisation):\\n\")\n",
    "for degree in range(1, 6):\n",
    "    train_r2, test_r2, basis_f = evaluate_basis(X_train, X_test, y_train, y_test, polynomial_basis, scaler=MinMaxScaler(), degree=degree)\n",
    "    print(f'Polynomial Degree {degree} - Train R2: {train_r2:.4f}, Test R2: {test_r2:.4f}')\n",
    "    print(f'Number of basis functions:{basis_f.shape}')\n",
    "    # Uncomment this line to see the actual basis functions\n",
    "    # print(f'Basis functions:{basis_f}')"
   ]
  },
  {
   "cell_type": "markdown",
   "metadata": {},
   "source": [
    "(b) Consider, tune and evaluate a range of models, look at regularisation and piecewise regression"
   ]
  },
  {
   "cell_type": "code",
   "execution_count": 15,
   "metadata": {},
   "outputs": [],
   "source": [
    "def train_reg(model,X,y,num_iters,scaler=None):\n",
    "    r2_scores = []\n",
    "    for i in range(0,num_iters):\n",
    "        X_train,X_test,y_train,y_test = train_test_split(X,y,test_size=0.2,random_state=i)\n",
    "        if scaler:\n",
    "            X_train, X_test = scale_data(X_train, X_test, scaler)\n",
    "        model = model\n",
    "        model.fit(X_train,y_train)\n",
    "\n",
    "        pred = model.predict(X_test)\n",
    "        r2_scores.append(r2_score(y_test,pred))\n",
    "    return model,r2_scores"
   ]
  },
  {
   "cell_type": "markdown",
   "metadata": {},
   "source": [
    "Basic linear model fit:"
   ]
  },
  {
   "cell_type": "code",
   "execution_count": 16,
   "metadata": {},
   "outputs": [
    {
     "name": "stdout",
     "output_type": "stream",
     "text": [
      "Median: 0.277498, Mean: 0.194416\n"
     ]
    }
   ],
   "source": [
    "r2_scores_lin = train_reg(LinearRegression(),X,y,500)[1]\n",
    "lin_med = np.median(r2_scores_lin)\n",
    "lin_mean = np.mean(r2_scores_lin)\n",
    "print(f\"Median: {lin_med:5f}, Mean: {lin_mean:5f}\")"
   ]
  },
  {
   "cell_type": "markdown",
   "metadata": {},
   "source": [
    "Polynomial model (degree = 2):"
   ]
  },
  {
   "cell_type": "code",
   "execution_count": 17,
   "metadata": {},
   "outputs": [
    {
     "name": "stdout",
     "output_type": "stream",
     "text": [
      "Median: 0.195915, Mean: 0.087388\n"
     ]
    }
   ],
   "source": [
    "poly = PolynomialFeatures(degree=2,include_bias=False)\n",
    "poly_f = poly.fit_transform(X)\n",
    "r2_scores_poly2 = train_reg(LinearRegression(),poly_f,y,500)[1]\n",
    "poly2_med = np.median(r2_scores_poly2)\n",
    "poly2_mean = np.mean(r2_scores_poly2)\n",
    "print(f\"Median: {poly2_med:5f}, Mean: {poly2_mean:5f}\")"
   ]
  },
  {
   "cell_type": "markdown",
   "metadata": {},
   "source": [
    "Polynomial model (degree=3):"
   ]
  },
  {
   "cell_type": "code",
   "execution_count": 18,
   "metadata": {},
   "outputs": [
    {
     "name": "stdout",
     "output_type": "stream",
     "text": [
      "Median: -0.205041, Mean: -0.562120\n"
     ]
    }
   ],
   "source": [
    "poly = PolynomialFeatures(degree=3,include_bias=False)\n",
    "poly_f = poly.fit_transform(X)\n",
    "r2_scores_poly3 = train_reg(LinearRegression(),poly_f,y,500)[1]\n",
    "poly3_med = np.median(r2_scores_poly3)\n",
    "poly3_mean = np.mean(r2_scores_poly3)\n",
    "print(f\"Median: {poly3_med:5f}, Mean: {poly3_mean:5f}\")"
   ]
  },
  {
   "cell_type": "markdown",
   "metadata": {},
   "source": [
    "Lasso model:"
   ]
  },
  {
   "cell_type": "code",
   "execution_count": 19,
   "metadata": {},
   "outputs": [
    {
     "name": "stdout",
     "output_type": "stream",
     "text": [
      "Median: 0.276821, Mean: 0.193927\n"
     ]
    }
   ],
   "source": [
    "alphas = np.logspace(-6, 6, 13)\n",
    "r2_scores_lasso = train_reg(LassoCV(alphas=alphas),X,y,500)[1]\n",
    "lasso_med = np.median(r2_scores_lasso)\n",
    "lasso_mean = np.mean(r2_scores_lasso)\n",
    "print(f\"Median: {lasso_med:5f}, Mean: {lasso_mean:5f}\")"
   ]
  },
  {
   "cell_type": "markdown",
   "metadata": {},
   "source": [
    "Ridge model:"
   ]
  },
  {
   "cell_type": "code",
   "execution_count": 20,
   "metadata": {},
   "outputs": [
    {
     "name": "stdout",
     "output_type": "stream",
     "text": [
      "Median: 0.279482, Mean: 0.198885\n"
     ]
    }
   ],
   "source": [
    "r2_scores_ridge = train_reg(RidgeCV(alphas=alphas),X,y,500)[1]\n",
    "ridge_med = np.median(r2_scores_ridge)\n",
    "ridge_mean = np.mean(r2_scores_ridge)\n",
    "print(f\"Median: {ridge_med:5f}, Mean: {ridge_mean:5f}\")"
   ]
  },
  {
   "cell_type": "markdown",
   "metadata": {},
   "source": [
    "ElasticNet model:"
   ]
  },
  {
   "cell_type": "code",
   "execution_count": 21,
   "metadata": {},
   "outputs": [
    {
     "name": "stdout",
     "output_type": "stream",
     "text": [
      "Median: 0.277973, Mean: 0.194069\n"
     ]
    }
   ],
   "source": [
    "r2_scores_elastic = train_reg(ElasticNetCV(alphas=alphas),X,y,500)[1]\n",
    "elastic_med = np.median(r2_scores_elastic)\n",
    "elastic_mean = np.mean(r2_scores_elastic)\n",
    "print(f\"Median: {elastic_med:5f}, Mean: {elastic_mean:5f}\")"
   ]
  },
  {
   "cell_type": "markdown",
   "metadata": {},
   "source": [
    "ElasticNet with a polynomial degree 2:"
   ]
  },
  {
   "cell_type": "code",
   "execution_count": 22,
   "metadata": {},
   "outputs": [
    {
     "name": "stdout",
     "output_type": "stream",
     "text": [
      "Median: 0.148648, Mean: 0.038697\n"
     ]
    }
   ],
   "source": [
    "poly2_elastic = PolynomialFeatures(degree=2,include_bias=False)\n",
    "poly2_elastic_f = poly2_elastic.fit_transform(X)\n",
    "r2_scores_elastic_poly2 = train_reg(ElasticNetCV(alphas=alphas,tol=0.2,max_iter=10000),poly2_elastic_f,y,500)[1]\n",
    "poly2_elastic_med = np.median(r2_scores_elastic_poly2)\n",
    "poly2_elastic_mean = np.mean(r2_scores_elastic_poly2)\n",
    "print(f\"Median: {poly2_elastic_med:5f}, Mean: {poly2_elastic_mean:5f}\")"
   ]
  },
  {
   "cell_type": "markdown",
   "metadata": {},
   "source": [
    "ElasticNet with polynomial degree 3:"
   ]
  },
  {
   "cell_type": "code",
   "execution_count": 23,
   "metadata": {},
   "outputs": [
    {
     "name": "stderr",
     "output_type": "stream",
     "text": [
      "c:\\Users\\Josh\\anaconda3\\lib\\site-packages\\sklearn\\linear_model\\_coordinate_descent.py:633: ConvergenceWarning: Objective did not converge. You might want to increase the number of iterations. Duality gap: 0.16508267481678054, tolerance: 0.16136471145882356\n",
      "  model = cd_fast.enet_coordinate_descent_gram(\n"
     ]
    },
    {
     "name": "stdout",
     "output_type": "stream",
     "text": [
      "Median: 0.245285, Mean: 0.185910\n"
     ]
    }
   ],
   "source": [
    "poly3_elastic = PolynomialFeatures(degree=3,include_bias=False)\n",
    "poly3_elastic_f = poly3_elastic.fit_transform(X)\n",
    "r2_scores_elastic_poly3 = train_reg(ElasticNetCV(tol=0.33,alphas=alphas,max_iter=10000),poly3_elastic_f,y,500)[1]\n",
    "poly2_elastic_med = np.median(r2_scores_elastic_poly3)\n",
    "poly2_elastic_mean = np.mean(r2_scores_elastic_poly3)\n",
    "print(f\"Median: {poly2_elastic_med:5f}, Mean: {poly2_elastic_mean:5f}\")"
   ]
  },
  {
   "cell_type": "markdown",
   "metadata": {},
   "source": [
    "ElasticNet with polynomial degree 4:"
   ]
  },
  {
   "cell_type": "code",
   "execution_count": 24,
   "metadata": {},
   "outputs": [
    {
     "name": "stdout",
     "output_type": "stream",
     "text": [
      "Median: 0.253569, Mean: 0.199883\n"
     ]
    }
   ],
   "source": [
    "poly4_elastic = PolynomialFeatures(degree=4,include_bias=False)\n",
    "poly4_elastic_f = poly4_elastic.fit_transform(X)\n",
    "r2_scores_elastic_poly4 = train_reg(ElasticNetCV(tol=0.4,alphas=alphas,max_iter=10000),poly4_elastic_f,y,500)[1]\n",
    "poly4_elastic_med = np.median(r2_scores_elastic_poly4)\n",
    "poly4_elastic_mean = np.mean(r2_scores_elastic_poly4)\n",
    "print(f\"Median: {poly4_elastic_med:5f}, Mean: {poly4_elastic_mean:5f}\")"
   ]
  },
  {
   "cell_type": "markdown",
   "metadata": {},
   "source": [
    "ElasticNet with polynomial degree 5:"
   ]
  },
  {
   "cell_type": "code",
   "execution_count": 25,
   "metadata": {},
   "outputs": [
    {
     "name": "stderr",
     "output_type": "stream",
     "text": [
      "c:\\Users\\Josh\\anaconda3\\lib\\site-packages\\sklearn\\linear_model\\_coordinate_descent.py:647: ConvergenceWarning: Objective did not converge. You might want to increase the number of iterations, check the scale of the features or consider increasing regularisation. Duality gap: 2.819e-01, tolerance: 2.656e-01\n",
      "  model = cd_fast.enet_coordinate_descent(\n"
     ]
    },
    {
     "name": "stdout",
     "output_type": "stream",
     "text": [
      "Median: 0.254212, Mean: 0.201294\n"
     ]
    }
   ],
   "source": [
    "poly5_elastic = PolynomialFeatures(degree=5,include_bias=False)\n",
    "poly5_elastic_f = poly5_elastic.fit_transform(X)\n",
    "r2_scores_elastic_poly5 = train_reg(ElasticNetCV(tol=0.4,alphas=alphas,max_iter=10000),poly5_elastic_f,y,500)[1]\n",
    "poly5_elastic_med = np.median(r2_scores_elastic_poly5)\n",
    "poly5_elastic_mean = np.mean(r2_scores_elastic_poly5)\n",
    "print(f\"Median: {poly5_elastic_med:5f}, Mean: {poly5_elastic_mean:5f}\")"
   ]
  },
  {
   "cell_type": "markdown",
   "metadata": {},
   "source": [
    "Same but incorporating scaling:"
   ]
  },
  {
   "cell_type": "code",
   "execution_count": 26,
   "metadata": {},
   "outputs": [
    {
     "name": "stdout",
     "output_type": "stream",
     "text": [
      "Median: 0.269325, Mean: 0.197021\n"
     ]
    }
   ],
   "source": [
    "poly3_elastic = PolynomialFeatures(degree=3,include_bias=False)\n",
    "poly3_elastic_f_s = poly3_elastic.fit_transform(X)\n",
    "r2_scores_elastic_poly3 = train_reg(ElasticNetCV(tol=0.33,alphas=alphas,max_iter=10000),poly3_elastic_f_s,y,500,scaler=StandardScaler())[1]\n",
    "poly3_elastic_med = np.median(r2_scores_elastic_poly3)\n",
    "poly3_elastic_mean = np.mean(r2_scores_elastic_poly3)\n",
    "print(f\"Median: {poly3_elastic_med:5f}, Mean: {poly3_elastic_mean:5f}\")"
   ]
  },
  {
   "cell_type": "code",
   "execution_count": 27,
   "metadata": {},
   "outputs": [
    {
     "name": "stdout",
     "output_type": "stream",
     "text": [
      "Median: 0.272230, Mean: 0.205278\n"
     ]
    }
   ],
   "source": [
    "poly4_elastic = PolynomialFeatures(degree=4,include_bias=False)\n",
    "poly4_elastic_f_s = poly4_elastic.fit_transform(X)\n",
    "r2_scores_elastic_poly4 = train_reg(ElasticNetCV(tol=0.33,alphas=alphas,max_iter=10000),poly4_elastic_f_s,y,500,scaler=StandardScaler())[1]\n",
    "poly4_elastic_med = np.median(r2_scores_elastic_poly4)\n",
    "poly4_elastic_mean = np.mean(r2_scores_elastic_poly4)\n",
    "print(f\"Median: {poly4_elastic_med:5f}, Mean: {poly4_elastic_mean:5f}\")"
   ]
  },
  {
   "cell_type": "code",
   "execution_count": 28,
   "metadata": {},
   "outputs": [
    {
     "name": "stdout",
     "output_type": "stream",
     "text": [
      "Median: 0.269441, Mean: 0.210230\n"
     ]
    }
   ],
   "source": [
    "poly5_elastic = PolynomialFeatures(degree=5,include_bias=False)\n",
    "poly5_elastic_f_s = poly5_elastic.fit_transform(X)\n",
    "r2_scores_elastic_poly5 = train_reg(ElasticNetCV(tol=0.33,alphas=alphas,max_iter=10000),poly5_elastic_f_s,y,500,scaler=StandardScaler())[1]\n",
    "poly5_elastic_med = np.median(r2_scores_elastic_poly5)\n",
    "poly5_elastic_mean = np.mean(r2_scores_elastic_poly5)\n",
    "print(f\"Median: {poly5_elastic_med:5f}, Mean: {poly5_elastic_mean:5f}\")"
   ]
  },
  {
   "cell_type": "markdown",
   "metadata": {},
   "source": [
    "(c)"
   ]
  },
  {
   "cell_type": "markdown",
   "metadata": {},
   "source": [
    "Train all of above models:"
   ]
  },
  {
   "cell_type": "code",
   "execution_count": 29,
   "metadata": {},
   "outputs": [
    {
     "name": "stderr",
     "output_type": "stream",
     "text": [
      "c:\\Users\\Josh\\anaconda3\\lib\\site-packages\\sklearn\\linear_model\\_coordinate_descent.py:647: ConvergenceWarning: Objective did not converge. You might want to increase the number of iterations, check the scale of the features or consider increasing regularisation. Duality gap: 3.299e-01, tolerance: 3.296e-01\n",
      "  model = cd_fast.enet_coordinate_descent(\n",
      "c:\\Users\\Josh\\anaconda3\\lib\\site-packages\\sklearn\\linear_model\\_coordinate_descent.py:647: ConvergenceWarning: Objective did not converge. You might want to increase the number of iterations, check the scale of the features or consider increasing regularisation. Duality gap: 3.152e-01, tolerance: 3.143e-01\n",
      "  model = cd_fast.enet_coordinate_descent(\n",
      "c:\\Users\\Josh\\anaconda3\\lib\\site-packages\\sklearn\\linear_model\\_coordinate_descent.py:647: ConvergenceWarning: Objective did not converge. You might want to increase the number of iterations, check the scale of the features or consider increasing regularisation. Duality gap: 2.398e-01, tolerance: 2.363e-01\n",
      "  model = cd_fast.enet_coordinate_descent(\n",
      "c:\\Users\\Josh\\anaconda3\\lib\\site-packages\\sklearn\\linear_model\\_coordinate_descent.py:647: ConvergenceWarning: Objective did not converge. You might want to increase the number of iterations, check the scale of the features or consider increasing regularisation. Duality gap: 2.679e-01, tolerance: 2.663e-01\n",
      "  model = cd_fast.enet_coordinate_descent(\n",
      "c:\\Users\\Josh\\anaconda3\\lib\\site-packages\\sklearn\\linear_model\\_coordinate_descent.py:647: ConvergenceWarning: Objective did not converge. You might want to increase the number of iterations, check the scale of the features or consider increasing regularisation. Duality gap: 2.796e-01, tolerance: 2.712e-01\n",
      "  model = cd_fast.enet_coordinate_descent(\n",
      "c:\\Users\\Josh\\anaconda3\\lib\\site-packages\\sklearn\\linear_model\\_coordinate_descent.py:647: ConvergenceWarning: Objective did not converge. You might want to increase the number of iterations, check the scale of the features or consider increasing regularisation. Duality gap: 2.940e-01, tolerance: 2.843e-01\n",
      "  model = cd_fast.enet_coordinate_descent(\n",
      "c:\\Users\\Josh\\anaconda3\\lib\\site-packages\\sklearn\\linear_model\\_coordinate_descent.py:647: ConvergenceWarning: Objective did not converge. You might want to increase the number of iterations, check the scale of the features or consider increasing regularisation. Duality gap: 2.641e-01, tolerance: 2.596e-01\n",
      "  model = cd_fast.enet_coordinate_descent(\n",
      "c:\\Users\\Josh\\anaconda3\\lib\\site-packages\\sklearn\\linear_model\\_coordinate_descent.py:647: ConvergenceWarning: Objective did not converge. You might want to increase the number of iterations, check the scale of the features or consider increasing regularisation. Duality gap: 2.800e-01, tolerance: 2.755e-01\n",
      "  model = cd_fast.enet_coordinate_descent(\n",
      "c:\\Users\\Josh\\anaconda3\\lib\\site-packages\\sklearn\\linear_model\\_coordinate_descent.py:647: ConvergenceWarning: Objective did not converge. You might want to increase the number of iterations, check the scale of the features or consider increasing regularisation. Duality gap: 2.695e-01, tolerance: 2.663e-01\n",
      "  model = cd_fast.enet_coordinate_descent(\n",
      "c:\\Users\\Josh\\anaconda3\\lib\\site-packages\\sklearn\\linear_model\\_coordinate_descent.py:647: ConvergenceWarning: Objective did not converge. You might want to increase the number of iterations, check the scale of the features or consider increasing regularisation. Duality gap: 2.565e-01, tolerance: 2.513e-01\n",
      "  model = cd_fast.enet_coordinate_descent(\n",
      "c:\\Users\\Josh\\anaconda3\\lib\\site-packages\\sklearn\\linear_model\\_coordinate_descent.py:647: ConvergenceWarning: Objective did not converge. You might want to increase the number of iterations, check the scale of the features or consider increasing regularisation. Duality gap: 2.776e-01, tolerance: 2.772e-01\n",
      "  model = cd_fast.enet_coordinate_descent(\n"
     ]
    }
   ],
   "source": [
    "trained_models = []\n",
    "models = [LinearRegression(),LassoCV(alphas=alphas),RidgeCV(alphas=alphas),ElasticNetCV(tol=0.375,max_iter=10000,alphas=alphas)]\n",
    "for i in range(4):\n",
    "    # Train the linear and polynomial models\n",
    "    if i == 0:\n",
    "        for j in range(3):\n",
    "            if j == 0:\n",
    "                trained_model,r2 = train_reg(models[i],X,y,num_iters=100)\n",
    "                trained_models.append((np.mean(r2),trained_model))\n",
    "            else:\n",
    "                poly_m = PolynomialFeatures(degree=j+1,include_bias=False)\n",
    "                poly_m_fit = poly_m.fit_transform(X)\n",
    "                trained_model,r2 = train_reg(models[i],poly_m_fit,y,num_iters=100)\n",
    "                trained_models.append((np.mean(r2),trained_model))\n",
    "    \n",
    "    # Train the Lasso and Ridge models\n",
    "    elif i == 1 or i == 2:\n",
    "        trained_model, r2 = train_reg(models[i],X,y,num_iters=100)\n",
    "        trained_models.append((np.mean(r2),trained_model))\n",
    "    \n",
    "    # Train the ElasticNet models\n",
    "    else:\n",
    "        for j in range(8):\n",
    "            if j == 0:\n",
    "                trained_model,r2 = train_reg(models[i],X,y,num_iters=100)\n",
    "                trained_models.append((np.mean(r2),trained_model))\n",
    "            if 1 <= j <= 4:\n",
    "                poly_m = PolynomialFeatures(degree=j+1,include_bias=False)\n",
    "                poly_m_fit = poly_m.fit_transform(X)\n",
    "                trained_model,r2 = train_reg(models[i],poly_m_fit,y,num_iters=100)\n",
    "                trained_models.append((np.mean(r2),trained_model))\n",
    "            if j > 4:\n",
    "                scaler = StandardScaler()\n",
    "                poly_m = PolynomialFeatures(degree=j-2,include_bias=False)\n",
    "                poly_m_fit = poly_m.fit_transform(X)\n",
    "                trained_model,r2 = train_reg(models[i],poly_m_fit,y,num_iters=100,scaler=scaler)\n",
    "                trained_models.append((np.mean(r2),trained_model))"
   ]
  },
  {
   "cell_type": "markdown",
   "metadata": {},
   "source": [
    "Select best model by highest R^2 score:"
   ]
  },
  {
   "cell_type": "code",
   "execution_count": 30,
   "metadata": {},
   "outputs": [],
   "source": [
    "best_model = sorted(trained_models,reverse=True)[0][1]"
   ]
  },
  {
   "cell_type": "markdown",
   "metadata": {},
   "source": [
    "Test on unseen data from file:"
   ]
  },
  {
   "cell_type": "code",
   "execution_count": 31,
   "metadata": {},
   "outputs": [
    {
     "data": {
      "text/plain": [
       "-0.5789286192997896"
      ]
     },
     "execution_count": 31,
     "metadata": {},
     "output_type": "execute_result"
    }
   ],
   "source": [
    "q2_unseen = pd.read_csv(\"PADL-Q2-unseen.csv\")\n",
    "q2_unseen_targets = q2_unseen['out']\n",
    "q2_unseen = q2_unseen.drop('out',axis=1)\n",
    "X_unseen,y_unseen = q2_unseen[['x','y','z','w']],q2_unseen_targets\n",
    "\n",
    "basis_funcs,poly_test = polynomial_basis(X_unseen,5)\n",
    "pred = best_model.predict(poly_test)\n",
    "\n",
    "r2_score(pred,y_unseen)"
   ]
  },
  {
   "cell_type": "markdown",
   "metadata": {},
   "source": [
    "# Q3:"
   ]
  },
  {
   "cell_type": "markdown",
   "metadata": {},
   "source": [
    "(a)"
   ]
  },
  {
   "cell_type": "code",
   "execution_count": 32,
   "metadata": {},
   "outputs": [],
   "source": [
    "with open(\"PADL-Q3.txt\",'r') as q3_file:\n",
    "    words = []\n",
    "    raw_data = q3_file\n",
    "    for line in q3_file:\n",
    "        for word in line.split():\n",
    "            words.append(word)"
   ]
  },
  {
   "cell_type": "markdown",
   "metadata": {},
   "source": [
    "The following tile removes punctuation from the text then selects all triplets where the middle word is \"and\". It then selects the before and after words and adds them as a 3-tuple into a list."
   ]
  },
  {
   "cell_type": "code",
   "execution_count": 33,
   "metadata": {},
   "outputs": [
    {
     "data": {
      "text/plain": [
       "[('States', 'and', 'most'),\n",
       " ('cost', 'and', 'with'),\n",
       " ('eclipses', 'and', 'predominates'),\n",
       " ('emotions', 'and', 'that'),\n",
       " ('reasoning', 'and', 'observing'),\n",
       " ('gibe', 'and', 'a'),\n",
       " ('motives', 'and', 'actions'),\n",
       " ('delicate', 'and', 'finely'),\n",
       " ('him', 'and', 'that'),\n",
       " ('dubious', 'and', 'questionable'),\n",
       " ('happiness', 'and', 'the'),\n",
       " ('books', 'and', 'alternating'),\n",
       " ('cocaine', 'and', 'ambition'),\n",
       " ('drug', 'and', 'the'),\n",
       " ('crime', 'and', 'occupied'),\n",
       " ('faculties', 'and', 'extraordinary'),\n",
       " ('clues', 'and', 'clearing'),\n",
       " ('Trincomalee', 'and', 'finally'),\n",
       " ('delicately', 'and', 'successfully'),\n",
       " ('friend', 'and', 'companion'),\n",
       " ('wooing', 'and', 'with'),\n",
       " ('again', 'and', 'to'),\n",
       " ('lit', 'and', 'even'),\n",
       " ('chest', 'and', 'his'),\n",
       " ('mood', 'and', 'habit'),\n",
       " ('attitude', 'and', 'manner'),\n",
       " ('dreams', 'and', 'was'),\n",
       " ('bell', 'and', 'was'),\n",
       " ('cigars', 'and', 'indicated'),\n",
       " ('case', 'and', 'a'),\n",
       " ('fire', 'and', 'looked'),\n",
       " ('seven', 'and', 'a'),\n",
       " ('lately', 'and', 'that'),\n",
       " ('clumsy', 'and', 'careless'),\n",
       " ('Thursday', 'and', 'came'),\n",
       " ('incorrigible', 'and', 'my'),\n",
       " ('himself', 'and', 'rubbed'),\n",
       " ('weather', 'and', 'that'),\n",
       " ('forefinger', 'and', 'a'),\n",
       " ('cigarette', 'and', 'throwing'),\n",
       " ('seen', 'and', 'observed'),\n",
       " ('problems', 'and', 'since'),\n",
       " ('undated', 'and', 'without'),\n",
       " ('hour', 'and', 'do'),\n",
       " ('writing', 'and', 'the'),\n",
       " ('strong', 'and', 'stiff”'),\n",
       " ('so', 'and', 'saw'),\n",
       " ('P', 'and', 'a'),\n",
       " ('Wallenstein', 'and', 'for'),\n",
       " ('glassfactories', 'and', 'papermills’'),\n",
       " ('sparkled', 'and', 'he'),\n",
       " ('paper', 'and', 'prefers'),\n",
       " ('hoofs', 'and', 'grating'),\n",
       " ('brougham', 'and', 'a'),\n",
       " ('hundred', 'and', 'fifty'),\n",
       " ('help', 'and', 'so'),\n",
       " ('doctor', 'and', 'give'),\n",
       " ('slow', 'and', 'heavy'),\n",
       " ('stairs', 'and', 'in'),\n",
       " ('loud', 'and', 'authoritative'),\n",
       " ('chest', 'and', 'limbs'),\n",
       " ('sleeves', 'and', 'fronts'),\n",
       " ('silk', 'and', 'secured'),\n",
       " ('calves', 'and', 'which'),\n",
       " ('lip', 'and', 'a'),\n",
       " ('voice', 'and', 'a'),\n",
       " ('friend', 'and', 'colleague'),\n",
       " ('honor', 'and', 'discretion'),\n",
       " ('wrist', 'and', 'pushed'),\n",
       " ('you', 'and', 'I'),\n",
       " ('delicacy', 'and', 'every'),\n",
       " ('scandal', 'and', 'seriously'),\n",
       " ('armchair', 'and', 'closing'),\n",
       " ('reasoner', 'and', 'most'),\n",
       " ('eyes', 'and', 'looked'),\n",
       " ('chair', 'and', 'paced'),\n",
       " ('up', 'and', 'down'),\n",
       " ('face', 'and', 'hurled'),\n",
       " ('CasselFelstein', 'and', 'hereditary'),\n",
       " ('more', 'and', 'passing'),\n",
       " ('men', 'and', 'things'),\n",
       " ('Rabbi', 'and', 'that'),\n",
       " ('letters', 'and', 'is'),\n",
       " ('tried', 'and', 'failed”'),\n",
       " ('women', 'and', 'the'),\n",
       " ('cloak', 'and', 'laid'),\n",
       " ('gold', 'and', 'seven'),\n",
       " ('notebook', 'and', 'handed'),\n",
       " ('Majesty', 'and', 'I'),\n",
       " ('grim', 'and', 'strange'),\n",
       " ('case', 'and', 'the'),\n",
       " ('situation', 'and', 'his'),\n",
       " ('work', 'and', 'to'),\n",
       " ('opened', 'and', 'a'),\n",
       " ('illkempt', 'and', 'sidewhiskered'),\n",
       " ('face', 'and', 'disreputable'),\n",
       " ('tweedsuited', 'and', 'respectable'),\n",
       " ('fire', 'and', 'laughed'),\n",
       " ('cried', 'and', 'then'),\n",
       " ('choked', 'and', 'laughed'),\n",
       " ('limp', 'and', 'helpless'),\n",
       " ('habits', 'and', 'perhaps'),\n",
       " ('sympathy', 'and', 'freemasonry'),\n",
       " ('them', 'and', 'you'),\n",
       " ('floor', 'and', 'those'),\n",
       " ('it', 'and', 'examined'),\n",
       " ('street', 'and', 'found'),\n",
       " ('horses', 'and', 'I'),\n",
       " ('tobacco', 'and', 'as'),\n",
       " ('day', 'and', 'returns'),\n",
       " ('handsome', 'and', 'dashing'),\n",
       " ('day', 'and', 'often'),\n",
       " ('Serpentinemews', 'and', 'knew'),\n",
       " ('up', 'and', 'down'),\n",
       " ('more', 'and', 'to'),\n",
       " ('them', 'and', 'what'),\n",
       " ('point', 'and', 'it'),\n",
       " ('Lodge', 'and', 'a'),\n",
       " ('aquiline', 'and', 'mustachedevidently'),\n",
       " ('wait', 'and', 'brushed'),\n",
       " ('hour', 'and', 'I'),\n",
       " ('up', 'and', 'down'),\n",
       " ('excitedly', 'and', 'waving'),\n",
       " ('pocket', 'and', 'looked'),\n",
       " ('Street', 'and', 'then'),\n",
       " ('went', 'and', 'I'),\n",
       " ('halfbuttoned', 'and', 'his'),\n",
       " ('door', 'and', 'into'),\n",
       " ('twelve', 'and', 'of'),\n",
       " ('cab', 'and', 'the'),\n",
       " ('man', 'and', 'hurried'),\n",
       " ('followed', 'and', 'a'),\n",
       " ('me', 'and', 'Godfrey'),\n",
       " ('altar', 'and', 'before'),\n",
       " ('ear', 'and', 'vouching'),\n",
       " ('nothing', 'and', 'generally'),\n",
       " ('instant', 'and', 'there'),\n",
       " ('side', 'and', 'the'),\n",
       " ('life', 'and', 'it'),\n",
       " ('sort', 'and', 'that'),\n",
       " ('sovereign', 'and', 'I'),\n",
       " ('departure', 'and', 'so'),\n",
       " ('prompt', 'and', 'energetic'),\n",
       " ('Temple', 'and', 'she'),\n",
       " ('directions', 'and', 'I'),\n",
       " ('beef', 'and', 'a'),\n",
       " ('food', 'and', 'I'),\n",
       " ('throw', 'and', 'will'),\n",
       " ('street', 'and', 'I'),\n",
       " ('you', 'and', 'at'),\n",
       " ('fire', 'and', 'to'),\n",
       " ('bedroom', 'and', 'returned'),\n",
       " ('amiable', 'and', 'simpleminded'),\n",
       " ('smile', 'and', 'general'),\n",
       " ('peering', 'and', 'benevolent'),\n",
       " ('Street', 'and', 'it'),\n",
       " ('dusk', 'and', 'the'),\n",
       " ('up', 'and', 'down'),\n",
       " ('smoking', 'and', 'laughing'),\n",
       " ('nursegirl', 'and', 'several'),\n",
       " ('up', 'and', 'down'),\n",
       " ('to', 'and', 'fro'),\n",
       " ('waylaid', 'and', 'searched'),\n",
       " ('secretive', 'and', 'they'),\n",
       " ('loungers', 'and', 'by'),\n",
       " ('struck', 'and', 'in'),\n",
       " ('flushed', 'and', 'struggling'),\n",
       " ('fists', 'and', 'sticks'),\n",
       " ('cry', 'and', 'dropped'),\n",
       " ('direction', 'and', 'the'),\n",
       " ('lady', 'and', 'to'),\n",
       " ('purse', 'and', 'watch'),\n",
       " ('gang', 'and', 'a'),\n",
       " ('Slowly', 'and', 'solemnly'),\n",
       " ('Lodge', 'and', 'laid'),\n",
       " ('grace', 'and', 'kindliness'),\n",
       " ('heart', 'and', 'took'),\n",
       " ('couch', 'and', 'I'),\n",
       " ('across', 'and', 'threw'),\n",
       " ('hand', 'and', 'at'),\n",
       " ('dressed', 'and', 'illgentlemen'),\n",
       " ('ostlers', 'and', 'servantmaidsjoined'),\n",
       " ('room', 'and', 'out'),\n",
       " ('figures', 'and', 'a'),\n",
       " ('street', 'and', 'in'),\n",
       " ('mine', 'and', 'to'),\n",
       " ('swiftly', 'and', 'in'),\n",
       " ('face', 'and', 'became'),\n",
       " ('that', 'and', 'her'),\n",
       " ('bedroom', 'and', 'I'),\n",
       " ('window', 'and', 'you'),\n",
       " ('impulse', 'and', 'I'),\n",
       " ('me', 'and', 'also'),\n",
       " ('smoke', 'and', 'shouting'),\n",
       " ('instant', 'and', 'I'),\n",
       " ('room', 'and', 'I'),\n",
       " ('rose', 'and', 'making'),\n",
       " ('in', 'and', 'as'),\n",
       " ('tomorrow', 'and', 'with'),\n",
       " ('life', 'and', 'habits'),\n",
       " ('Street', 'and', 'had'),\n",
       " ('night', 'and', 'we'),\n",
       " ('toast', 'and', 'coffee'),\n",
       " ('shoulder', 'and', 'looking'),\n",
       " ('descended', 'and', 'started'),\n",
       " ('open', 'and', 'an'),\n",
       " ('questioning', 'and', 'rather'),\n",
       " ('chagrin', 'and', 'surprise'),\n",
       " ('servant', 'and', 'rushed'),\n",
       " ('King', 'and', 'myself'),\n",
       " ('shelves', 'and', 'open'),\n",
       " ('shutter', 'and', 'plunging'),\n",
       " ('photograph', 'and', 'a'),\n",
       " ('open', 'and', 'we'),\n",
       " ('night', 'and', 'ran'),\n",
       " ('them', 'and', 'came'),\n",
       " ('door', 'and', 'so'),\n",
       " ('goodnight', 'and', 'started'),\n",
       " ('love', 'and', 'am'),\n",
       " ('myself', 'and', 'to'),\n",
       " ('possess', 'and', 'I'),\n",
       " ('quick', 'and', 'resolute'),\n",
       " ('finger', 'and', 'held'),\n",
       " ('bowed', 'and', 'turning'),\n",
       " ('Bohemia', 'and', 'how'),\n",
       " ('year', 'and', 'found'),\n",
       " ('room', 'and', 'closed'),\n",
       " ('partner', 'and', 'helper'),\n",
       " ('cases', 'and', 'I'),\n",
       " ('chair', 'and', 'gave'),\n",
       " ('armchair', 'and', 'putting'),\n",
       " ('bizarre', 'and', 'outside'),\n",
       " ('conventions', 'and', 'humdrum'),\n",
       " ('chronicle', 'and', 'if'),\n",
       " ('effects', 'and', 'extraordinary'),\n",
       " ('them', 'and', 'acknowledges'),\n",
       " ('morning', 'and', 'to'),\n",
       " ('strangest', 'and', 'most'),\n",
       " ('crimes', 'and', 'occasionally'),\n",
       " ('pride', 'and', 'pulled'),\n",
       " ('dirty', 'and', 'wrinkled'),\n",
       " ('forward', 'and', 'the'),\n",
       " ('man', 'and', 'endeavored'),\n",
       " ('pompous', 'and', 'slow'),\n",
       " ('front', 'and', 'a'),\n",
       " ('chain', 'and', 'a'),\n",
       " ('tophat', 'and', 'a'),\n",
       " ('head', 'and', 'the'),\n",
       " ('chagrin', 'and', 'discontent'),\n",
       " ('occupation', 'and', 'he'),\n",
       " ('China', 'and', 'that'),\n",
       " ('it', 'and', 'the'),\n",
       " ('then', 'and', 'the'),\n",
       " ('inches', 'and', 'the'),\n",
       " ('marks', 'and', 'have'),\n",
       " ('know', 'and', 'my'),\n",
       " ('him', 'and', 'read'),\n",
       " ('body', 'and', 'mind'),\n",
       " ('mind', 'and', 'above'),\n",
       " ('chuckled', 'and', 'wriggled'),\n",
       " ('scratch', 'and', 'tell'),\n",
       " ('household', 'and', 'the'),\n",
       " ('paper', 'and', 'the'),\n",
       " ('affair', 'and', 'of'),\n",
       " ('one', 'and', 'I'),\n",
       " ('Spaulding', 'and', 'he’s'),\n",
       " ('Holmes', 'and', 'I'),\n",
       " ('himself', 'and', 'earn'),\n",
       " ('mind', 'and', 'then'),\n",
       " ('He', 'and', 'a'),\n",
       " ('cooking', 'and', 'keeps'),\n",
       " ('widower', 'and', 'never'),\n",
       " ('us', 'and', 'we'),\n",
       " ('heads', 'and', 'pay'),\n",
       " ('hand', 'and', 'he'),\n",
       " ('it', 'and', 'I'),\n",
       " ('man', 'and', 'as'),\n",
       " ('outside', 'and', 'I'),\n",
       " ('slight', 'and', 'it'),\n",
       " ('years', 'and', 'an'),\n",
       " ('vacancy', 'and', 'there'),\n",
       " ('redheaded', 'and', 'he'),\n",
       " ('pay', 'and', 'very'),\n",
       " ('Londoners', 'and', 'to'),\n",
       " ('young', 'and', 'he'),\n",
       " ('full', 'and', 'rich'),\n",
       " ('day', 'and', 'to'),\n",
       " ('up', 'and', 'started'),\n",
       " ('east', 'and', 'west'),\n",
       " ('folk', 'and', 'Pope’s'),\n",
       " ('pushed', 'and', 'pulled'),\n",
       " ('pulled', 'and', 'butted'),\n",
       " ('crowd', 'and', 'right'),\n",
       " ('hope', 'and', 'some'),\n",
       " ('could', 'and', 'soon'),\n",
       " ('paused', 'and', 'refreshed'),\n",
       " ('chairs', 'and', 'a'),\n",
       " ('up', 'and', 'then'),\n",
       " ('others', 'and', 'he'),\n",
       " ('side', 'and', 'gazed'),\n",
       " ('hand', 'and', 'congratulated'),\n",
       " ('hands', 'and', 'tugged'),\n",
       " ('wigs', 'and', 'once'),\n",
       " ('window', 'and', 'shouted'),\n",
       " ('below', 'and', 'the'),\n",
       " ('own', 'and', 'that'),\n",
       " ('Ross', 'and', 'I'),\n",
       " ('propagation', 'and', 'spread'),\n",
       " ('Thursday', 'and', 'Friday'),\n",
       " ('man', 'and', 'that'),\n",
       " ('day', 'and', 'I'),\n",
       " ('pens', 'and', 'blottingpaper'),\n",
       " ('table', 'and', 'chair'),\n",
       " ('Wilson', 'and', 'let'),\n",
       " ('room', 'and', 'I'),\n",
       " ('day', 'and', 'by'),\n",
       " ('ink', 'and', 'with'),\n",
       " ('quillpen', 'and', 'seven'),\n",
       " ('surprise', 'and', 'delight'),\n",
       " ('me', 'and', 'Mr'),\n",
       " ('A', 'and', 'then'),\n",
       " ('written', 'and', 'locked'),\n",
       " ('Holmes', 'and', 'on'),\n",
       " ('in', 'and', 'planked'),\n",
       " ('week', 'and', 'the'),\n",
       " ('ten', 'and', 'every'),\n",
       " ('morning', 'and', 'then'),\n",
       " ('come', 'and', 'the'),\n",
       " ('one', 'and', 'suited'),\n",
       " ('this', 'and', 'I'),\n",
       " ('Abbots', 'and', 'Archery'),\n",
       " ('Archery', 'and', 'Armor'),\n",
       " ('Armor', 'and', 'Architecture'),\n",
       " ('Architecture', 'and', 'Attica'),\n",
       " ('Attica', 'and', 'hoped'),\n",
       " ('foolscap', 'and', 'I'),\n",
       " ('shut', 'and', 'locked'),\n",
       " ('is', 'and', 'you'),\n",
       " ('Holmes', 'and', 'I'),\n",
       " ('announcement', 'and', 'the'),\n",
       " ('groundfloor', 'and', 'I'),\n",
       " ('solicitor', 'and', 'was'),\n",
       " ('kneecaps', 'and', 'no'),\n",
       " ('Square', 'and', 'I'),\n",
       " ('one', 'and', 'I'),\n",
       " ('them', 'and', 'who'),\n",
       " ('are', 'and', 'what'),\n",
       " ('two', 'and', 'thirty'),\n",
       " ('handy', 'and', 'would'),\n",
       " ('Saturday', 'and', 'I'),\n",
       " ('problem', 'and', 'I'),\n",
       " ('nose', 'and', 'there'),\n",
       " ('closed', 'and', 'his'),\n",
       " ('asleep', 'and', 'indeed'),\n",
       " ('mind', 'and', 'put'),\n",
       " ('hat', 'and', 'come'),\n",
       " ('first', 'and', 'we'),\n",
       " ('introspective', 'and', 'I'),\n",
       " ('Aldersgate', 'and', 'a'),\n",
       " ('grass', 'and', 'a'),\n",
       " ('smokeladen', 'and', 'uncongenial'),\n",
       " ('balls', 'and', 'a'),\n",
       " ('side', 'and', 'looked'),\n",
       " ('street', 'and', 'then'),\n",
       " ('pawnbroker’s', 'and', 'having'),\n",
       " ('door', 'and', 'knocked'),\n",
       " ('London', 'and', 'for'),\n",
       " ('north', 'and', 'west'),\n",
       " ('inward', 'and', 'outward'),\n",
       " ('shops', 'and', 'stately'),\n",
       " ('faded', 'and', 'stagnant'),\n",
       " ('corner', 'and', 'glancing'),\n",
       " ('City', 'and', 'Suburban'),\n",
       " ('Restaurant', 'and', 'McFarlane’s'),\n",
       " ('sandwich', 'and', 'a'),\n",
       " ('coffee', 'and', 'then'),\n",
       " ('sweetness', 'and', 'delicacy'),\n",
       " ('delicacy', 'and', 'harmony'),\n",
       " ('harmony', 'and', 'there'),\n",
       " ('face', 'and', 'his'),\n",
       " ('itself', 'and', 'his'),\n",
       " ('exactness', 'and', 'astuteness'),\n",
       " ('poetic', 'and', 'contemplative'),\n",
       " ('energy', 'and', 'as'),\n",
       " ('improvisations', 'and', 'his'),\n",
       " ('him', 'and', 'that'),\n",
       " ('heel', 'and', 'disappeared'),\n",
       " ('seen', 'and', 'yet'),\n",
       " ('confused', 'and', 'grotesque'),\n",
       " ('Square', 'and', 'the'),\n",
       " ('expedition', 'and', 'why'),\n",
       " ('going', 'and', 'what'),\n",
       " ('despair', 'and', 'set'),\n",
       " ('home', 'and', 'made'),\n",
       " ('Park', 'and', 'so'),\n",
       " ('door', 'and', 'as'),\n",
       " ('hat', 'and', 'oppressively'),\n",
       " ('peajacket', 'and', 'taking'),\n",
       " ('theoretical', 'and', 'fantastic'),\n",
       " ('murder', 'and', 'the'),\n",
       " ('yet', 'and', 'that'),\n",
       " ('£30000', 'and', 'for'),\n",
       " ('smasher', 'and', 'forger'),\n",
       " ('profession', 'and', 'I'),\n",
       " ('duke', 'and', 'he'),\n",
       " ('Eton', 'and', 'Oxford'),\n",
       " ('fingers', 'and', 'though'),\n",
       " ('week', 'and', 'be'),\n",
       " ('years', 'and', 'have'),\n",
       " ('Clay', 'and', 'I'),\n",
       " ('however', 'and', 'quite'),\n",
       " ('Watson', 'and', 'I'),\n",
       " ('drive', 'and', 'lay'),\n",
       " ('director', 'and', 'personally'),\n",
       " ('bulldog', 'and', 'as'),\n",
       " ('are', 'and', 'they'),\n",
       " ('dismissed', 'and', 'following'),\n",
       " ('passage', 'and', 'through'),\n",
       " ('opened', 'and', 'led'),\n",
       " ('lantern', 'and', 'then'),\n",
       " ('passage', 'and', 'so'),\n",
       " ('crates', 'and', 'massive'),\n",
       " ('lantern', 'and', 'gazed'),\n",
       " ('boxes', 'and', 'not'),\n",
       " ('floor', 'and', 'with'),\n",
       " ('lantern', 'and', 'a'),\n",
       " ('again', 'and', 'put'),\n",
       " ('directors', 'and', 'he'),\n",
       " ('resources', 'and', 'borrowed'),\n",
       " ('money', 'and', 'that'),\n",
       " ('office', 'and', 'the'),\n",
       " ('pocket', 'and', 'I'),\n",
       " ('men', 'and', 'though'),\n",
       " ('crate', 'and', 'do'),\n",
       " ('lantern', 'and', 'left'),\n",
       " ('depressing', 'and', 'subduing'),\n",
       " ('gloom', 'and', 'in'),\n",
       " ('inspector', 'and', 'two'),\n",
       " ('silent', 'and', 'wait”'),\n",
       " ('hour', 'and', 'a'),\n",
       " ('gone', 'and', 'the'),\n",
       " ('weary', 'and', 'stiff'),\n",
       " ('tension', 'and', 'my'),\n",
       " ('line', 'and', 'then'),\n",
       " ('open', 'and', 'a'),\n",
       " ('appeared', 'and', 'all'),\n",
       " ('side', 'and', 'left'),\n",
       " ('it', 'and', 'then'),\n",
       " ('shoulderhigh', 'and', 'waisthigh'),\n",
       " ('hole', 'and', 'was'),\n",
       " ('lithe', 'and', 'small'),\n",
       " ('face', 'and', 'a'),\n",
       " ('chisel', 'and', 'the'),\n",
       " ('jump', 'and', 'I’ll'),\n",
       " ('out', 'and', 'seized'),\n",
       " ('hole', 'and', 'I'),\n",
       " ('wrist', 'and', 'the'),\n",
       " ('new', 'and', 'effective”'),\n",
       " ('‘sir’', 'and', '‘please’”'),\n",
       " ('stare', 'and', 'a'),\n",
       " ('us', 'and', 'walked'),\n",
       " ('detected', 'and', 'defeated'),\n",
       " ('unique', 'and', 'by'),\n",
       " ('League', 'and', 'the'),\n",
       " ('him', 'and', 'what'),\n",
       " ('it', 'and', 'together'),\n",
       " ('one', 'and', 'there'),\n",
       " ('preparations', 'and', 'such'),\n",
       " ('photography', 'and', 'his'),\n",
       " ('assistant', 'and', 'found'),\n",
       " ('coolest', 'and', 'most'),\n",
       " ('bell', 'and', 'as'),\n",
       " ('wrinkled', 'and', 'stained'),\n",
       " ('City', 'and', 'Suburban'),\n",
       " ('premises', 'and', 'felt'),\n",
       " ('Yard', 'and', 'upon'),\n",
       " ('chain', 'and', 'yet'),\n",
       " ('roofs', 'and', 'peep'),\n",
       " ('generations', 'and', 'leading'),\n",
       " ('conventionalities', 'and', 'foreseen'),\n",
       " ('stale', 'and', 'unprofitable”'),\n",
       " ('enough', 'and', 'vulgar'),\n",
       " ('limits', 'and', 'yet'),\n",
       " ('selection', 'and', 'discretion'),\n",
       " ('smiled', 'and', 'shook'),\n",
       " ('adviser', 'and', 'helper'),\n",
       " ('strange', 'and', 'bizarre'),\n",
       " ('paper', 'and', 'glancing'),\n",
       " ('case', 'and', 'as'),\n",
       " ('woman', 'and', 'the'),\n",
       " ('teeth', 'and', 'hurling'),\n",
       " ('doctor', 'and', 'acknowledge'),\n",
       " ('ways', 'and', 'simple'),\n",
       " ('observation', 'and', 'for'),\n",
       " ('cause', 'and', 'effect'),\n",
       " ('chair', 'and', 'was'),\n",
       " ('neck', 'and', 'a'),\n",
       " ('backward', 'and', 'forward'),\n",
       " ('forward', 'and', 'her'),\n",
       " ('road', 'and', 'we'),\n",
       " ('oscillates', 'and', 'the'),\n",
       " ('door', 'and', 'the'),\n",
       " ('remarkable', 'and', 'having'),\n",
       " ('door', 'and', 'bowed'),\n",
       " ('minute', 'and', 'yet'),\n",
       " ('start', 'and', 'looked'),\n",
       " ('fear', 'and', 'astonishment'),\n",
       " ('police', 'and', 'every'),\n",
       " ('machine', 'and', 'I'),\n",
       " ('together', 'and', 'his'),\n",
       " ('police', 'and', 'he'),\n",
       " ('you', 'and', 'so'),\n",
       " ('nothing', 'and', 'kept'),\n",
       " ('mad', 'and', 'I'),\n",
       " ('things', 'and', 'came'),\n",
       " ('years', 'and', 'two'),\n",
       " ('alive', 'and', 'well'),\n",
       " ('death', 'and', 'a'),\n",
       " ('Road', 'and', 'he'),\n",
       " ('goodwill', 'and', 'interest'),\n",
       " ('rambling', 'and', 'inconsequential'),\n",
       " ('separate', 'and', 'was'),\n",
       " ('little', 'and', 'indulge'),\n",
       " ('them', 'and', 'so'),\n",
       " ('quarter', 'and', 'pays'),\n",
       " ('mother', 'and', 'I'),\n",
       " ('sheet', 'and', 'I'),\n",
       " ('face', 'and', 'she'),\n",
       " ('alive', 'and', 'then'),\n",
       " ('us', 'and', 'sent'),\n",
       " ('going', 'and', 'I'),\n",
       " ('mother', 'and', 'I'),\n",
       " ('foreman', 'and', 'it'),\n",
       " ('remember', 'and', 'shrugged'),\n",
       " ('shoulders', 'and', 'said'),\n",
       " ('night', 'and', 'he'),\n",
       " ('safe', 'and', 'after'),\n",
       " ('again', 'and', 'Mr'),\n",
       " ('it', 'and', 'he'),\n",
       " ('with', 'and', 'I'),\n",
       " ('week', 'and', 'Hosmer'),\n",
       " ('wrote', 'and', 'said'),\n",
       " ('safer', 'and', 'better'),\n",
       " ('time', 'and', 'he'),\n",
       " ('Holmes', 'and', 'the'),\n",
       " ('retiring', 'and', 'gentlemanly'),\n",
       " ('quinsy', 'and', 'swollen'),\n",
       " ('me', 'and', 'it'),\n",
       " ('throat', 'and', 'a'),\n",
       " ('neat', 'and', 'plain'),\n",
       " ('are', 'and', 'he'),\n",
       " ('“Well', 'and', 'what'),\n",
       " ('again', 'and', 'proposed'),\n",
       " ('earnest', 'and', 'made'),\n",
       " ('swear', 'and', 'that'),\n",
       " ('first', 'and', 'was'),\n",
       " ('afterwards', 'and', 'mother'),\n",
       " ('Cross', 'and', 'we'),\n",
       " ('it', 'and', 'stepped'),\n",
       " ('first', 'and', 'when'),\n",
       " ('did', 'and', 'when'),\n",
       " ('box', 'and', 'looked'),\n",
       " ('Holmes', 'and', 'I'),\n",
       " ('good', 'and', 'kind'),\n",
       " ('true', 'and', 'that'),\n",
       " ('him', 'and', 'that'),\n",
       " ('angry', 'and', 'said'),\n",
       " ('“Yes', 'and', 'he'),\n",
       " ('happened', 'and', 'that'),\n",
       " ('church', 'and', 'then'),\n",
       " ('me', 'and', 'got'),\n",
       " ('money', 'and', 'never'),\n",
       " ('of', 'and', 'I'),\n",
       " ('muff', 'and', 'began'),\n",
       " ('now', 'and', 'do'),\n",
       " ('him', 'and', 'any'),\n",
       " ('slip', 'and', 'here'),\n",
       " ('here', 'and', 'remember'),\n",
       " ('book', 'and', 'do'),\n",
       " ('hat', 'and', 'the'),\n",
       " ('table', 'and', 'went'),\n",
       " ('him', 'and', 'his'),\n",
       " ('old', 'and', 'oily'),\n",
       " ('counsellor', 'and', 'having'),\n",
       " ('him', 'and', 'a'),\n",
       " ('’77', 'and', 'there'),\n",
       " ('look', 'and', 'so'),\n",
       " ('it', 'and', 'a'),\n",
       " ('neck', 'and', 'sleeves'),\n",
       " ('grayish', 'and', 'were'),\n",
       " ('earrings', 'and', 'a'),\n",
       " ('together', 'and', 'chuckled'),\n",
       " ('method', 'and', 'you'),\n",
       " ('arm', 'and', 'on'),\n",
       " ('face', 'and', 'observing'),\n",
       " ('sight', 'and', 'typewriting'),\n",
       " ('surprised', 'and', 'interested'),\n",
       " ('toecap', 'and', 'the'),\n",
       " ('five', 'and', 'the'),\n",
       " ('third', 'and', 'fifth'),\n",
       " ('glove', 'and', 'finger'),\n",
       " ('hurry', 'and', 'dipped'),\n",
       " ('sidewhiskers', 'and', 'mustache'),\n",
       " ('chain', 'and', 'gray'),\n",
       " ('reasoning', 'and', 'extraordinary'),\n",
       " ('assured', 'and', 'easy'),\n",
       " ('Bohemia', 'and', 'of'),\n",
       " ('Four', 'and', 'the'),\n",
       " ('time', 'and', 'the'),\n",
       " ('free', 'and', 'was'),\n",
       " ('hansom', 'and', 'drive'),\n",
       " ('bottles', 'and', 'testtubes'),\n",
       " ('then', 'and', 'what'),\n",
       " ('mouth', 'and', 'Holmes'),\n",
       " ('passage', 'and', 'a'),\n",
       " ('shaven', 'and', 'sallow'),\n",
       " ('manner', 'and', 'a'),\n",
       " ('sharp', 'and', 'penetrating'),\n",
       " ('sideboard', 'and', 'with'),\n",
       " ('noticed', 'and', 'she'),\n",
       " ('start', 'and', 'dropped'),\n",
       " ('others', 'and', 'some'),\n",
       " ('‘e’', 'and', 'a'),\n",
       " ('office', 'and', 'no'),\n",
       " ('typewriter', 'and', 'its'),\n",
       " ('slurred', 'and', 'the'),\n",
       " ('chair', 'and', 'picked'),\n",
       " ('him', 'and', 'let'),\n",
       " ('over', 'and', 'turning'),\n",
       " ('lips', 'and', 'glancing'),\n",
       " ('transparent', 'and', 'it'),\n",
       " ('down', 'and', 'let'),\n",
       " ('face', 'and', 'a'),\n",
       " ('cruel', 'and', 'selfish'),\n",
       " ('selfish', 'and', 'heartless'),\n",
       " ('events', 'and', 'you'),\n",
       " ('mantelpiece', 'and', 'leaning'),\n",
       " ('position', 'and', 'the'),\n",
       " ('affectionate', 'and', 'warmhearted'),\n",
       " ('advantages', 'and', 'her'),\n",
       " ('home', 'and', 'forbidding'),\n",
       " ('rights', 'and', 'finally'),\n",
       " ('connivance', 'and', 'assistance'),\n",
       " ('mustache', 'and', 'a'),\n",
       " ('whisper', 'and', 'doubly'),\n",
       " ('Angel', 'and', 'keeps'),\n",
       " ('away', 'and', 'having'),\n",
       " ('attentions', 'and', 'the'),\n",
       " ('meetings', 'and', 'an'),\n",
       " ('mind', 'and', 'prevent'),\n",
       " ('Testament', 'and', 'hence'),\n",
       " ('Angel', 'and', 'so'),\n",
       " ('her', 'and', 'then'),\n",
       " ('fourwheeler', 'and', 'out'),\n",
       " ('talking', 'and', 'he'),\n",
       " ('now', 'and', 'not'),\n",
       " ('assault', 'and', 'illegal'),\n",
       " ('unlocking', 'and', 'throwing'),\n",
       " ('handy', 'and', 'I'),\n",
       " ('banged', 'and', 'from'),\n",
       " ('bad', 'and', 'ends'),\n",
       " ('conduct', 'and', 'it'),\n",
       " ('spectacles', 'and', 'the'),\n",
       " ('voice', 'and', 'I'),\n",
       " ('typewriter', 'and', 'I'),\n",
       " ('typewritten', 'and', 'revealed'),\n",
       " ('cub', 'and', 'danger'),\n",
       " ('Horace', 'and', 'as'),\n",
       " ('wife', 'and', 'I'),\n",
       " ('Holmes', 'and', 'ran'),\n",
       " ('Air', 'and', 'scenery'),\n",
       " ('good', 'and', 'you'),\n",
       " ('prompt', 'and', 'ready'),\n",
       " ('few', 'and', 'simple'),\n",
       " ('up', 'and', 'down'),\n",
       " ('gaunter', 'and', 'taller'),\n",
       " ('travellingcloak', 'and', 'closefitting'),\n",
       " ('rummaged', 'and', 'read'),\n",
       " ('notetaking', 'and', 'of'),\n",
       " ('ball', 'and', 'tossed'),\n",
       " ('featureless', 'and', 'commonplace'),\n",
       " ('Australia', 'and', 'returned'),\n",
       " ('eighteen', 'and', 'Turner'),\n",
       " ('families', 'and', 'to'),\n",
       " ('sport', 'and', 'were'),\n",
       " ('man', 'and', 'a'),\n",
       " ('afternoon', 'and', 'walked'),\n",
       " ('Ross', 'and', 'he'),\n",
       " ('mile', 'and', 'two'),\n",
       " ('mentioned', 'and', 'the'),\n",
       " ('time', 'and', 'the'),\n",
       " ('grass', 'and', 'of'),\n",
       " ('wood', 'and', 'close'),\n",
       " ('McCarthy', 'and', 'his'),\n",
       " ('son', 'and', 'that'),\n",
       " ('son', 'and', 'she'),\n",
       " ('away', 'and', 'told'),\n",
       " ('Pool', 'and', 'that'),\n",
       " ('wood', 'and', 'to'),\n",
       " ('hat', 'and', 'his'),\n",
       " ('hand', 'and', 'sleeve'),\n",
       " ('heavy', 'and', 'blunt'),\n",
       " ('arrested', 'and', 'a'),\n",
       " ('coroner', 'and', 'at'),\n",
       " ('man', 'and', 'it'),\n",
       " ('however', 'and', 'among'),\n",
       " ('innocence', 'and', 'who'),\n",
       " ('me', 'and', 'hence'),\n",
       " ('side', 'and', 'yet'),\n",
       " ('morning', 'and', 'in'),\n",
       " ('less', 'and', 'less'),\n",
       " ('light', 'and', 'being'),\n",
       " ('observation', 'and', 'inference'),\n",
       " ('métier', 'and', 'it'),\n",
       " ('inquest', 'and', 'which'),\n",
       " ('it', 'and', 'that'),\n",
       " ('circumstances', 'and', 'yet'),\n",
       " ('selfrestraint', 'and', 'firmness'),\n",
       " ('father', 'and', 'that'),\n",
       " ('him', 'and', 'even'),\n",
       " ('selfreproach', 'and', 'contrition'),\n",
       " ('here', 'and', 'may'),\n",
       " ('paper', 'and', 'having'),\n",
       " ('carriage', 'and', 'read'),\n",
       " ('called', 'and', 'gave'),\n",
       " ('Bristol', 'and', 'had'),\n",
       " ('arrival', 'and', 'I'),\n",
       " ('yard', 'and', 'looking'),\n",
       " ('out', 'and', 'walk'),\n",
       " ('gun', 'and', 'strolled'),\n",
       " ('father', 'and', 'myself'),\n",
       " ('forward', 'and', 'found'),\n",
       " ('me', 'and', 'asked'),\n",
       " ('words', 'and', 'almost'),\n",
       " ('him', 'and', 'returned'),\n",
       " ('gun', 'and', 'held'),\n",
       " ('minutes', 'and', 'then'),\n",
       " ('returned', 'and', 'I'),\n",
       " ('cold', 'and', 'forbidding'),\n",
       " ('you', 'and', 'your'),\n",
       " ('you', 'and', 'your'),\n",
       " ('you', 'and', 'before'),\n",
       " ('cry', 'and', 'found'),\n",
       " ('disturbed', 'and', 'excited'),\n",
       " ('attention', 'and', 'with'),\n",
       " ('father', 'and', 'his'),\n",
       " ('himself', 'and', 'stretched'),\n",
       " ('you', 'and', 'the'),\n",
       " ('imagination', 'and', 'too'),\n",
       " ('rat', 'and', 'the'),\n",
       " ('true', 'and', 'we'),\n",
       " ('Petrarch', 'and', 'not'),\n",
       " ('Swindon', 'and', 'I'),\n",
       " ('Valley', 'and', 'over'),\n",
       " ('furtive', 'and', 'slylooking'),\n",
       " ('dustcoat', 'and', 'leatherleggings'),\n",
       " ('nature', 'and', 'that'),\n",
       " ('nice', 'and', 'complimentary'),\n",
       " ('wind', 'and', 'not'),\n",
       " ('smoking', 'and', 'the'),\n",
       " ('pikestaff', 'and', 'the'),\n",
       " ('lady', 'and', 'such'),\n",
       " ('you', 'and', 'would'),\n",
       " ('excitement', 'and', 'concern'),\n",
       " ('us', 'and', 'finally'),\n",
       " ('it', 'and', 'I'),\n",
       " ('children', 'and', 'I'),\n",
       " ('head', 'and', 'looking'),\n",
       " ('James', 'and', 'his'),\n",
       " ('James', 'and', 'I'),\n",
       " ('brother', 'and', 'sister'),\n",
       " ('young', 'and', 'has'),\n",
       " ('quarrels', 'and', 'this'),\n",
       " ('bed', 'and', 'Dr'),\n",
       " ('wreck', 'and', 'that'),\n",
       " ('ill', 'and', 'he'),\n",
       " ('Goodbye', 'and', 'God'),\n",
       " ('entered', 'and', 'we'),\n",
       " ('you', 'and', 'me”'),\n",
       " ('Hereford', 'and', 'see'),\n",
       " ('them', 'and', 'then'),\n",
       " ('sofa', 'and', 'tried'),\n",
       " ('groping', 'and', 'I'),\n",
       " ('room', 'and', 'gave'),\n",
       " ('unforeseen', 'and', 'extraordinary'),\n",
       " ('father', 'and', 'the'),\n",
       " ('terrible', 'and', 'deadly'),\n",
       " ('bell', 'and', 'called'),\n",
       " ('bone', 'and', 'the'),\n",
       " ('flight', 'and', 'must'),\n",
       " ('return', 'and', 'to'),\n",
       " ('mysteries', 'and', 'improbabilities'),\n",
       " ('opinion', 'and', 'yet'),\n",
       " ('best', 'and', 'keenest'),\n",
       " ('that', 'and', 'I'),\n",
       " ('it', 'and', 'was'),\n",
       " ('at', 'and', 'I'),\n",
       " ('lad', 'and', 'before'),\n",
       " ('Bristol', 'and', 'marry'),\n",
       " ('himself', 'and', 'his'),\n",
       " ('Bristol', 'and', 'his'),\n",
       " ('trouble', 'and', 'likely'),\n",
       " ('utterly', 'and', 'has'),\n",
       " ('Pool', 'and', 'that'),\n",
       " ('away', 'and', 'he'),\n",
       " ('please', 'and', 'we'),\n",
       " ('foretold', 'and', 'the'),\n",
       " ('bright', 'and', 'cloudless'),\n",
       " ('carriage', 'and', 'we'),\n",
       " ('Farm', 'and', 'the'),\n",
       " ('abroad', 'and', 'he'),\n",
       " ('McCarthy’s', 'and', 'I'),\n",
       " ('own', 'and', 'to'),\n",
       " ('estate', 'and', 'that'),\n",
       " ('proposal', 'and', 'all'),\n",
       " ('deductions', 'and', 'the'),\n",
       " ('theories', 'and', 'fancies”'),\n",
       " ('junior', 'and', 'that'),\n",
       " ('blinds', 'and', 'the'),\n",
       " ('death', 'and', 'also'),\n",
       " ('thinker', 'and', 'logician'),\n",
       " ('flushed', 'and', 'darkened'),\n",
       " ('compressed', 'and', 'the'),\n",
       " ('chase', 'and', 'his'),\n",
       " ('Swiftly', 'and', 'silently'),\n",
       " ('meadows', 'and', 'so'),\n",
       " ('district', 'and', 'there'),\n",
       " ('path', 'and', 'amid'),\n",
       " ('dead', 'and', 'once'),\n",
       " ('Lestrade', 'and', 'I'),\n",
       " ('indifferent', 'and', 'contemptuous'),\n",
       " ('Farm', 'and', 'the'),\n",
       " ('thick', 'and', 'there'),\n",
       " ('trees', 'and', 'the'),\n",
       " ('found', 'and', 'indeed'),\n",
       " ('face', 'and', 'peering'),\n",
       " ('scent', 'and', 'then'),\n",
       " ('it', 'and', 'there'),\n",
       " ('buffalo', 'and', 'wallowed'),\n",
       " ('came', 'and', 'they'),\n",
       " ('lens', 'and', 'lay'),\n",
       " ('walking', 'and', 'once'),\n",
       " ('marked', 'and', 'the'),\n",
       " ('up', 'and', 'down'),\n",
       " ('up', 'and', 'down'),\n",
       " ('wood', 'and', 'under'),\n",
       " ('this', 'and', 'lay'),\n",
       " ('leaves', 'and', 'dried'),\n",
       " ('envelope', 'and', 'examining'),\n",
       " ('moss', 'and', 'this'),\n",
       " ('examined', 'and', 'retained'),\n",
       " ('in', 'and', 'have'),\n",
       " ('Moran', 'and', 'perhaps'),\n",
       " ('cab', 'and', 'I'),\n",
       " ('cab', 'and', 'drove'),\n",
       " ('shootingboots', 'and', 'a'),\n",
       " ('cigarholder', 'and', 'carries'),\n",
       " ('method', 'and', 'I'),\n",
       " ('afternoon', 'and', 'shall'),\n",
       " ('silent', 'and', 'buried'),\n",
       " ('chair', 'and', 'let'),\n",
       " ('do', 'and', 'I'),\n",
       " ('cigar', 'and', 'let'),\n",
       " ('favor', 'and', 'you'),\n",
       " ('commence', 'and', 'we'),\n",
       " ('cry', 'and', 'one'),\n",
       " ('pocket', 'and', 'flattened'),\n",
       " ('uttered', 'and', 'of'),\n",
       " ('behind', 'and', 'yet'),\n",
       " ('father', 'and', 'son'),\n",
       " ('this', 'and', 'written'),\n",
       " ('cigar', 'and', 'cigarette'),\n",
       " ('round', 'and', 'discovered'),\n",
       " ('escape', 'and', 'you'),\n",
       " ('sittingroom', 'and', 'ushering'),\n",
       " ('strange', 'and', 'impressive'),\n",
       " ('step', 'and', 'bowed'),\n",
       " ('decrepitude', 'and', 'yet'),\n",
       " ('features', 'and', 'his'),\n",
       " ('body', 'and', 'of'),\n",
       " ('hair', 'and', 'outstanding'),\n",
       " ('dignity', 'and', 'power'),\n",
       " ('lips', 'and', 'the'),\n",
       " ('deadly', 'and', 'chronic'),\n",
       " ('here', 'and', 'I'),\n",
       " ('rose', 'and', 'sat'),\n",
       " ('hand', 'and', 'a'),\n",
       " ('it', 'and', 'Watson'),\n",
       " ('years', 'and', 'he'),\n",
       " ('hotblooded', 'and', 'reckless'),\n",
       " ('bush', 'and', 'in'),\n",
       " ('us', 'and', 'we'),\n",
       " ('under', 'and', 'our'),\n",
       " ('Melbourne', 'and', 'we'),\n",
       " ('it', 'and', 'attacked'),\n",
       " ('troopers', 'and', 'six'),\n",
       " ('men', 'and', 'made'),\n",
       " ('pals', 'and', 'determined'),\n",
       " ('quiet', 'and', 'respectable'),\n",
       " ('market', 'and', 'I'),\n",
       " ('too', 'and', 'though'),\n",
       " ('leaf', 'and', 'did'),\n",
       " ('investment', 'and', 'I'),\n",
       " ('me', 'and', 'my'),\n",
       " ('son', 'and', 'you'),\n",
       " ('England', 'and', 'there’s'),\n",
       " ('off', 'and', 'there'),\n",
       " ('have', 'and', 'whatever'),\n",
       " ('up', 'and', 'so'),\n",
       " ('girl', 'and', 'as'),\n",
       " ('him', 'and', 'that'),\n",
       " ('cigar', 'and', 'waited'),\n",
       " ('black', 'and', 'bitter'),\n",
       " ('I', 'and', 'all'),\n",
       " ('dying', 'and', 'a'),\n",
       " ('mind', 'and', 'fairly'),\n",
       " ('memory', 'and', 'my'),\n",
       " ('foul', 'and', 'venomous'),\n",
       " ('confession', 'and', 'if'),\n",
       " ('eye', 'and', 'your'),\n",
       " ('Tottering', 'and', 'shaking'),\n",
       " ('words', 'and', 'say'),\n",
       " ('Holmes', 'and', 'submitted'),\n",
       " ('dead', 'and', 'there'),\n",
       " ('son', 'and', 'daughter'),\n",
       " ('notes', 'and', 'records'),\n",
       " ('’82', 'and', '’90'),\n",
       " ('strange', 'and', 'interesting'),\n",
       " ('choose', 'and', 'which'),\n",
       " ('papers', 'and', 'others'),\n",
       " ('degree', 'and', 'which'),\n",
       " ('skill', 'and', 'would'),\n",
       " ('up', 'and', 'have'),\n",
       " ('conjecture', 'and', 'surmise'),\n",
       " ('details', 'and', 'so'),\n",
       " ('been', 'and', 'probably'),\n",
       " ('Uffa', 'and', 'finally'),\n",
       " ('before', 'and', 'that'),\n",
       " ('September', 'and', 'the'),\n",
       " ('screamed', 'and', 'the'),\n",
       " ('life', 'and', 'to'),\n",
       " ('higher', 'and', 'louder'),\n",
       " ('louder', 'and', 'the'),\n",
       " ('cried', 'and', 'sobbed'),\n",
       " ('text', 'and', 'the'),\n",
       " ('mother’s', 'and', 'for'),\n",
       " ('day', 'and', 'at'),\n",
       " ('passage', 'and', 'a'),\n",
       " ('himself', 'and', 'towards'),\n",
       " ('wellgroomed', 'and', 'trimly'),\n",
       " ('refinement', 'and', 'delicacy'),\n",
       " ('hand', 'and', 'his'),\n",
       " ('lamp', 'and', 'I'),\n",
       " ('pale', 'and', 'his'),\n",
       " ('storm', 'and', 'rain'),\n",
       " ('coat', 'and', 'umbrella”'),\n",
       " ('hook', 'and', 'will'),\n",
       " ('clay', 'and', 'chalk'),\n",
       " ('men', 'and', 'once'),\n",
       " ('fire', 'and', 'favor'),\n",
       " ('mysterious', 'and', 'inexplicable'),\n",
       " ('commencement', 'and', 'I'),\n",
       " ('up', 'and', 'pushed'),\n",
       " ('Elias', 'and', 'my'),\n",
       " ('tire', 'and', 'his'),\n",
       " ('it', 'and', 'to'),\n",
       " ('man', 'and', 'became'),\n",
       " ('army', 'and', 'afterwards'),\n",
       " ('Europe', 'and', 'took'),\n",
       " ('States', 'and', 'his'),\n",
       " ('negroes', 'and', 'his'),\n",
       " ('fierce', 'and', 'quicktempered'),\n",
       " ('angry', 'and', 'of'),\n",
       " ('garden', 'and', 'two'),\n",
       " ('house', 'and', 'there'),\n",
       " ('brandy', 'and', 'smoked'),\n",
       " ('society', 'and', 'did'),\n",
       " ('him', 'and', 'he'),\n",
       " ('backgammon', 'and', 'draughts'),\n",
       " ('me', 'and', 'he'),\n",
       " ('servants', 'and', 'with'),\n",
       " ('keys', 'and', 'could'),\n",
       " ('liked', 'and', 'do'),\n",
       " ('locked', 'and', 'which'),\n",
       " ('trunks', 'and', 'bundles'),\n",
       " ('money', 'and', 'he'),\n",
       " ('putty', 'and', 'he'),\n",
       " ('shrieked', 'and', 'then'),\n",
       " ('he', 'and', 'rising'),\n",
       " ('envelope', 'and', 'saw'),\n",
       " ('breakfasttable', 'and', 'as'),\n",
       " ('hand', 'and', 'a'),\n",
       " ('today', 'and', 'send'),\n",
       " ('ordered', 'and', 'when'),\n",
       " ('brightly', 'and', 'in'),\n",
       " ('open', 'and', 'empty'),\n",
       " ('advantages', 'and', 'all'),\n",
       " ('well', 'and', 'good'),\n",
       " ('boy', 'and', 'leave'),\n",
       " ('directed', 'and', 'the'),\n",
       " ...]"
      ]
     },
     "execution_count": 33,
     "metadata": {},
     "output_type": "execute_result"
    }
   ],
   "source": [
    "punctuation = \"\"\"!'()*+,— -./:;<=>?@[\\]^_`{|\"}~#$%&\"\"\"\n",
    "words_no_punc = [''.join(char for char in word if char not in punctuation) for word in words]\n",
    "triplets = []\n",
    "for i in range(1,len(words)-1):\n",
    "    if words_no_punc[i] == \"and\":\n",
    "        triplets.append((words_no_punc[i-1],words_no_punc[i],words_no_punc[i+1]))\n",
    "triplets"
   ]
  },
  {
   "cell_type": "markdown",
   "metadata": {},
   "source": [
    "(b)"
   ]
  },
  {
   "cell_type": "markdown",
   "metadata": {},
   "source": [
    "This procedure iterates over all words in L and finds any triplet where the last 3 letters of the final word of the triplet are the same 3 letters as the last 3 letters of word W chosen from L."
   ]
  },
  {
   "cell_type": "code",
   "execution_count": 34,
   "metadata": {},
   "outputs": [
    {
     "data": {
      "text/plain": [
       "[('away and told', 'gold'),\n",
       " ('rapidly and told', 'gold'),\n",
       " ('Silk and Gold', 'gold'),\n",
       " ('indemnify and hold', 'gold'),\n",
       " ('delicacy and every', 'robbery'),\n",
       " ('pay and very', 'robbery'),\n",
       " ('ten and every', 'robbery'),\n",
       " ('Abbots and Archery', 'robbery'),\n",
       " ('police and every', 'robbery'),\n",
       " ('Air and scenery', 'robbery'),\n",
       " ('long and very', 'robbery'),\n",
       " ('armchair and cheery', 'robbery'),\n",
       " ('police and very', 'robbery'),\n",
       " ('do and Frank', 'bank'),\n",
       " ('mercifully and thank', 'bank'),\n",
       " ('help and advice', 'police')]"
      ]
     },
     "execution_count": 34,
     "metadata": {},
     "output_type": "execute_result"
    }
   ],
   "source": [
    "L = ['gold','diamond','robbery','bank','police']\n",
    "matches = []\n",
    "for W in L:\n",
    "    for t in triplets:\n",
    "        if t[2][-3:] == W[-3:]:\n",
    "            matches.append((' '.join(t),W))\n",
    "\n",
    "matches"
   ]
  },
  {
   "cell_type": "markdown",
   "metadata": {},
   "source": [
    "No matches for diamond, 2 for bank, 1 for police. Reducing required number of same letters down to 2:"
   ]
  },
  {
   "cell_type": "code",
   "execution_count": 35,
   "metadata": {},
   "outputs": [
    {
     "data": {
      "text/plain": [
       "[('finger and held', 'gold'),\n",
       " ('handy and would', 'gold'),\n",
       " ('away and told', 'gold'),\n",
       " ('gun and held', 'gold'),\n",
       " ('you and would', 'gold'),\n",
       " ('skill and would', 'gold'),\n",
       " ('keys and could', 'gold'),\n",
       " ('frenzy and would', 'gold'),\n",
       " ('out and would', 'gold'),\n",
       " ('freely and could', 'gold'),\n",
       " ('stone and held', 'gold'),\n",
       " ('strongbox and held', 'gold'),\n",
       " ('estate and would', 'gold'),\n",
       " ('handkerchief and held', 'gold'),\n",
       " ('afternoon and should', 'gold'),\n",
       " ('safe and should', 'gold'),\n",
       " ('rapidly and told', 'gold'),\n",
       " ('blue and would', 'gold'),\n",
       " ('Silk and Gold', 'gold'),\n",
       " ('indemnify and hold', 'gold'),\n",
       " ('street and found', 'diamond'),\n",
       " ('year and found', 'diamond'),\n",
       " ('body and mind', 'diamond'),\n",
       " ('assistant and found', 'diamond'),\n",
       " ('good and kind', 'diamond'),\n",
       " ('forward and found', 'diamond'),\n",
       " ('cry and found', 'diamond'),\n",
       " ('today and send', 'diamond'),\n",
       " ('Dock and found', 'diamond'),\n",
       " ('packet and found', 'diamond'),\n",
       " ('right and found', 'diamond'),\n",
       " ('yard and behind', 'diamond'),\n",
       " ('round and round', 'diamond'),\n",
       " ('rope and land', 'diamond'),\n",
       " ('safe and sound', 'diamond'),\n",
       " ('consultingroom and found', 'diamond'),\n",
       " ('up and hand', 'diamond'),\n",
       " ('up and found', 'diamond'),\n",
       " ('lodgings and found', 'diamond'),\n",
       " ('night and find', 'diamond'),\n",
       " ('passage and found', 'diamond'),\n",
       " ('out and round', 'diamond'),\n",
       " ('faculties and extraordinary', 'robbery'),\n",
       " ('delicacy and every', 'robbery'),\n",
       " ('CasselFelstein and hereditary', 'robbery'),\n",
       " ('sympathy and freemasonry', 'robbery'),\n",
       " ('effects and extraordinary', 'robbery'),\n",
       " ('pay and very', 'robbery'),\n",
       " ('ten and every', 'robbery'),\n",
       " ('Abbots and Archery', 'robbery'),\n",
       " ('police and every', 'robbery'),\n",
       " ('reasoning and extraordinary', 'robbery'),\n",
       " ('Air and scenery', 'robbery'),\n",
       " ('nice and complimentary', 'robbery'),\n",
       " ('unforeseen and extraordinary', 'robbery'),\n",
       " ('Bristol and marry', 'robbery'),\n",
       " ('register and diary', 'robbery'),\n",
       " ('January and February', 'robbery'),\n",
       " ('long and very', 'robbery'),\n",
       " ('armchair and cheery', 'robbery'),\n",
       " ('egg and poultry', 'robbery'),\n",
       " ('police and very', 'robbery'),\n",
       " ('Arthur and Mary', 'robbery'),\n",
       " ('me and inquiry', 'robbery'),\n",
       " ('courage and selfcontrolLiterary', 'robbery'),\n",
       " ('romance and chivalry', 'robbery'),\n",
       " ('do and Frank', 'bank'),\n",
       " ('mercifully and thank', 'bank'),\n",
       " ('screamed and shrunk', 'bank'),\n",
       " ('problems and since', 'police'),\n",
       " ('wigs and once', 'police'),\n",
       " ('connivance and assistance', 'police'),\n",
       " ('Testament and hence', 'police'),\n",
       " ('featureless and commonplace', 'police'),\n",
       " ('me and hence', 'police'),\n",
       " ('observation and inference', 'police'),\n",
       " ('dead and once', 'police'),\n",
       " ('walking and once', 'police'),\n",
       " ('men and once', 'police'),\n",
       " ('head and face', 'police'),\n",
       " ('possible and hence', 'police'),\n",
       " ('purity and radiance', 'police'),\n",
       " ('help and advice', 'police'),\n",
       " ('nightbird and once', 'police'),\n",
       " ('bed and eightpence', 'police'),\n",
       " ('there and annoyance', 'police')]"
      ]
     },
     "execution_count": 35,
     "metadata": {},
     "output_type": "execute_result"
    }
   ],
   "source": [
    "L = ['gold','diamond','robbery','bank','police']\n",
    "matches = []\n",
    "for W in L:\n",
    "    for t in triplets:\n",
    "        if t[2][-2:] == W[-2:]:\n",
    "            matches.append((' '.join(t),W))\n",
    "\n",
    "matches"
   ]
  },
  {
   "cell_type": "markdown",
   "metadata": {},
   "source": [
    "(c)"
   ]
  },
  {
   "cell_type": "code",
   "execution_count": 36,
   "metadata": {},
   "outputs": [],
   "source": [
    "class Q3Data(object):\n",
    "    def __init__(self,dir):\n",
    "        self.dir = dir\n",
    "    def __iter__(self):\n",
    "        with open(\"PADL-Q3.txt\") as q3_dataset:\n",
    "            dataset = []\n",
    "            for line in q3_dataset:\n",
    "                dataset.append(utils.simple_preprocess(line))\n",
    "        for i in range(len(dataset)-1):\n",
    "            if dataset[i] == []:\n",
    "                dataset[i] = dataset[i-1] + dataset[i+1]\n",
    "            yield dataset[i]"
   ]
  },
  {
   "cell_type": "code",
   "execution_count": 37,
   "metadata": {},
   "outputs": [
    {
     "data": {
      "text/plain": [
       "(2425281, 3708075)"
      ]
     },
     "execution_count": 37,
     "metadata": {},
     "output_type": "execute_result"
    }
   ],
   "source": [
    "sentences = Q3Data(\"PADL-Q3.txt\")\n",
    "min_count = 5\n",
    "model = Word2Vec(min_count=min_count)\n",
    "model.build_vocab(sentences)\n",
    "model.train(sentences,total_examples=12753,epochs=25)"
   ]
  },
  {
   "cell_type": "code",
   "execution_count": 38,
   "metadata": {},
   "outputs": [],
   "source": [
    "similarities = []\n",
    "for match in matches:\n",
    "    triplet = match[0].split()\n",
    "    try:\n",
    "        sim = model.wv.similarity(triplet[0].lower(),triplet[2].lower())\n",
    "        #print(triplet[0],sim,triplet[2])\n",
    "        similarities.append((sim,triplet[0],triplet[2]))\n",
    "    except KeyError:\n",
    "        continue\n",
    "        #print(\"The word '\"+triplet[0]+\"' or '\"+triplet[2]+f\"' appears less than {min_count} times, therefore the similarity cannot be computed\")"
   ]
  },
  {
   "cell_type": "code",
   "execution_count": 39,
   "metadata": {},
   "outputs": [
    {
     "data": {
      "text/plain": [
       "[(1.0, 'round', 'round'),\n",
       " (0.7609277, 'head', 'face'),\n",
       " (0.6677235, 'handkerchief', 'held'),\n",
       " (0.66004646, 'Arthur', 'Mary'),\n",
       " (0.6171377, 'gun', 'held')]"
      ]
     },
     "execution_count": 39,
     "metadata": {},
     "output_type": "execute_result"
    }
   ],
   "source": [
    "sorted(similarities,reverse=True)[:5]"
   ]
  },
  {
   "cell_type": "markdown",
   "metadata": {},
   "source": [
    "# Q4:"
   ]
  },
  {
   "cell_type": "markdown",
   "metadata": {},
   "source": [
    "Define MLP using Fully Connected and ReLU layers only:"
   ]
  },
  {
   "cell_type": "code",
   "execution_count": 40,
   "metadata": {},
   "outputs": [],
   "source": [
    "class MultiplyMLP(nn.Module):\n",
    "    def __init__(self, inputSize, hiddenSize):\n",
    "        super(MultiplyMLP, self).__init__()\n",
    "        self.linear1 = nn.Linear(inputSize,hiddenSize)\n",
    "        self.relu = nn.ReLU()\n",
    "        self.linear2 = nn.Linear(hiddenSize,1)\n",
    "    \n",
    "    def forward(self,x):\n",
    "        x = self.linear1(x)\n",
    "        x = self.relu(x)\n",
    "        x = self.linear2(x)\n",
    "        return x"
   ]
  },
  {
   "cell_type": "markdown",
   "metadata": {},
   "source": [
    "Function to generate random training data in the range [-100,100):"
   ]
  },
  {
   "cell_type": "code",
   "execution_count": 41,
   "metadata": {},
   "outputs": [],
   "source": [
    "def generate_data(low,high,num_samples):\n",
    "    x1 = np.random.uniform(low,high, num_samples)\n",
    "    x2 = np.random.uniform(low,high, num_samples)\n",
    "    y_true = x1 * x2\n",
    "    data = torch.tensor(np.column_stack((x1, x2))).to(torch.float32)\n",
    "    labels = torch.tensor(y_true).reshape(-1, 1)\n",
    "    return data, labels"
   ]
  },
  {
   "cell_type": "markdown",
   "metadata": {},
   "source": [
    "Run training loop to train on random data:"
   ]
  },
  {
   "cell_type": "code",
   "execution_count": 42,
   "metadata": {},
   "outputs": [
    {
     "name": "stdout",
     "output_type": "stream",
     "text": [
      "Epoch [250/1000], Loss: 434.7418\n",
      "Epoch [500/1000], Loss: 42.5998\n",
      "Epoch [750/1000], Loss: 24.3974\n",
      "Epoch [1000/1000], Loss: 28.4882\n"
     ]
    }
   ],
   "source": [
    "# Define hyperparameters\n",
    "input_size = 2\n",
    "hidden_size = 64\n",
    "learning_rate = 0.01\n",
    "num_epochs = 1000\n",
    "batch_size = 32\n",
    "num_samples = 3000\n",
    "# Use L1Loss for absolute error\n",
    "criterion = nn.L1Loss()\n",
    "\n",
    "q4_model = MultiplyMLP(input_size,hidden_size)\n",
    "optimiser = optim.Adam(q4_model.parameters(), lr=learning_rate)\n",
    "\n",
    "# Create list to store loss values in for plotting\n",
    "losses = []\n",
    "\n",
    "for epoch in range(num_epochs):\n",
    "    for i in range(0,num_samples,batch_size):\n",
    "        data,labels = generate_data(-100,100,batch_size)\n",
    "\n",
    "        output = q4_model(data)\n",
    "        loss = criterion(output, labels)\n",
    "\n",
    "        optimiser.zero_grad()\n",
    "        loss.backward()\n",
    "        optimiser.step()\n",
    "\n",
    "    if (epoch+1) % 250 == 0:\n",
    "        print(f'Epoch [{epoch+1}/{num_epochs}], Loss: {loss.item():.4f}')\n",
    "    if (epoch+1) % 10 == 0:\n",
    "        losses.append(loss.item())\n",
    "\n"
   ]
  },
  {
   "cell_type": "code",
   "execution_count": 43,
   "metadata": {},
   "outputs": [
    {
     "data": {
      "text/plain": [
       "[<matplotlib.lines.Line2D at 0x237e4316a30>]"
      ]
     },
     "execution_count": 43,
     "metadata": {},
     "output_type": "execute_result"
    },
    {
     "data": {
      "image/png": "[encoded data removed]",
      "text/plain": [
       "<Figure size 640x480 with 1 Axes>"
      ]
     },
     "metadata": {},
     "output_type": "display_data"
    }
   ],
   "source": [
    "epochs = np.arange(1,1001,10)\n",
    "plt.xlabel(\"Epoch\")\n",
    "plt.ylabel(\"Absolute Loss\")\n",
    "plt.plot(epochs,losses)"
   ]
  },
  {
   "cell_type": "markdown",
   "metadata": {},
   "source": [
    "Evaluate and compare random example's predicted value vs real value:"
   ]
  },
  {
   "cell_type": "code",
   "execution_count": 44,
   "metadata": {},
   "outputs": [
    {
     "name": "stdout",
     "output_type": "stream",
     "text": [
      "x1, x2 = -29.687346, 57.033550\n",
      "Predicted vs Actual value: -1672.898682 vs -1693.174687\n",
      "Test L1 Loss: 20.276005\n"
     ]
    }
   ],
   "source": [
    "x,y = generate_data(-100,100,1)\n",
    "\n",
    "with torch.no_grad():\n",
    "    q4_model.eval()\n",
    "    y_pred = q4_model(x)\n",
    "l1 = criterion(y_pred,y).item()\n",
    "\n",
    "print(f'x1, x2 = {x[0][0]:.6f}, {x[0][1]:.6f}')\n",
    "print(f'Predicted vs Actual value: {y_pred[0][0]:.6f} vs {y[0][0]:.6f}')\n",
    "print(f'Test L1 Loss: {l1:.6f}')"
   ]
  },
  {
   "cell_type": "markdown",
   "metadata": {},
   "source": [
    "Generate 100 random samples to test and evaluate average loss within range of training data:"
   ]
  },
  {
   "cell_type": "code",
   "execution_count": 45,
   "metadata": {},
   "outputs": [
    {
     "name": "stdout",
     "output_type": "stream",
     "text": [
      "Average loss within range of training data = 25.845055\n"
     ]
    }
   ],
   "source": [
    "x_val,y_val = generate_data(-100,100,100)\n",
    "q4_model.eval()\n",
    "\n",
    "total_loss = 0\n",
    "for i in range(100):\n",
    "    with torch.no_grad():\n",
    "        y_pred = q4_model(x_val[i])\n",
    "        l1 = criterion(y_pred,y_val[i])\n",
    "    total_loss+=l1\n",
    "\n",
    "print(f'Average loss within range of training data = {total_loss/100:.6f}')"
   ]
  },
  {
   "cell_type": "markdown",
   "metadata": {},
   "source": [
    "Generate 100 random samples outside range of training data and calculate average loss:"
   ]
  },
  {
   "cell_type": "code",
   "execution_count": 46,
   "metadata": {},
   "outputs": [
    {
     "name": "stdout",
     "output_type": "stream",
     "text": [
      "Average loss outside range of training data = 56819.573098\n"
     ]
    }
   ],
   "source": [
    "x_test_neg,y_test_neg = generate_data(-500,-100,50)\n",
    "x_test_pos,y_test_pos = generate_data(100.01,500,50)\n",
    "\n",
    "total_loss = 0\n",
    "for i in range(50):\n",
    "    with torch.no_grad():\n",
    "        y_pred = q4_model(x_test_neg[i])\n",
    "        l1 = criterion(y_pred,y_test_neg[i])\n",
    "    total_loss+=l1\n",
    "\n",
    "for i in range(50):\n",
    "    with torch.no_grad():\n",
    "        y_pred = q4_model(x_test_pos[i])\n",
    "        l1 = criterion(y_pred,y_test_pos[i])\n",
    "    total_loss+=l1\n",
    "\n",
    "print(f'Average loss outside range of training data = {total_loss/100:.6f}')"
   ]
  },
  {
   "cell_type": "markdown",
   "metadata": {},
   "source": [
    "# Q5:"
   ]
  },
  {
   "cell_type": "markdown",
   "metadata": {},
   "source": [
    "(a)"
   ]
  },
  {
   "cell_type": "code",
   "execution_count": 47,
   "metadata": {},
   "outputs": [],
   "source": [
    "class ClocksDataset(Dataset):\n",
    "    \"\"\"Custom Clocks Dataset\"\"\"\n",
    "\n",
    "    def __init__(self,img_dir,transforms=None):\n",
    "\n",
    "        self.img_dir = img_dir\n",
    "        self.transforms=transforms\n",
    "        \n",
    "        images = []\n",
    "        labels = []\n",
    "\n",
    "        for i in range(10000):\n",
    "            images.append(f\"{i:04d}.png\")\n",
    "            labels.append(f\"{i:04d}.txt\")\n",
    "        \n",
    "        self.images = sorted(images)\n",
    "        self.labels = sorted(labels)\n",
    "\n",
    "    def __len__(self):\n",
    "        return len(self.images)\n",
    "\n",
    "    def __getitem__(self,idx):\n",
    "        img_path = self.images[idx]\n",
    "        label_path = self.labels[idx]\n",
    "        if self.transforms:\n",
    "            PIL_image = PIL.Image.open(self.img_dir + img_path)\n",
    "            PIL_image = self.transforms(PIL_image)\n",
    "            image = PIL_image.to(torch.float32)/255.0\n",
    "        else:\n",
    "            image = (read_image(self.img_dir + img_path)).to(torch.float32)/255.0\n",
    "        \n",
    "        label = self.read_label(self.img_dir + label_path)\n",
    "\n",
    "        return image,label\n",
    "    \n",
    "    def read_label(self,label_path):\n",
    "        with open(label_path) as label_file:\n",
    "            raw_label = label_file.read()\n",
    "        label_vals = raw_label.split(':')\n",
    "        label_vals = [float(val) for val in label_vals]\n",
    "        hours = label_vals[0]\n",
    "        mins = label_vals[1]\n",
    "        return torch.tensor((hours,mins), dtype=torch.float32)"
   ]
  },
  {
   "cell_type": "code",
   "execution_count": 48,
   "metadata": {},
   "outputs": [],
   "source": [
    "batch_size = 32\n",
    "dataset = ClocksDataset(\"clocks_dataset/train/\")\n",
    "train_data,validation_data = torch.utils.data.random_split(dataset,[9600,400])"
   ]
  },
  {
   "cell_type": "code",
   "execution_count": 49,
   "metadata": {},
   "outputs": [
    {
     "name": "stdout",
     "output_type": "stream",
     "text": [
      "torch.Size([32, 3, 448, 448])\n",
      "torch.Size([32, 2])\n"
     ]
    }
   ],
   "source": [
    "train_loader = DataLoader(train_data,batch_size=batch_size,shuffle=True)\n",
    "valid_loader = DataLoader(validation_data,batch_size=batch_size,shuffle=True)\n",
    "\n",
    "images,labels = next(iter(train_loader))\n",
    "print(images.shape)\n",
    "print(labels.shape)"
   ]
  },
  {
   "cell_type": "markdown",
   "metadata": {},
   "source": [
    "(b)"
   ]
  },
  {
   "cell_type": "code",
   "execution_count": 50,
   "metadata": {},
   "outputs": [],
   "source": [
    "class ClocksCNN(nn.Module):\n",
    "    def __init__(self):\n",
    "        super(ClocksCNN,self).__init__()\n",
    "        self.layers = nn.Sequential(\n",
    "            nn.Conv2d(in_channels=3,out_channels=16,kernel_size=3,stride=1,padding=1),\n",
    "            nn.BatchNorm2d(16),\n",
    "            nn.ReLU(),\n",
    "            nn.MaxPool2d(kernel_size=2,stride=2), # 16 x 224 x 224\n",
    "            nn.Conv2d(in_channels=16,out_channels=32,kernel_size=3,stride=1,padding=1),\n",
    "            nn.BatchNorm2d(32),\n",
    "            nn.ReLU(),\n",
    "            nn.MaxPool2d(kernel_size=2,stride=2), # 32 x 112 x 112\n",
    "            nn.Conv2d(in_channels=32,out_channels=64,kernel_size=3,stride=1,padding=1),\n",
    "            nn.BatchNorm2d(64),\n",
    "            nn.ReLU(),\n",
    "            nn.MaxPool2d(kernel_size=2,stride=2), # 64 x 56 x 56\n",
    "            nn.Conv2d(in_channels=64,out_channels=128,kernel_size=3,stride=1,padding=1),\n",
    "            nn.BatchNorm2d(128),\n",
    "            nn.ReLU(),\n",
    "            nn.MaxPool2d(kernel_size=4,stride=4), # 128 x 14 x 14\n",
    "            nn.Flatten(),\n",
    "            nn.Dropout(0.5)\n",
    "        )\n",
    "\n",
    "        self.MLPhours = nn.Sequential(\n",
    "            nn.Linear(in_features=128*14*14,out_features=128),\n",
    "            nn.ReLU(),\n",
    "            nn.Linear(in_features=128,out_features=12)\n",
    "        )\n",
    "\n",
    "        self.MLPmins = nn.Sequential(\n",
    "            nn.Linear(in_features=128*14*14,out_features=64),\n",
    "            nn.ReLU(),\n",
    "            nn.Linear(in_features=64,out_features=1)\n",
    "        )\n",
    "\n",
    "\n",
    "    def forward(self,x):\n",
    "        x = self.layers(x)\n",
    "        x = x.view(x.size(0),-1)\n",
    "        hours = self.MLPhours(x)\n",
    "        mins = self.MLPmins(x)\n",
    "        return hours,mins.view(-1)\n",
    "\n",
    "q5_model = ClocksCNN()"
   ]
  },
  {
   "cell_type": "code",
   "execution_count": 51,
   "metadata": {},
   "outputs": [
    {
     "name": "stdout",
     "output_type": "stream",
     "text": [
      "4916621\n"
     ]
    }
   ],
   "source": [
    "total_params = sum(p.numel() for p in q5_model.parameters() if p.requires_grad)\n",
    "print(total_params)"
   ]
  },
  {
   "cell_type": "markdown",
   "metadata": {},
   "source": [
    "(c)"
   ]
  },
  {
   "cell_type": "markdown",
   "metadata": {},
   "source": [
    "The chosen loss function for predicting the hours hand is Cross Entropy loss, as the network is predicting a class for the hours hand, 1-12.\n",
    "\n",
    "The chosen loss function for predicting the minutes hand is Mean Squared Error loss, as the network is predicting the minutes value using regression."
   ]
  },
  {
   "cell_type": "code",
   "execution_count": 52,
   "metadata": {},
   "outputs": [],
   "source": [
    "criterion_h = nn.CrossEntropyLoss()\n",
    "criterion_m = nn.MSELoss()"
   ]
  },
  {
   "cell_type": "code",
   "execution_count": 53,
   "metadata": {},
   "outputs": [
    {
     "name": "stdout",
     "output_type": "stream",
     "text": [
      "Epoch [1/10], Iteration [100/300], Loss (hours): 2.2823, Loss (mins): 205.1466\n",
      "Epoch [1/10], Iteration [200/300], Loss (hours): 1.5485, Loss (mins): 109.8654\n",
      "Epoch [1/10], Iteration [300/300], Loss (hours): 1.3482, Loss (mins): 207.8605\n",
      "Epoch [2/10], Iteration [100/300], Loss (hours): 1.5257, Loss (mins): 197.7208\n",
      "Epoch [2/10], Iteration [200/300], Loss (hours): 1.2508, Loss (mins): 130.9443\n",
      "Epoch [2/10], Iteration [300/300], Loss (hours): 0.9295, Loss (mins): 165.0171\n",
      "Epoch [3/10], Iteration [100/300], Loss (hours): 1.3312, Loss (mins): 162.9437\n",
      "Epoch [3/10], Iteration [200/300], Loss (hours): 0.9646, Loss (mins): 189.1220\n",
      "Epoch [3/10], Iteration [300/300], Loss (hours): 0.8673, Loss (mins): 108.0311\n",
      "Epoch [4/10], Iteration [100/300], Loss (hours): 0.9404, Loss (mins): 98.9444\n",
      "Epoch [4/10], Iteration [200/300], Loss (hours): 0.6903, Loss (mins): 109.8111\n",
      "Epoch [4/10], Iteration [300/300], Loss (hours): 0.9915, Loss (mins): 142.0953\n",
      "Epoch [5/10], Iteration [100/300], Loss (hours): 0.6428, Loss (mins): 117.0939\n",
      "Epoch [5/10], Iteration [200/300], Loss (hours): 0.3159, Loss (mins): 84.3779\n",
      "Epoch [5/10], Iteration [300/300], Loss (hours): 0.8091, Loss (mins): 120.5638\n",
      "Epoch [6/10], Iteration [100/300], Loss (hours): 0.5089, Loss (mins): 91.7368\n",
      "Epoch [6/10], Iteration [200/300], Loss (hours): 0.6543, Loss (mins): 111.5453\n",
      "Epoch [6/10], Iteration [300/300], Loss (hours): 0.3479, Loss (mins): 120.1051\n",
      "Epoch [7/10], Iteration [100/300], Loss (hours): 0.5204, Loss (mins): 76.0171\n",
      "Epoch [7/10], Iteration [200/300], Loss (hours): 0.2744, Loss (mins): 87.5421\n",
      "Epoch [7/10], Iteration [300/300], Loss (hours): 0.5062, Loss (mins): 123.2623\n",
      "Epoch [8/10], Iteration [100/300], Loss (hours): 0.4579, Loss (mins): 88.7949\n",
      "Epoch [8/10], Iteration [200/300], Loss (hours): 0.9386, Loss (mins): 118.1985\n",
      "Epoch [8/10], Iteration [300/300], Loss (hours): 0.5446, Loss (mins): 122.4384\n",
      "Epoch [9/10], Iteration [100/300], Loss (hours): 0.6536, Loss (mins): 67.6877\n",
      "Epoch [9/10], Iteration [200/300], Loss (hours): 0.7786, Loss (mins): 77.2607\n",
      "Epoch [9/10], Iteration [300/300], Loss (hours): 0.6027, Loss (mins): 89.7109\n",
      "Epoch [10/10], Iteration [100/300], Loss (hours): 0.7422, Loss (mins): 116.4920\n",
      "Epoch [10/10], Iteration [200/300], Loss (hours): 0.7394, Loss (mins): 93.9342\n",
      "Epoch [10/10], Iteration [300/300], Loss (hours): 0.5895, Loss (mins): 130.8108\n"
     ]
    }
   ],
   "source": [
    "device = torch.device(\"cuda\" if torch.cuda.is_available() else \"cpu\")\n",
    "\n",
    "q5_model = q5_model.to(device)\n",
    "q5_model.train()\n",
    "\n",
    "num_epochs = 10\n",
    "optim = torch.optim.SGD(q5_model.parameters(),lr=0.005)\n",
    "iterations_per_epoch=300\n",
    "\n",
    "losses_h, losses_m = [],[]\n",
    "\n",
    "for epoch in range(num_epochs):\n",
    "    for i,(images,labels) in enumerate(train_loader):\n",
    "        images,labels = images.to(device),labels.to(device)\n",
    "        labels_h,labels_m = labels[:,0],labels[:,1]\n",
    "        h,m = q5_model(images)\n",
    "        loss1 = criterion_h(h,labels_h.long())\n",
    "        loss2 = criterion_m(m,labels_m)\n",
    "        loss = loss1/3 + loss2/100\n",
    "        optim.zero_grad()\n",
    "        loss.backward()\n",
    "        optim.step()\n",
    "\n",
    "        if (i+1)%50 == 0:\n",
    "            losses_h.append(loss1.item())\n",
    "            losses_m.append(loss2.item())\n",
    "\n",
    "        if (i+1)%100 == 0:\n",
    "            print('Epoch [{}/{}], Iteration [{}/{}], Loss (hours): {:.4f}, Loss (mins): {:.4f}'.format(epoch+1, num_epochs, i+1, iterations_per_epoch, loss1.item(), loss2.item()))"
   ]
  },
  {
   "cell_type": "markdown",
   "metadata": {},
   "source": [
    "Export network weights"
   ]
  },
  {
   "cell_type": "code",
   "execution_count": 54,
   "metadata": {},
   "outputs": [],
   "source": [
    "torch.save(q5_model.state_dict(),'weights.pkl')"
   ]
  },
  {
   "cell_type": "code",
   "execution_count": 55,
   "metadata": {},
   "outputs": [
    {
     "data": {
      "text/plain": [
       "Text(0.5, 1.0, 'Hours prediction loss')"
      ]
     },
     "execution_count": 55,
     "metadata": {},
     "output_type": "execute_result"
    },
    {
     "data": {
      "image/png": "[encoded data removed]",
      "text/plain": [
       "<Figure size 640x480 with 1 Axes>"
      ]
     },
     "metadata": {},
     "output_type": "display_data"
    }
   ],
   "source": [
    "x = np.arange(0,3000,50)\n",
    "losses_h = [val for val in losses_h]\n",
    "plt.scatter(x,losses_h)\n",
    "plt.xlabel(\"Iteration\")\n",
    "plt.ylabel(\"Loss\")\n",
    "plt.title(\"Hours prediction loss\")"
   ]
  },
  {
   "cell_type": "code",
   "execution_count": 56,
   "metadata": {},
   "outputs": [
    {
     "data": {
      "text/plain": [
       "Text(0.5, 1.0, 'Minutes prediction loss')"
      ]
     },
     "execution_count": 56,
     "metadata": {},
     "output_type": "execute_result"
    },
    {
     "data": {
      "image/png": "[encoded data removed]",
      "text/plain": [
       "<Figure size 640x480 with 1 Axes>"
      ]
     },
     "metadata": {},
     "output_type": "display_data"
    }
   ],
   "source": [
    "losses_m = [val for val in losses_m]\n",
    "plt.scatter(x,losses_m)\n",
    "plt.xlabel(\"Iteration\")\n",
    "plt.ylabel(\"Loss\")\n",
    "plt.title(\"Minutes prediction loss\")"
   ]
  },
  {
   "cell_type": "code",
   "execution_count": 57,
   "metadata": {},
   "outputs": [
    {
     "data": {
      "image/png": "[encoded data removed]",
      "text/plain": [
       "<Figure size 640x480 with 1 Axes>"
      ]
     },
     "metadata": {},
     "output_type": "display_data"
    }
   ],
   "source": [
    "plt.plot(x,losses_h,'r',linewidth=0.9)\n",
    "plt.plot(x,losses_m,'g',linewidth=0.9)\n",
    "plt.show()"
   ]
  },
  {
   "cell_type": "markdown",
   "metadata": {},
   "source": [
    "Make predictions on validation set with trained model:"
   ]
  },
  {
   "cell_type": "code",
   "execution_count": 58,
   "metadata": {},
   "outputs": [],
   "source": [
    "def time_diff(hpred,mpred,h_real,m_real):\n",
    "    mins_pred = hpred*60 + mpred\n",
    "    mins_real = h_real*60 + m_real\n",
    "\n",
    "    diff = abs(mins_real-mins_pred)\n",
    "    return min(diff,720-diff)"
   ]
  },
  {
   "cell_type": "code",
   "execution_count": 59,
   "metadata": {},
   "outputs": [],
   "source": [
    "# Uncomment to make a prediction on an item from the validation set and display\n",
    "\n",
    "#device = torch.device(\"cpu\")\n",
    "#q5_model = q5_model.to(device)\n",
    "#q5_model.load_state_dict(torch.load(\"weights.pkl\"))\n",
    "#q5_model.eval()\n",
    "#images_v, labels_v = next(iter(valid_loader))\n",
    "\n",
    "#pred_h_valid,pred_m_valid = q5_model(images_v)\n",
    "\n",
    "#actual_time = (int(labels_v[0][0]),int(labels_v[0][1]))\n",
    "# if minutes is over 60, add however many hours to the hours value and use the remainder for minutes\n",
    "#prediction_mins = divmod(int(round(pred_m_valid[0].item())),60)\n",
    "#predicted_time = (int(pred_h_valid[0].argmax().item())+prediction_mins[0],prediction_mins[1])\n",
    "#plt.imshow(images_v[0].permute(1,2,0))\n",
    "#print(\"Actual time: %d:%d\"%(actual_time[0],actual_time[1]))\n",
    "#print(\"Predicted time: %d:%d\"%(predicted_time[0],predicted_time[1]))\n",
    "#print(\"Error: %d\"%time_diff(predicted_time[0],predicted_time[1],actual_time[0],actual_time[1]))"
   ]
  },
  {
   "cell_type": "code",
   "execution_count": 60,
   "metadata": {},
   "outputs": [],
   "source": [
    "device = torch.device(\"cpu\")\n",
    "q5_model = q5_model.to(device)\n",
    "q5_model.load_state_dict(torch.load(\"weights.pkl\"))\n",
    "q5_model.eval()\n",
    "valid_errors = []\n",
    "images_v, labels_v = next(iter(valid_loader))\n",
    "h_pred,m_pred = q5_model(images_v)\n",
    "for i in range(1):\n",
    "    for j in range(len(h_pred)):\n",
    "        actual_time = (int(labels_v[j][0]),int(labels_v[j][1]))\n",
    "            \n",
    "        prediction_mins = divmod(int(round(m_pred[j].item())),60)\n",
    "        predicted_time = (int(h_pred[j].argmax().item())+prediction_mins[0],prediction_mins[1])\n",
    "        valid_errors.append(time_diff(predicted_time[0],predicted_time[1],actual_time[0],actual_time[1]))"
   ]
  },
  {
   "cell_type": "code",
   "execution_count": 61,
   "metadata": {},
   "outputs": [
    {
     "data": {
      "text/plain": [
       "7.0"
      ]
     },
     "execution_count": 61,
     "metadata": {},
     "output_type": "execute_result"
    }
   ],
   "source": [
    "valid_errors = np.sort(valid_errors)\n",
    "np.median(valid_errors)"
   ]
  },
  {
   "cell_type": "markdown",
   "metadata": {},
   "source": [
    "# Q6:"
   ]
  },
  {
   "cell_type": "code",
   "execution_count": 62,
   "metadata": {},
   "outputs": [],
   "source": [
    "# hyperparameters\n",
    "nz = 100 # size of z vector (generator input)\n",
    "nc = 3 # number of input channels (colour image so 3)\n",
    "ngf = 32 # size of feature maps in generator\n",
    "ndf = 32 # size of feature maps in discriminator\n",
    "\n",
    "batch_size = 64\n",
    "num_epochs = 5\n",
    "lr = 0.0002\n",
    "beta1 = 0.5"
   ]
  },
  {
   "cell_type": "code",
   "execution_count": 63,
   "metadata": {},
   "outputs": [],
   "source": [
    "transform = transforms.Compose([transforms.ToTensor(),transforms.CenterCrop(128),transforms.Normalize(0.5,0.5)])\n",
    "dataset = ClocksDataset(\"clocks_dataset/train/\",transforms=transform)\n",
    "dataloader = DataLoader(dataset, batch_size=batch_size,shuffle=True)\n",
    "device = torch.device(\"cuda\" if torch.cuda.is_available() else \"cpu\")"
   ]
  },
  {
   "cell_type": "code",
   "execution_count": 64,
   "metadata": {},
   "outputs": [
    {
     "data": {
      "image/png": "[encoded data removed]",
      "text/plain": [
       "<Figure size 800x800 with 1 Axes>"
      ]
     },
     "metadata": {},
     "output_type": "display_data"
    }
   ],
   "source": [
    "import torchvision.utils as vutils\n",
    "real_batch = next(iter(dataloader))\n",
    "plt.figure(figsize=(8,8))\n",
    "plt.axis(\"off\")\n",
    "plt.title(\"Training Images\")\n",
    "plt.imshow(np.transpose(vutils.make_grid(real_batch[0].to(device)[:64], padding=2, normalize=True).cpu(),(1,2,0)))\n",
    "plt.show()"
   ]
  },
  {
   "cell_type": "code",
   "execution_count": 65,
   "metadata": {},
   "outputs": [],
   "source": [
    "class Generator(nn.Module):\n",
    "    def __init__(self):\n",
    "        super(Generator, self).__init__()\n",
    "        self.layers = nn.Sequential(\n",
    "            # Z of size B x nz x 1 x 1\n",
    "            nn.ConvTranspose2d(nz, ngf*8,4,1,0,bias=False),\n",
    "            nn.BatchNorm2d(ngf*8),\n",
    "            nn.ReLU(True),\n",
    "            # Size B x (ngf*8) x 4 x 4\n",
    "            nn.ConvTranspose2d(ngf*8,ngf*4,4,2,1,bias=False),\n",
    "            nn.BatchNorm2d(ngf * 4),\n",
    "            nn.ReLU(True),\n",
    "            # Size B x (ngf*4) x 8 x 8\n",
    "            nn.ConvTranspose2d( ngf * 4, ngf * 2, 4, 2, 1, bias=False),\n",
    "            nn.BatchNorm2d(ngf * 2),\n",
    "            nn.ReLU(True),\n",
    "            # Size B x (ngf*2) x 16 x 16\n",
    "            nn.ConvTranspose2d( ngf * 2, ngf, 4, 2, 1, bias=False),\n",
    "            nn.BatchNorm2d(ngf),\n",
    "            nn.ReLU(True),\n",
    "            # Size B x (ngf) x 32 x 32\n",
    "            nn.ConvTranspose2d( ngf, nc, 4, 2, 1, bias=False),\n",
    "            nn.Tanh()\n",
    "            # B x (nc) x 64 x 64\n",
    "        )\n",
    "    \n",
    "    def forward(self, input):\n",
    "        return self.layers(input)"
   ]
  },
  {
   "cell_type": "code",
   "execution_count": 66,
   "metadata": {},
   "outputs": [],
   "source": [
    "netG = Generator().to(device)"
   ]
  },
  {
   "cell_type": "code",
   "execution_count": 67,
   "metadata": {},
   "outputs": [],
   "source": [
    "class Discriminator(nn.Module):\n",
    "    def __init__(self):\n",
    "        super(Discriminator,self).__init__()\n",
    "        self.layers = nn.Sequential(\n",
    "            nn.Conv2d(nc,ndf,4,2,1,bias=False),\n",
    "            nn.LeakyReLU(0.2, inplace=True),\n",
    "            # Size B x (ndf) x 32 x 32\n",
    "            nn.Conv2d(ndf, ndf * 2, 4, 2, 1, bias=False),\n",
    "            nn.BatchNorm2d(ndf * 2),\n",
    "            nn.LeakyReLU(0.2, inplace=True),\n",
    "            # Size (ndf*2) x 16 x 16\n",
    "            nn.Conv2d(ndf * 2, ndf * 4, 4, 2, 1, bias=False),\n",
    "            nn.BatchNorm2d(ndf * 4),\n",
    "            nn.LeakyReLU(0.2, inplace=True),\n",
    "            # Size(ndf*4) x 8 x 8\n",
    "            nn.Conv2d(ndf * 4, ndf * 8, 4, 2, 1, bias=False),\n",
    "            nn.BatchNorm2d(ndf * 8),\n",
    "            nn.LeakyReLU(0.2, inplace=True),\n",
    "            # Size (ndf*8) x 4 x 4\n",
    "            nn.Conv2d(ndf * 8, 1, 4, 1, 0, bias=False),\n",
    "            nn.Sigmoid(),\n",
    "            nn.Flatten(),\n",
    "            nn.Linear(25,1)\n",
    "        )\n",
    "\n",
    "    def forward(self,input):\n",
    "        return self.layers(input)"
   ]
  },
  {
   "cell_type": "code",
   "execution_count": 68,
   "metadata": {},
   "outputs": [],
   "source": [
    "netD = Discriminator().to(device)"
   ]
  },
  {
   "cell_type": "code",
   "execution_count": 69,
   "metadata": {},
   "outputs": [],
   "source": [
    "criterion_q6 = nn.BCELoss()\n",
    "\n",
    "real_label = 1\n",
    "fake_label = 0\n",
    "\n",
    "optimizerD = torch.optim.Adam(netD.parameters(), lr=lr, betas=(beta1, 0.999))\n",
    "optimizerG = torch.optim.Adam(netG.parameters(), lr=lr, betas=(beta1, 0.999))"
   ]
  },
  {
   "cell_type": "code",
   "execution_count": 70,
   "metadata": {},
   "outputs": [
    {
     "ename": "RuntimeError",
     "evalue": "mat1 and mat2 shapes cannot be multiplied (64x1 and 25x1)",
     "output_type": "error",
     "traceback": [
      "\u001b[1;31m---------------------------------------------------------------------------\u001b[0m",
      "\u001b[1;31mRuntimeError\u001b[0m                              Traceback (most recent call last)",
      "\u001b[1;32m~\\AppData\\Local\\Temp\\ipykernel_3772\\200468138.py\u001b[0m in \u001b[0;36m<module>\u001b[1;34m\u001b[0m\n\u001b[0;32m     18\u001b[0m         \u001b[0mlabel\u001b[0m\u001b[1;33m.\u001b[0m\u001b[0mfill_\u001b[0m\u001b[1;33m(\u001b[0m\u001b[0mfake_label\u001b[0m\u001b[1;33m)\u001b[0m\u001b[1;33m\u001b[0m\u001b[1;33m\u001b[0m\u001b[0m\n\u001b[0;32m     19\u001b[0m \u001b[1;33m\u001b[0m\u001b[0m\n\u001b[1;32m---> 20\u001b[1;33m         \u001b[0moutput\u001b[0m \u001b[1;33m=\u001b[0m \u001b[0mnetD\u001b[0m\u001b[1;33m(\u001b[0m\u001b[0mfake\u001b[0m\u001b[1;33m.\u001b[0m\u001b[0mdetach\u001b[0m\u001b[1;33m(\u001b[0m\u001b[1;33m)\u001b[0m\u001b[1;33m)\u001b[0m\u001b[1;33m.\u001b[0m\u001b[0mview\u001b[0m\u001b[1;33m(\u001b[0m\u001b[1;33m-\u001b[0m\u001b[1;36m1\u001b[0m\u001b[1;33m)\u001b[0m\u001b[1;33m\u001b[0m\u001b[1;33m\u001b[0m\u001b[0m\n\u001b[0m\u001b[0;32m     21\u001b[0m         \u001b[0merrD_fake\u001b[0m \u001b[1;33m=\u001b[0m \u001b[0mcriterion_q6\u001b[0m\u001b[1;33m(\u001b[0m\u001b[0moutput\u001b[0m\u001b[1;33m,\u001b[0m\u001b[0mlabel\u001b[0m\u001b[1;33m)\u001b[0m\u001b[1;33m\u001b[0m\u001b[1;33m\u001b[0m\u001b[0m\n\u001b[0;32m     22\u001b[0m         \u001b[0merrD_fake\u001b[0m\u001b[1;33m.\u001b[0m\u001b[0mbackward\u001b[0m\u001b[1;33m(\u001b[0m\u001b[1;33m)\u001b[0m\u001b[1;33m\u001b[0m\u001b[1;33m\u001b[0m\u001b[0m\n",
      "\u001b[1;32mc:\\Users\\Josh\\anaconda3\\lib\\site-packages\\torch\\nn\\modules\\module.py\u001b[0m in \u001b[0;36m_wrapped_call_impl\u001b[1;34m(self, *args, **kwargs)\u001b[0m\n\u001b[0;32m   1530\u001b[0m             \u001b[1;32mreturn\u001b[0m \u001b[0mself\u001b[0m\u001b[1;33m.\u001b[0m\u001b[0m_compiled_call_impl\u001b[0m\u001b[1;33m(\u001b[0m\u001b[1;33m*\u001b[0m\u001b[0margs\u001b[0m\u001b[1;33m,\u001b[0m \u001b[1;33m**\u001b[0m\u001b[0mkwargs\u001b[0m\u001b[1;33m)\u001b[0m  \u001b[1;31m# type: ignore[misc]\u001b[0m\u001b[1;33m\u001b[0m\u001b[1;33m\u001b[0m\u001b[0m\n\u001b[0;32m   1531\u001b[0m         \u001b[1;32melse\u001b[0m\u001b[1;33m:\u001b[0m\u001b[1;33m\u001b[0m\u001b[1;33m\u001b[0m\u001b[0m\n\u001b[1;32m-> 1532\u001b[1;33m             \u001b[1;32mreturn\u001b[0m \u001b[0mself\u001b[0m\u001b[1;33m.\u001b[0m\u001b[0m_call_impl\u001b[0m\u001b[1;33m(\u001b[0m\u001b[1;33m*\u001b[0m\u001b[0margs\u001b[0m\u001b[1;33m,\u001b[0m \u001b[1;33m**\u001b[0m\u001b[0mkwargs\u001b[0m\u001b[1;33m)\u001b[0m\u001b[1;33m\u001b[0m\u001b[1;33m\u001b[0m\u001b[0m\n\u001b[0m\u001b[0;32m   1533\u001b[0m \u001b[1;33m\u001b[0m\u001b[0m\n\u001b[0;32m   1534\u001b[0m     \u001b[1;32mdef\u001b[0m \u001b[0m_call_impl\u001b[0m\u001b[1;33m(\u001b[0m\u001b[0mself\u001b[0m\u001b[1;33m,\u001b[0m \u001b[1;33m*\u001b[0m\u001b[0margs\u001b[0m\u001b[1;33m,\u001b[0m \u001b[1;33m**\u001b[0m\u001b[0mkwargs\u001b[0m\u001b[1;33m)\u001b[0m\u001b[1;33m:\u001b[0m\u001b[1;33m\u001b[0m\u001b[1;33m\u001b[0m\u001b[0m\n",
      "\u001b[1;32mc:\\Users\\Josh\\anaconda3\\lib\\site-packages\\torch\\nn\\modules\\module.py\u001b[0m in \u001b[0;36m_call_impl\u001b[1;34m(self, *args, **kwargs)\u001b[0m\n\u001b[0;32m   1539\u001b[0m                 \u001b[1;32mor\u001b[0m \u001b[0m_global_backward_pre_hooks\u001b[0m \u001b[1;32mor\u001b[0m \u001b[0m_global_backward_hooks\u001b[0m\u001b[1;33m\u001b[0m\u001b[1;33m\u001b[0m\u001b[0m\n\u001b[0;32m   1540\u001b[0m                 or _global_forward_hooks or _global_forward_pre_hooks):\n\u001b[1;32m-> 1541\u001b[1;33m             \u001b[1;32mreturn\u001b[0m \u001b[0mforward_call\u001b[0m\u001b[1;33m(\u001b[0m\u001b[1;33m*\u001b[0m\u001b[0margs\u001b[0m\u001b[1;33m,\u001b[0m \u001b[1;33m**\u001b[0m\u001b[0mkwargs\u001b[0m\u001b[1;33m)\u001b[0m\u001b[1;33m\u001b[0m\u001b[1;33m\u001b[0m\u001b[0m\n\u001b[0m\u001b[0;32m   1542\u001b[0m \u001b[1;33m\u001b[0m\u001b[0m\n\u001b[0;32m   1543\u001b[0m         \u001b[1;32mtry\u001b[0m\u001b[1;33m:\u001b[0m\u001b[1;33m\u001b[0m\u001b[1;33m\u001b[0m\u001b[0m\n",
      "\u001b[1;32m~\\AppData\\Local\\Temp\\ipykernel_3772\\1167954641.py\u001b[0m in \u001b[0;36mforward\u001b[1;34m(self, input)\u001b[0m\n\u001b[0;32m     25\u001b[0m \u001b[1;33m\u001b[0m\u001b[0m\n\u001b[0;32m     26\u001b[0m     \u001b[1;32mdef\u001b[0m \u001b[0mforward\u001b[0m\u001b[1;33m(\u001b[0m\u001b[0mself\u001b[0m\u001b[1;33m,\u001b[0m\u001b[0minput\u001b[0m\u001b[1;33m)\u001b[0m\u001b[1;33m:\u001b[0m\u001b[1;33m\u001b[0m\u001b[1;33m\u001b[0m\u001b[0m\n\u001b[1;32m---> 27\u001b[1;33m         \u001b[1;32mreturn\u001b[0m \u001b[0mself\u001b[0m\u001b[1;33m.\u001b[0m\u001b[0mlayers\u001b[0m\u001b[1;33m(\u001b[0m\u001b[0minput\u001b[0m\u001b[1;33m)\u001b[0m\u001b[1;33m\u001b[0m\u001b[1;33m\u001b[0m\u001b[0m\n\u001b[0m",
      "\u001b[1;32mc:\\Users\\Josh\\anaconda3\\lib\\site-packages\\torch\\nn\\modules\\module.py\u001b[0m in \u001b[0;36m_wrapped_call_impl\u001b[1;34m(self, *args, **kwargs)\u001b[0m\n\u001b[0;32m   1530\u001b[0m             \u001b[1;32mreturn\u001b[0m \u001b[0mself\u001b[0m\u001b[1;33m.\u001b[0m\u001b[0m_compiled_call_impl\u001b[0m\u001b[1;33m(\u001b[0m\u001b[1;33m*\u001b[0m\u001b[0margs\u001b[0m\u001b[1;33m,\u001b[0m \u001b[1;33m**\u001b[0m\u001b[0mkwargs\u001b[0m\u001b[1;33m)\u001b[0m  \u001b[1;31m# type: ignore[misc]\u001b[0m\u001b[1;33m\u001b[0m\u001b[1;33m\u001b[0m\u001b[0m\n\u001b[0;32m   1531\u001b[0m         \u001b[1;32melse\u001b[0m\u001b[1;33m:\u001b[0m\u001b[1;33m\u001b[0m\u001b[1;33m\u001b[0m\u001b[0m\n\u001b[1;32m-> 1532\u001b[1;33m             \u001b[1;32mreturn\u001b[0m \u001b[0mself\u001b[0m\u001b[1;33m.\u001b[0m\u001b[0m_call_impl\u001b[0m\u001b[1;33m(\u001b[0m\u001b[1;33m*\u001b[0m\u001b[0margs\u001b[0m\u001b[1;33m,\u001b[0m \u001b[1;33m**\u001b[0m\u001b[0mkwargs\u001b[0m\u001b[1;33m)\u001b[0m\u001b[1;33m\u001b[0m\u001b[1;33m\u001b[0m\u001b[0m\n\u001b[0m\u001b[0;32m   1533\u001b[0m \u001b[1;33m\u001b[0m\u001b[0m\n\u001b[0;32m   1534\u001b[0m     \u001b[1;32mdef\u001b[0m \u001b[0m_call_impl\u001b[0m\u001b[1;33m(\u001b[0m\u001b[0mself\u001b[0m\u001b[1;33m,\u001b[0m \u001b[1;33m*\u001b[0m\u001b[0margs\u001b[0m\u001b[1;33m,\u001b[0m \u001b[1;33m**\u001b[0m\u001b[0mkwargs\u001b[0m\u001b[1;33m)\u001b[0m\u001b[1;33m:\u001b[0m\u001b[1;33m\u001b[0m\u001b[1;33m\u001b[0m\u001b[0m\n",
      "\u001b[1;32mc:\\Users\\Josh\\anaconda3\\lib\\site-packages\\torch\\nn\\modules\\module.py\u001b[0m in \u001b[0;36m_call_impl\u001b[1;34m(self, *args, **kwargs)\u001b[0m\n\u001b[0;32m   1539\u001b[0m                 \u001b[1;32mor\u001b[0m \u001b[0m_global_backward_pre_hooks\u001b[0m \u001b[1;32mor\u001b[0m \u001b[0m_global_backward_hooks\u001b[0m\u001b[1;33m\u001b[0m\u001b[1;33m\u001b[0m\u001b[0m\n\u001b[0;32m   1540\u001b[0m                 or _global_forward_hooks or _global_forward_pre_hooks):\n\u001b[1;32m-> 1541\u001b[1;33m             \u001b[1;32mreturn\u001b[0m \u001b[0mforward_call\u001b[0m\u001b[1;33m(\u001b[0m\u001b[1;33m*\u001b[0m\u001b[0margs\u001b[0m\u001b[1;33m,\u001b[0m \u001b[1;33m**\u001b[0m\u001b[0mkwargs\u001b[0m\u001b[1;33m)\u001b[0m\u001b[1;33m\u001b[0m\u001b[1;33m\u001b[0m\u001b[0m\n\u001b[0m\u001b[0;32m   1542\u001b[0m \u001b[1;33m\u001b[0m\u001b[0m\n\u001b[0;32m   1543\u001b[0m         \u001b[1;32mtry\u001b[0m\u001b[1;33m:\u001b[0m\u001b[1;33m\u001b[0m\u001b[1;33m\u001b[0m\u001b[0m\n",
      "\u001b[1;32mc:\\Users\\Josh\\anaconda3\\lib\\site-packages\\torch\\nn\\modules\\container.py\u001b[0m in \u001b[0;36mforward\u001b[1;34m(self, input)\u001b[0m\n\u001b[0;32m    215\u001b[0m     \u001b[1;32mdef\u001b[0m \u001b[0mforward\u001b[0m\u001b[1;33m(\u001b[0m\u001b[0mself\u001b[0m\u001b[1;33m,\u001b[0m \u001b[0minput\u001b[0m\u001b[1;33m)\u001b[0m\u001b[1;33m:\u001b[0m\u001b[1;33m\u001b[0m\u001b[1;33m\u001b[0m\u001b[0m\n\u001b[0;32m    216\u001b[0m         \u001b[1;32mfor\u001b[0m \u001b[0mmodule\u001b[0m \u001b[1;32min\u001b[0m \u001b[0mself\u001b[0m\u001b[1;33m:\u001b[0m\u001b[1;33m\u001b[0m\u001b[1;33m\u001b[0m\u001b[0m\n\u001b[1;32m--> 217\u001b[1;33m             \u001b[0minput\u001b[0m \u001b[1;33m=\u001b[0m \u001b[0mmodule\u001b[0m\u001b[1;33m(\u001b[0m\u001b[0minput\u001b[0m\u001b[1;33m)\u001b[0m\u001b[1;33m\u001b[0m\u001b[1;33m\u001b[0m\u001b[0m\n\u001b[0m\u001b[0;32m    218\u001b[0m         \u001b[1;32mreturn\u001b[0m \u001b[0minput\u001b[0m\u001b[1;33m\u001b[0m\u001b[1;33m\u001b[0m\u001b[0m\n\u001b[0;32m    219\u001b[0m \u001b[1;33m\u001b[0m\u001b[0m\n",
      "\u001b[1;32mc:\\Users\\Josh\\anaconda3\\lib\\site-packages\\torch\\nn\\modules\\module.py\u001b[0m in \u001b[0;36m_wrapped_call_impl\u001b[1;34m(self, *args, **kwargs)\u001b[0m\n\u001b[0;32m   1530\u001b[0m             \u001b[1;32mreturn\u001b[0m \u001b[0mself\u001b[0m\u001b[1;33m.\u001b[0m\u001b[0m_compiled_call_impl\u001b[0m\u001b[1;33m(\u001b[0m\u001b[1;33m*\u001b[0m\u001b[0margs\u001b[0m\u001b[1;33m,\u001b[0m \u001b[1;33m**\u001b[0m\u001b[0mkwargs\u001b[0m\u001b[1;33m)\u001b[0m  \u001b[1;31m# type: ignore[misc]\u001b[0m\u001b[1;33m\u001b[0m\u001b[1;33m\u001b[0m\u001b[0m\n\u001b[0;32m   1531\u001b[0m         \u001b[1;32melse\u001b[0m\u001b[1;33m:\u001b[0m\u001b[1;33m\u001b[0m\u001b[1;33m\u001b[0m\u001b[0m\n\u001b[1;32m-> 1532\u001b[1;33m             \u001b[1;32mreturn\u001b[0m \u001b[0mself\u001b[0m\u001b[1;33m.\u001b[0m\u001b[0m_call_impl\u001b[0m\u001b[1;33m(\u001b[0m\u001b[1;33m*\u001b[0m\u001b[0margs\u001b[0m\u001b[1;33m,\u001b[0m \u001b[1;33m**\u001b[0m\u001b[0mkwargs\u001b[0m\u001b[1;33m)\u001b[0m\u001b[1;33m\u001b[0m\u001b[1;33m\u001b[0m\u001b[0m\n\u001b[0m\u001b[0;32m   1533\u001b[0m \u001b[1;33m\u001b[0m\u001b[0m\n\u001b[0;32m   1534\u001b[0m     \u001b[1;32mdef\u001b[0m \u001b[0m_call_impl\u001b[0m\u001b[1;33m(\u001b[0m\u001b[0mself\u001b[0m\u001b[1;33m,\u001b[0m \u001b[1;33m*\u001b[0m\u001b[0margs\u001b[0m\u001b[1;33m,\u001b[0m \u001b[1;33m**\u001b[0m\u001b[0mkwargs\u001b[0m\u001b[1;33m)\u001b[0m\u001b[1;33m:\u001b[0m\u001b[1;33m\u001b[0m\u001b[1;33m\u001b[0m\u001b[0m\n",
      "\u001b[1;32mc:\\Users\\Josh\\anaconda3\\lib\\site-packages\\torch\\nn\\modules\\module.py\u001b[0m in \u001b[0;36m_call_impl\u001b[1;34m(self, *args, **kwargs)\u001b[0m\n\u001b[0;32m   1539\u001b[0m                 \u001b[1;32mor\u001b[0m \u001b[0m_global_backward_pre_hooks\u001b[0m \u001b[1;32mor\u001b[0m \u001b[0m_global_backward_hooks\u001b[0m\u001b[1;33m\u001b[0m\u001b[1;33m\u001b[0m\u001b[0m\n\u001b[0;32m   1540\u001b[0m                 or _global_forward_hooks or _global_forward_pre_hooks):\n\u001b[1;32m-> 1541\u001b[1;33m             \u001b[1;32mreturn\u001b[0m \u001b[0mforward_call\u001b[0m\u001b[1;33m(\u001b[0m\u001b[1;33m*\u001b[0m\u001b[0margs\u001b[0m\u001b[1;33m,\u001b[0m \u001b[1;33m**\u001b[0m\u001b[0mkwargs\u001b[0m\u001b[1;33m)\u001b[0m\u001b[1;33m\u001b[0m\u001b[1;33m\u001b[0m\u001b[0m\n\u001b[0m\u001b[0;32m   1542\u001b[0m \u001b[1;33m\u001b[0m\u001b[0m\n\u001b[0;32m   1543\u001b[0m         \u001b[1;32mtry\u001b[0m\u001b[1;33m:\u001b[0m\u001b[1;33m\u001b[0m\u001b[1;33m\u001b[0m\u001b[0m\n",
      "\u001b[1;32mc:\\Users\\Josh\\anaconda3\\lib\\site-packages\\torch\\nn\\modules\\linear.py\u001b[0m in \u001b[0;36mforward\u001b[1;34m(self, input)\u001b[0m\n\u001b[0;32m    114\u001b[0m \u001b[1;33m\u001b[0m\u001b[0m\n\u001b[0;32m    115\u001b[0m     \u001b[1;32mdef\u001b[0m \u001b[0mforward\u001b[0m\u001b[1;33m(\u001b[0m\u001b[0mself\u001b[0m\u001b[1;33m,\u001b[0m \u001b[0minput\u001b[0m\u001b[1;33m:\u001b[0m \u001b[0mTensor\u001b[0m\u001b[1;33m)\u001b[0m \u001b[1;33m->\u001b[0m \u001b[0mTensor\u001b[0m\u001b[1;33m:\u001b[0m\u001b[1;33m\u001b[0m\u001b[1;33m\u001b[0m\u001b[0m\n\u001b[1;32m--> 116\u001b[1;33m         \u001b[1;32mreturn\u001b[0m \u001b[0mF\u001b[0m\u001b[1;33m.\u001b[0m\u001b[0mlinear\u001b[0m\u001b[1;33m(\u001b[0m\u001b[0minput\u001b[0m\u001b[1;33m,\u001b[0m \u001b[0mself\u001b[0m\u001b[1;33m.\u001b[0m\u001b[0mweight\u001b[0m\u001b[1;33m,\u001b[0m \u001b[0mself\u001b[0m\u001b[1;33m.\u001b[0m\u001b[0mbias\u001b[0m\u001b[1;33m)\u001b[0m\u001b[1;33m\u001b[0m\u001b[1;33m\u001b[0m\u001b[0m\n\u001b[0m\u001b[0;32m    117\u001b[0m \u001b[1;33m\u001b[0m\u001b[0m\n\u001b[0;32m    118\u001b[0m     \u001b[1;32mdef\u001b[0m \u001b[0mextra_repr\u001b[0m\u001b[1;33m(\u001b[0m\u001b[0mself\u001b[0m\u001b[1;33m)\u001b[0m \u001b[1;33m->\u001b[0m \u001b[0mstr\u001b[0m\u001b[1;33m:\u001b[0m\u001b[1;33m\u001b[0m\u001b[1;33m\u001b[0m\u001b[0m\n",
      "\u001b[1;31mRuntimeError\u001b[0m: mat1 and mat2 shapes cannot be multiplied (64x1 and 25x1)"
     ]
    }
   ],
   "source": [
    "for epoch in range(num_epochs):\n",
    "    for i, (images,labels) in enumerate(dataloader,0):\n",
    "        # Update D network\n",
    "        # Real batch\n",
    "        netD.zero_grad()\n",
    "        real_images = images.to(device)\n",
    "        label = torch.full((batch_size,),real_label, dtype=torch.float32,device=device)\n",
    "        \n",
    "        output = netD(real_images).view(-1)\n",
    "        errD_real = criterion_q6(output,label)\n",
    "        errD_real.backward()\n",
    "\n",
    "        D_x = output.mean().item()\n",
    "\n",
    "        # Fake batch\n",
    "        z = torch.randn(batch_size,nz,1,1,device=device)\n",
    "        fake = netG(z)\n",
    "        label.fill_(fake_label)\n",
    "\n",
    "        output = netD(fake.detach()).view(-1)\n",
    "        errD_fake = criterion_q6(output,label)\n",
    "        errD_fake.backward()\n",
    "        D_G_z1 = output.mean().item()\n",
    "\n",
    "        errD = errD_real + errD_fake\n",
    "        optimizerD.step()\n",
    "\n",
    "        # Update G network\n",
    "        netG.zero_grad()\n",
    "        label.fill_(real_label)\n",
    "\n",
    "        output = netD(fake).view(-1)\n",
    "        errG = criterion_q6(output,label)\n",
    "        errG.backward()\n",
    "\n",
    "        D_G_z2 = output.mean().item()\n",
    "        optimizerG.step()\n",
    "\n",
    "        if i % 50 == 0:\n",
    "            print('[%d/%d][%d/%d]\\tLoss_D: %.4f\\tLoss_G: %.4f\\tD(x): %.4f\\tD(G(z)): %.4f / %.4f'\n",
    "                  % (epoch+1, num_epochs, i, len(dataloader),\n",
    "                     errD.item(), errG.item(), D_x, D_G_z1, D_G_z2))"
   ]
  }
 ],
 "metadata": {
  "kernelspec": {
   "display_name": "base",
   "language": "python",
   "name": "python3"
  },
  "language_info": {
   "codemirror_mode": {
    "name": "ipython",
    "version": 3
   },
   "file_extension": ".py",
   "mimetype": "text/x-python",
   "name": "python",
   "nbconvert_exporter": "python",
   "pygments_lexer": "ipython3",
   "version": "3.9.13"
  }
 },
 "nbformat": 4,
 "nbformat_minor": 2
}
